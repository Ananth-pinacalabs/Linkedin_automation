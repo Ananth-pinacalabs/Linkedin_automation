{
 "cells": [
  {
   "cell_type": "code",
   "execution_count": 143,
   "metadata": {},
   "outputs": [],
   "source": [
    "from selenium import webdriver\n",
    "from selenium.webdriver.common.keys import Keys\n",
    "from selenium.webdriver.support import expected_conditions as ec\n",
    "from selenium.webdriver.common.by import By\n",
    "from selenium.webdriver.support.wait import WebDriverWait\n",
    "from selenium.webdriver.chrome.service import Service\n",
    "from webdriver_manager.chrome import ChromeDriverManager"
   ]
  },
  {
   "cell_type": "markdown",
   "metadata": {},
   "source": [
    "Create a Browser instance"
   ]
  },
  {
   "cell_type": "code",
   "execution_count": 144,
   "metadata": {},
   "outputs": [],
   "source": [
    "\n",
    "driver = webdriver.Chrome(service=Service(ChromeDriverManager().install()))"
   ]
  },
  {
   "cell_type": "code",
   "execution_count": 145,
   "metadata": {},
   "outputs": [],
   "source": [
    "# open LinkedIn login\n",
    "driver.get(\"https://www.linkedin.com/login?fromSignIn=true&trk=guest_homepage-basic_nav-header-signin\")\n",
    "\n",
    "# login with Credentials\n",
    "username = WebDriverWait(driver, 50).until(ec.element_to_be_clickable((By.CSS_SELECTOR, \"input[id='username']\")))\n",
    "password = WebDriverWait(driver, 50).until(ec.element_to_be_clickable((By.CSS_SELECTOR, \"input[id='password']\")))\n",
    "username.clear()\n",
    "username.send_keys(\"iamananth123@gmail.com\")\n",
    "password.clear()\n",
    "password.send_keys(\"anantharaman\")\n",
    "\n",
    "\n",
    "submit_button = WebDriverWait(driver, 50).until(ec.element_to_be_clickable((By.CSS_SELECTOR, \"button[type='submit']\")))\n",
    "submit_button.click()\n"
   ]
  },
  {
   "cell_type": "code",
   "execution_count": 146,
   "metadata": {},
   "outputs": [
    {
     "name": "stdout",
     "output_type": "stream",
     "text": [
      "['https://www.linkedin.com/jobs/search/?currentJobId=3947262572&keywords=machine%20learning&origin=SWITCH_SEARCH_VERTICAL', 'https://www.linkedin.com/jobs/search/?currentJobId=3967471753&geoId=102713980&keywords=deep%20learning&origin=JOB_SEARCH_PAGE_SEARCH_BUTTON&refresh=true', 'https://www.linkedin.com/jobs/search/?currentJobId=3981401852&geoId=102713980&keywords=computer%20vision&origin=JOB_SEARCH_PAGE_SEARCH_BUTTON&refresh=true']\n"
     ]
    }
   ],
   "source": [
    "# get links -- links contain the direct link to job search with  some predecided job titles. \n",
    "\n",
    "links = []\n",
    "with open(\"links.txt\", \"r\") as links:\n",
    "    links = links.readline().split(\",\") \n",
    "\n",
    "print(links)\n",
    "driver.get(links[0])"
   ]
  },
  {
   "cell_type": "markdown",
   "metadata": {},
   "source": [
    "use this"
   ]
  },
  {
   "cell_type": "code",
   "execution_count": 148,
   "metadata": {},
   "outputs": [
    {
     "name": "stdout",
     "output_type": "stream",
     "text": [
      "Is the element scrollable? Yes\n"
     ]
    }
   ],
   "source": [
    "element = driver.find_element(By.CSS_SELECTOR, '.jobs-search-results-list')\n",
    "\n",
    "# Check if the element is scrollable vertically\n",
    "is_scrollable = element.get_attribute('scrollHeight') > element.get_attribute('clientHeight')\n",
    "\n",
    "# Print the result\n",
    "print(f\"Is the element scrollable? {'Yes' if is_scrollable else 'No'}\")\n"
   ]
  },
  {
   "cell_type": "markdown",
   "metadata": {},
   "source": [
    "and this"
   ]
  },
  {
   "cell_type": "code",
   "execution_count": 149,
   "metadata": {},
   "outputs": [],
   "source": [
    "\n",
    "(driver).execute_script(\"arguments[0].scrollTo(0,6000000);\", element)\n"
   ]
  },
  {
   "cell_type": "code",
   "execution_count": 150,
   "metadata": {},
   "outputs": [
    {
     "name": "stdout",
     "output_type": "stream",
     "text": [
      "8\n"
     ]
    }
   ],
   "source": [
    "job_list = WebDriverWait(driver, 10).until(ec.element_to_be_clickable((By.CSS_SELECTOR, \"ul[class='scaffold-layout__list-container']\")))\n",
    "job_cards = job_list.find_elements(By.XPATH, \".//div[@data-view-name = 'job-card']\")\n",
    "print(len(job_cards))\n",
    "\n",
    "link_list = []\n",
    "for job_card in job_cards:\n",
    "    \n",
    "    link = job_card.find_element(By.XPATH, \".//a\")\n",
    "    link.click()\n"
   ]
  },
  {
   "cell_type": "code",
   "execution_count": 134,
   "metadata": {},
   "outputs": [],
   "source": [
    "job_list = WebDriverWait(driver, 10).until(ec.element_to_be_clickable((By.CSS_SELECTOR, \"ul[class='scaffold-layout__list-container']\")))\n",
    "\n",
    "(driver).execute_script(\"arguments[0].scrollTo(0,6000000);\", job_list)\n"
   ]
  },
  {
   "cell_type": "code",
   "execution_count": 74,
   "metadata": {},
   "outputs": [],
   "source": [
    "job_cards_panel = WebDriverWait(driver, 10).until(ec.element_to_be_clickable((By.XPATH, '//div[starts-with(@class, \"jobs-search-results-list\")]')))\n",
    "(driver).execute_script(\"arguments[0].scrollTo(0,6000000);\", job_cards_panel)"
   ]
  },
  {
   "cell_type": "code",
   "execution_count": 68,
   "metadata": {},
   "outputs": [],
   "source": [
    "job_list = WebDriverWait(driver, 10).until(ec.element_to_be_clickable((By.CSS_SELECTOR, \"ul[class='scaffold-layout__list-container']\")))\n",
    "\n",
    "# scroll to render/ load  all the job cards \n",
    "(driver).execute_script(\"arguments[0].scrollTo(0,6000000);\", job_list)\n"
   ]
  },
  {
   "cell_type": "code",
   "execution_count": 79,
   "metadata": {},
   "outputs": [],
   "source": [
    "element = driver.find_element(By.XPATH, '//div[@data-results-list-top-scroll-sentinel=\"\"]')\n",
    "(driver).execute_script(\"arguments[0].scrollTo(0,6000000);\", element)\n"
   ]
  },
  {
   "cell_type": "code",
   "execution_count": 77,
   "metadata": {},
   "outputs": [],
   "source": [
    "job_list = WebDriverWait(driver, 10).until(ec.element_to_be_clickable((By.XPATH, \"ul[class='scaffold-layout__list-container']\")))\n",
    "\n",
    "(driver).execute_script(\"arguments[0].scrollTo(0,6000000);\", job_list)\n"
   ]
  },
  {
   "cell_type": "code",
   "execution_count": 151,
   "metadata": {},
   "outputs": [
    {
     "name": "stdout",
     "output_type": "stream",
     "text": [
      "8\n"
     ]
    }
   ],
   "source": []
  },
  {
   "cell_type": "code",
   "execution_count": 91,
   "metadata": {},
   "outputs": [
    {
     "name": "stdout",
     "output_type": "stream",
     "text": [
      "25\n"
     ]
    }
   ],
   "source": [
    "# grab the web element containing the list of job cards. \n",
    "job_list = WebDriverWait(driver, 10).until(ec.element_to_be_clickable((By.CSS_SELECTOR, \"ul[class='scaffold-layout__list-container']\")))\n",
    "\n",
    "# scroll to render/ load  all the job cards \n",
    "(driver).execute_script(\"arguments[0].scrollTo(0,6000000);\", job_list)\n",
    "\n",
    "# extract the job_cards\n",
    "job_cards = job_list.find_elements(By.XPATH, \".//div[@data-view-name = 'job-card']\")\n",
    "\n",
    "print(len(job_cards))"
   ]
  },
  {
   "cell_type": "code",
   "execution_count": 120,
   "metadata": {},
   "outputs": [],
   "source": [
    "driver.get(links[0])"
   ]
  },
  {
   "cell_type": "code",
   "execution_count": 122,
   "metadata": {},
   "outputs": [
    {
     "name": "stdout",
     "output_type": "stream",
     "text": [
      "14\n"
     ]
    }
   ],
   "source": [
    "job_list = WebDriverWait(driver, 10).until(ec.element_to_be_clickable((By.CSS_SELECTOR, \"ul[class='scaffold-layout__list-container']\")))\n",
    "job_cards = job_list.find_elements(By.XPATH, \".//div[@data-view-name = 'job-card']\")\n",
    "print(len(job_cards))\n",
    "\n",
    "link_list = []\n",
    "for job_card in job_cards:\n",
    "    \n",
    "    link = job_card.find_element(By.XPATH, \".//a\")\n",
    "    link.click()\n"
   ]
  },
  {
   "cell_type": "code",
   "execution_count": 118,
   "metadata": {},
   "outputs": [],
   "source": [
    "driver.get(link_list[0])"
   ]
  },
  {
   "cell_type": "markdown",
   "metadata": {},
   "source": [
    "Working with one job card for now."
   ]
  },
  {
   "cell_type": "code",
   "execution_count": 29,
   "metadata": {},
   "outputs": [
    {
     "data": {
      "text/plain": [
       "178"
      ]
     },
     "execution_count": 29,
     "metadata": {},
     "output_type": "execute_result"
    }
   ],
   "source": [
    "# Read the keywords from the file\n",
    "with open(\"Skills_Keywords.txt\", \"r\") as file:\n",
    "    skill_keywords = file.read().strip().split(',')\n",
    "\n",
    "\n",
    "\n",
    "# Normalize the keywords to lowercase\n",
    "skill_keywords = [keyword.strip().lower() for keyword in skill_keywords]\n",
    "len(skill_keywords)"
   ]
  },
  {
   "cell_type": "code",
   "execution_count": 30,
   "metadata": {},
   "outputs": [],
   "source": [
    "import re\n",
    "\n",
    "def extract_skills(job_description, skill_keywords):\n",
    "    # Normalize the job description\n",
    "    job_description = job_description.lower()\n",
    "\n",
    "    # Extract the skills found in the job description\n",
    "    found_skills = set()\n",
    "    for skill in skill_keywords:\n",
    "        # Use regular expressions to account for whole words and avoid partial matches\n",
    "        if re.search(r'\\b' + re.escape(skill) + r'\\b', job_description):\n",
    "            found_skills.add(skill)\n",
    "    \n",
    "    return list(found_skills)\n"
   ]
  },
  {
   "cell_type": "code",
   "execution_count": 111,
   "metadata": {},
   "outputs": [
    {
     "data": {
      "text/plain": [
       "25"
      ]
     },
     "execution_count": 111,
     "metadata": {},
     "output_type": "execute_result"
    }
   ],
   "source": [
    "len(job_cards)"
   ]
  },
  {
   "cell_type": "code",
   "execution_count": 110,
   "metadata": {},
   "outputs": [
    {
     "ename": "NoSuchWindowException",
     "evalue": "Message: no such window: target window already closed\nfrom unknown error: web view not found\n  (Session info: chrome=126.0.6478.127)\nStacktrace:\n\tGetHandleVerifier [0x00EEC203+27395]\n\t(No symbol) [0x00E83E04]\n\t(No symbol) [0x00D81B7F]\n\t(No symbol) [0x00D5E483]\n\t(No symbol) [0x00DEA06F]\n\t(No symbol) [0x00DFC3D6]\n\t(No symbol) [0x00DE3736]\n\t(No symbol) [0x00DB7541]\n\t(No symbol) [0x00DB80BD]\n\tGetHandleVerifier [0x011A3AB3+2876339]\n\tGetHandleVerifier [0x011F7F7D+3221629]\n\tGetHandleVerifier [0x00F6D674+556916]\n\tGetHandleVerifier [0x00F7478C+585868]\n\t(No symbol) [0x00E8CE44]\n\t(No symbol) [0x00E89858]\n\t(No symbol) [0x00E899F7]\n\t(No symbol) [0x00E7BF4E]\n\tBaseThreadInitThunk [0x76627BA9+25]\n\tRtlInitializeExceptionChain [0x7780BE3B+107]\n\tRtlClearBits [0x7780BDBF+191]\n",
     "output_type": "error",
     "traceback": [
      "\u001b[1;31m---------------------------------------------------------------------------\u001b[0m",
      "\u001b[1;31mNoSuchWindowException\u001b[0m                     Traceback (most recent call last)",
      "Cell \u001b[1;32mIn[110], line 2\u001b[0m\n\u001b[0;32m      1\u001b[0m job_card \u001b[38;5;241m=\u001b[39m job_cards[\u001b[38;5;241m0\u001b[39m]\n\u001b[1;32m----> 2\u001b[0m link \u001b[38;5;241m=\u001b[39m \u001b[43mjob_card\u001b[49m\u001b[38;5;241;43m.\u001b[39;49m\u001b[43mfind_element\u001b[49m\u001b[43m(\u001b[49m\u001b[43mBy\u001b[49m\u001b[38;5;241;43m.\u001b[39;49m\u001b[43mXPATH\u001b[49m\u001b[43m,\u001b[49m\u001b[43m \u001b[49m\u001b[38;5;124;43m\"\u001b[39;49m\u001b[38;5;124;43m.//a\u001b[39;49m\u001b[38;5;124;43m\"\u001b[39;49m\u001b[43m)\u001b[49m\n",
      "File \u001b[1;32m~\\AppData\\Local\\Packages\\PythonSoftwareFoundation.Python.3.12_qbz5n2kfra8p0\\LocalCache\\local-packages\\Python312\\site-packages\\selenium\\webdriver\\remote\\webelement.py:417\u001b[0m, in \u001b[0;36mWebElement.find_element\u001b[1;34m(self, by, value)\u001b[0m\n\u001b[0;32m    414\u001b[0m     by \u001b[38;5;241m=\u001b[39m By\u001b[38;5;241m.\u001b[39mCSS_SELECTOR\n\u001b[0;32m    415\u001b[0m     value \u001b[38;5;241m=\u001b[39m \u001b[38;5;124mf\u001b[39m\u001b[38;5;124m'\u001b[39m\u001b[38;5;124m[name=\u001b[39m\u001b[38;5;124m\"\u001b[39m\u001b[38;5;132;01m{\u001b[39;00mvalue\u001b[38;5;132;01m}\u001b[39;00m\u001b[38;5;124m\"\u001b[39m\u001b[38;5;124m]\u001b[39m\u001b[38;5;124m'\u001b[39m\n\u001b[1;32m--> 417\u001b[0m \u001b[38;5;28;01mreturn\u001b[39;00m \u001b[38;5;28;43mself\u001b[39;49m\u001b[38;5;241;43m.\u001b[39;49m\u001b[43m_execute\u001b[49m\u001b[43m(\u001b[49m\u001b[43mCommand\u001b[49m\u001b[38;5;241;43m.\u001b[39;49m\u001b[43mFIND_CHILD_ELEMENT\u001b[49m\u001b[43m,\u001b[49m\u001b[43m \u001b[49m\u001b[43m{\u001b[49m\u001b[38;5;124;43m\"\u001b[39;49m\u001b[38;5;124;43musing\u001b[39;49m\u001b[38;5;124;43m\"\u001b[39;49m\u001b[43m:\u001b[49m\u001b[43m \u001b[49m\u001b[43mby\u001b[49m\u001b[43m,\u001b[49m\u001b[43m \u001b[49m\u001b[38;5;124;43m\"\u001b[39;49m\u001b[38;5;124;43mvalue\u001b[39;49m\u001b[38;5;124;43m\"\u001b[39;49m\u001b[43m:\u001b[49m\u001b[43m \u001b[49m\u001b[43mvalue\u001b[49m\u001b[43m}\u001b[49m\u001b[43m)\u001b[49m[\u001b[38;5;124m\"\u001b[39m\u001b[38;5;124mvalue\u001b[39m\u001b[38;5;124m\"\u001b[39m]\n",
      "File \u001b[1;32m~\\AppData\\Local\\Packages\\PythonSoftwareFoundation.Python.3.12_qbz5n2kfra8p0\\LocalCache\\local-packages\\Python312\\site-packages\\selenium\\webdriver\\remote\\webelement.py:395\u001b[0m, in \u001b[0;36mWebElement._execute\u001b[1;34m(self, command, params)\u001b[0m\n\u001b[0;32m    393\u001b[0m     params \u001b[38;5;241m=\u001b[39m {}\n\u001b[0;32m    394\u001b[0m params[\u001b[38;5;124m\"\u001b[39m\u001b[38;5;124mid\u001b[39m\u001b[38;5;124m\"\u001b[39m] \u001b[38;5;241m=\u001b[39m \u001b[38;5;28mself\u001b[39m\u001b[38;5;241m.\u001b[39m_id\n\u001b[1;32m--> 395\u001b[0m \u001b[38;5;28;01mreturn\u001b[39;00m \u001b[38;5;28;43mself\u001b[39;49m\u001b[38;5;241;43m.\u001b[39;49m\u001b[43m_parent\u001b[49m\u001b[38;5;241;43m.\u001b[39;49m\u001b[43mexecute\u001b[49m\u001b[43m(\u001b[49m\u001b[43mcommand\u001b[49m\u001b[43m,\u001b[49m\u001b[43m \u001b[49m\u001b[43mparams\u001b[49m\u001b[43m)\u001b[49m\n",
      "File \u001b[1;32m~\\AppData\\Local\\Packages\\PythonSoftwareFoundation.Python.3.12_qbz5n2kfra8p0\\LocalCache\\local-packages\\Python312\\site-packages\\selenium\\webdriver\\remote\\webdriver.py:354\u001b[0m, in \u001b[0;36mWebDriver.execute\u001b[1;34m(self, driver_command, params)\u001b[0m\n\u001b[0;32m    352\u001b[0m response \u001b[38;5;241m=\u001b[39m \u001b[38;5;28mself\u001b[39m\u001b[38;5;241m.\u001b[39mcommand_executor\u001b[38;5;241m.\u001b[39mexecute(driver_command, params)\n\u001b[0;32m    353\u001b[0m \u001b[38;5;28;01mif\u001b[39;00m response:\n\u001b[1;32m--> 354\u001b[0m     \u001b[38;5;28;43mself\u001b[39;49m\u001b[38;5;241;43m.\u001b[39;49m\u001b[43merror_handler\u001b[49m\u001b[38;5;241;43m.\u001b[39;49m\u001b[43mcheck_response\u001b[49m\u001b[43m(\u001b[49m\u001b[43mresponse\u001b[49m\u001b[43m)\u001b[49m\n\u001b[0;32m    355\u001b[0m     response[\u001b[38;5;124m\"\u001b[39m\u001b[38;5;124mvalue\u001b[39m\u001b[38;5;124m\"\u001b[39m] \u001b[38;5;241m=\u001b[39m \u001b[38;5;28mself\u001b[39m\u001b[38;5;241m.\u001b[39m_unwrap_value(response\u001b[38;5;241m.\u001b[39mget(\u001b[38;5;124m\"\u001b[39m\u001b[38;5;124mvalue\u001b[39m\u001b[38;5;124m\"\u001b[39m, \u001b[38;5;28;01mNone\u001b[39;00m))\n\u001b[0;32m    356\u001b[0m     \u001b[38;5;28;01mreturn\u001b[39;00m response\n",
      "File \u001b[1;32m~\\AppData\\Local\\Packages\\PythonSoftwareFoundation.Python.3.12_qbz5n2kfra8p0\\LocalCache\\local-packages\\Python312\\site-packages\\selenium\\webdriver\\remote\\errorhandler.py:229\u001b[0m, in \u001b[0;36mErrorHandler.check_response\u001b[1;34m(self, response)\u001b[0m\n\u001b[0;32m    227\u001b[0m         alert_text \u001b[38;5;241m=\u001b[39m value[\u001b[38;5;124m\"\u001b[39m\u001b[38;5;124malert\u001b[39m\u001b[38;5;124m\"\u001b[39m]\u001b[38;5;241m.\u001b[39mget(\u001b[38;5;124m\"\u001b[39m\u001b[38;5;124mtext\u001b[39m\u001b[38;5;124m\"\u001b[39m)\n\u001b[0;32m    228\u001b[0m     \u001b[38;5;28;01mraise\u001b[39;00m exception_class(message, screen, stacktrace, alert_text)  \u001b[38;5;66;03m# type: ignore[call-arg]  # mypy is not smart enough here\u001b[39;00m\n\u001b[1;32m--> 229\u001b[0m \u001b[38;5;28;01mraise\u001b[39;00m exception_class(message, screen, stacktrace)\n",
      "\u001b[1;31mNoSuchWindowException\u001b[0m: Message: no such window: target window already closed\nfrom unknown error: web view not found\n  (Session info: chrome=126.0.6478.127)\nStacktrace:\n\tGetHandleVerifier [0x00EEC203+27395]\n\t(No symbol) [0x00E83E04]\n\t(No symbol) [0x00D81B7F]\n\t(No symbol) [0x00D5E483]\n\t(No symbol) [0x00DEA06F]\n\t(No symbol) [0x00DFC3D6]\n\t(No symbol) [0x00DE3736]\n\t(No symbol) [0x00DB7541]\n\t(No symbol) [0x00DB80BD]\n\tGetHandleVerifier [0x011A3AB3+2876339]\n\tGetHandleVerifier [0x011F7F7D+3221629]\n\tGetHandleVerifier [0x00F6D674+556916]\n\tGetHandleVerifier [0x00F7478C+585868]\n\t(No symbol) [0x00E8CE44]\n\t(No symbol) [0x00E89858]\n\t(No symbol) [0x00E899F7]\n\t(No symbol) [0x00E7BF4E]\n\tBaseThreadInitThunk [0x76627BA9+25]\n\tRtlInitializeExceptionChain [0x7780BE3B+107]\n\tRtlClearBits [0x7780BDBF+191]\n"
     ]
    }
   ],
   "source": [
    "job_card = job_cards[0]\n",
    "link = job_card.find_element(By.XPATH, \".//a\")"
   ]
  },
  {
   "cell_type": "code",
   "execution_count": 119,
   "metadata": {},
   "outputs": [
    {
     "ename": "TimeoutException",
     "evalue": "Message: \nStacktrace:\n\tGetHandleVerifier [0x00EEC203+27395]\n\t(No symbol) [0x00E83E04]\n\t(No symbol) [0x00D81B7F]\n\t(No symbol) [0x00DC2C65]\n\t(No symbol) [0x00DC2D3B]\n\t(No symbol) [0x00DFEC82]\n\t(No symbol) [0x00DE39E4]\n\t(No symbol) [0x00DFCB24]\n\t(No symbol) [0x00DE3736]\n\t(No symbol) [0x00DB7541]\n\t(No symbol) [0x00DB80BD]\n\tGetHandleVerifier [0x011A3AB3+2876339]\n\tGetHandleVerifier [0x011F7F7D+3221629]\n\tGetHandleVerifier [0x00F6D674+556916]\n\tGetHandleVerifier [0x00F7478C+585868]\n\t(No symbol) [0x00E8CE44]\n\t(No symbol) [0x00E89858]\n\t(No symbol) [0x00E899F7]\n\t(No symbol) [0x00E7BF4E]\n\tBaseThreadInitThunk [0x76627BA9+25]\n\tRtlInitializeExceptionChain [0x7780BE3B+107]\n\tRtlClearBits [0x7780BDBF+191]\n",
     "output_type": "error",
     "traceback": [
      "\u001b[1;31m---------------------------------------------------------------------------\u001b[0m",
      "\u001b[1;31mTimeoutException\u001b[0m                          Traceback (most recent call last)",
      "Cell \u001b[1;32mIn[119], line 1\u001b[0m\n\u001b[1;32m----> 1\u001b[0m job_desc_panel \u001b[38;5;241m=\u001b[39m \u001b[43mWebDriverWait\u001b[49m\u001b[43m(\u001b[49m\u001b[43mdriver\u001b[49m\u001b[43m,\u001b[49m\u001b[43m \u001b[49m\u001b[38;5;241;43m10\u001b[39;49m\u001b[43m)\u001b[49m\u001b[38;5;241;43m.\u001b[39;49m\u001b[43muntil\u001b[49m\u001b[43m(\u001b[49m\u001b[43mec\u001b[49m\u001b[38;5;241;43m.\u001b[39;49m\u001b[43melement_to_be_clickable\u001b[49m\u001b[43m(\u001b[49m\u001b[43m(\u001b[49m\u001b[43mBy\u001b[49m\u001b[38;5;241;43m.\u001b[39;49m\u001b[43mCSS_SELECTOR\u001b[49m\u001b[43m,\u001b[49m\u001b[43m \u001b[49m\u001b[38;5;124;43m\"\u001b[39;49m\u001b[38;5;124;43mdiv[class=\u001b[39;49m\u001b[38;5;124;43m'\u001b[39;49m\u001b[38;5;124;43mjobs-search__job-details--wrapper\u001b[39;49m\u001b[38;5;124;43m'\u001b[39;49m\u001b[38;5;124;43m]\u001b[39;49m\u001b[38;5;124;43m\"\u001b[39;49m\u001b[43m)\u001b[49m\u001b[43m)\u001b[49m\u001b[43m)\u001b[49m\n\u001b[0;32m      2\u001b[0m child_elements \u001b[38;5;241m=\u001b[39m job_desc_panel\u001b[38;5;241m.\u001b[39mfind_elements(By\u001b[38;5;241m.\u001b[39mXPATH, \u001b[38;5;124m\"\u001b[39m\u001b[38;5;124m.//*\u001b[39m\u001b[38;5;124m\"\u001b[39m)\n\u001b[0;32m      3\u001b[0m out_text \u001b[38;5;241m=\u001b[39m \u001b[38;5;124m\"\u001b[39m\u001b[38;5;124m\"\u001b[39m\n",
      "File \u001b[1;32m~\\AppData\\Local\\Packages\\PythonSoftwareFoundation.Python.3.12_qbz5n2kfra8p0\\LocalCache\\local-packages\\Python312\\site-packages\\selenium\\webdriver\\support\\wait.py:105\u001b[0m, in \u001b[0;36mWebDriverWait.until\u001b[1;34m(self, method, message)\u001b[0m\n\u001b[0;32m    103\u001b[0m     \u001b[38;5;28;01mif\u001b[39;00m time\u001b[38;5;241m.\u001b[39mmonotonic() \u001b[38;5;241m>\u001b[39m end_time:\n\u001b[0;32m    104\u001b[0m         \u001b[38;5;28;01mbreak\u001b[39;00m\n\u001b[1;32m--> 105\u001b[0m \u001b[38;5;28;01mraise\u001b[39;00m TimeoutException(message, screen, stacktrace)\n",
      "\u001b[1;31mTimeoutException\u001b[0m: Message: \nStacktrace:\n\tGetHandleVerifier [0x00EEC203+27395]\n\t(No symbol) [0x00E83E04]\n\t(No symbol) [0x00D81B7F]\n\t(No symbol) [0x00DC2C65]\n\t(No symbol) [0x00DC2D3B]\n\t(No symbol) [0x00DFEC82]\n\t(No symbol) [0x00DE39E4]\n\t(No symbol) [0x00DFCB24]\n\t(No symbol) [0x00DE3736]\n\t(No symbol) [0x00DB7541]\n\t(No symbol) [0x00DB80BD]\n\tGetHandleVerifier [0x011A3AB3+2876339]\n\tGetHandleVerifier [0x011F7F7D+3221629]\n\tGetHandleVerifier [0x00F6D674+556916]\n\tGetHandleVerifier [0x00F7478C+585868]\n\t(No symbol) [0x00E8CE44]\n\t(No symbol) [0x00E89858]\n\t(No symbol) [0x00E899F7]\n\t(No symbol) [0x00E7BF4E]\n\tBaseThreadInitThunk [0x76627BA9+25]\n\tRtlInitializeExceptionChain [0x7780BE3B+107]\n\tRtlClearBits [0x7780BDBF+191]\n"
     ]
    }
   ],
   "source": [
    "\n",
    "\n",
    "\n",
    "job_desc_panel = WebDriverWait(driver, 10).until(ec.element_to_be_clickable((By.CSS_SELECTOR, \"div[class='jobs-search__job-details--wrapper']\")))\n",
    "child_elements = job_desc_panel.find_elements(By.XPATH, \".//*\")\n",
    "out_text = \"\"\n",
    "for element in child_elements:\n",
    "    if element.tag_name in [\"p\", \"li\"]:\n",
    "        out_text += element.text\n",
    "\n",
    "out_text"
   ]
  },
  {
   "cell_type": "code",
   "execution_count": 112,
   "metadata": {},
   "outputs": [
    {
     "ename": "NoSuchWindowException",
     "evalue": "Message: no such window: target window already closed\nfrom unknown error: web view not found\n  (Session info: chrome=126.0.6478.127)\nStacktrace:\n\tGetHandleVerifier [0x00EEC203+27395]\n\t(No symbol) [0x00E83E04]\n\t(No symbol) [0x00D81B7F]\n\t(No symbol) [0x00D5E483]\n\t(No symbol) [0x00DEA06F]\n\t(No symbol) [0x00DFC3D6]\n\t(No symbol) [0x00DE3736]\n\t(No symbol) [0x00DB7541]\n\t(No symbol) [0x00DB80BD]\n\tGetHandleVerifier [0x011A3AB3+2876339]\n\tGetHandleVerifier [0x011F7F7D+3221629]\n\tGetHandleVerifier [0x00F6D674+556916]\n\tGetHandleVerifier [0x00F7478C+585868]\n\t(No symbol) [0x00E8CE44]\n\t(No symbol) [0x00E89858]\n\t(No symbol) [0x00E899F7]\n\t(No symbol) [0x00E7BF4E]\n\tBaseThreadInitThunk [0x76627BA9+25]\n\tRtlInitializeExceptionChain [0x7780BE3B+107]\n\tRtlClearBits [0x7780BDBF+191]\n",
     "output_type": "error",
     "traceback": [
      "\u001b[1;31m---------------------------------------------------------------------------\u001b[0m",
      "\u001b[1;31mNoSuchWindowException\u001b[0m                     Traceback (most recent call last)",
      "Cell \u001b[1;32mIn[112], line 2\u001b[0m\n\u001b[0;32m      1\u001b[0m \u001b[38;5;28;01mfor\u001b[39;00m job_card \u001b[38;5;129;01min\u001b[39;00m job_cards:\n\u001b[1;32m----> 2\u001b[0m     link \u001b[38;5;241m=\u001b[39m \u001b[43mjob_card\u001b[49m\u001b[38;5;241;43m.\u001b[39;49m\u001b[43mfind_element\u001b[49m\u001b[43m(\u001b[49m\u001b[43mBy\u001b[49m\u001b[38;5;241;43m.\u001b[39;49m\u001b[43mXPATH\u001b[49m\u001b[43m,\u001b[49m\u001b[43m \u001b[49m\u001b[38;5;124;43m\"\u001b[39;49m\u001b[38;5;124;43m.//a\u001b[39;49m\u001b[38;5;124;43m\"\u001b[39;49m\u001b[43m)\u001b[49m\n\u001b[0;32m      3\u001b[0m     \u001b[38;5;28mprint\u001b[39m(link\u001b[38;5;241m.\u001b[39mget_attribute(\u001b[38;5;124m'\u001b[39m\u001b[38;5;124mhref\u001b[39m\u001b[38;5;124m'\u001b[39m))\n",
      "File \u001b[1;32m~\\AppData\\Local\\Packages\\PythonSoftwareFoundation.Python.3.12_qbz5n2kfra8p0\\LocalCache\\local-packages\\Python312\\site-packages\\selenium\\webdriver\\remote\\webelement.py:417\u001b[0m, in \u001b[0;36mWebElement.find_element\u001b[1;34m(self, by, value)\u001b[0m\n\u001b[0;32m    414\u001b[0m     by \u001b[38;5;241m=\u001b[39m By\u001b[38;5;241m.\u001b[39mCSS_SELECTOR\n\u001b[0;32m    415\u001b[0m     value \u001b[38;5;241m=\u001b[39m \u001b[38;5;124mf\u001b[39m\u001b[38;5;124m'\u001b[39m\u001b[38;5;124m[name=\u001b[39m\u001b[38;5;124m\"\u001b[39m\u001b[38;5;132;01m{\u001b[39;00mvalue\u001b[38;5;132;01m}\u001b[39;00m\u001b[38;5;124m\"\u001b[39m\u001b[38;5;124m]\u001b[39m\u001b[38;5;124m'\u001b[39m\n\u001b[1;32m--> 417\u001b[0m \u001b[38;5;28;01mreturn\u001b[39;00m \u001b[38;5;28;43mself\u001b[39;49m\u001b[38;5;241;43m.\u001b[39;49m\u001b[43m_execute\u001b[49m\u001b[43m(\u001b[49m\u001b[43mCommand\u001b[49m\u001b[38;5;241;43m.\u001b[39;49m\u001b[43mFIND_CHILD_ELEMENT\u001b[49m\u001b[43m,\u001b[49m\u001b[43m \u001b[49m\u001b[43m{\u001b[49m\u001b[38;5;124;43m\"\u001b[39;49m\u001b[38;5;124;43musing\u001b[39;49m\u001b[38;5;124;43m\"\u001b[39;49m\u001b[43m:\u001b[49m\u001b[43m \u001b[49m\u001b[43mby\u001b[49m\u001b[43m,\u001b[49m\u001b[43m \u001b[49m\u001b[38;5;124;43m\"\u001b[39;49m\u001b[38;5;124;43mvalue\u001b[39;49m\u001b[38;5;124;43m\"\u001b[39;49m\u001b[43m:\u001b[49m\u001b[43m \u001b[49m\u001b[43mvalue\u001b[49m\u001b[43m}\u001b[49m\u001b[43m)\u001b[49m[\u001b[38;5;124m\"\u001b[39m\u001b[38;5;124mvalue\u001b[39m\u001b[38;5;124m\"\u001b[39m]\n",
      "File \u001b[1;32m~\\AppData\\Local\\Packages\\PythonSoftwareFoundation.Python.3.12_qbz5n2kfra8p0\\LocalCache\\local-packages\\Python312\\site-packages\\selenium\\webdriver\\remote\\webelement.py:395\u001b[0m, in \u001b[0;36mWebElement._execute\u001b[1;34m(self, command, params)\u001b[0m\n\u001b[0;32m    393\u001b[0m     params \u001b[38;5;241m=\u001b[39m {}\n\u001b[0;32m    394\u001b[0m params[\u001b[38;5;124m\"\u001b[39m\u001b[38;5;124mid\u001b[39m\u001b[38;5;124m\"\u001b[39m] \u001b[38;5;241m=\u001b[39m \u001b[38;5;28mself\u001b[39m\u001b[38;5;241m.\u001b[39m_id\n\u001b[1;32m--> 395\u001b[0m \u001b[38;5;28;01mreturn\u001b[39;00m \u001b[38;5;28;43mself\u001b[39;49m\u001b[38;5;241;43m.\u001b[39;49m\u001b[43m_parent\u001b[49m\u001b[38;5;241;43m.\u001b[39;49m\u001b[43mexecute\u001b[49m\u001b[43m(\u001b[49m\u001b[43mcommand\u001b[49m\u001b[43m,\u001b[49m\u001b[43m \u001b[49m\u001b[43mparams\u001b[49m\u001b[43m)\u001b[49m\n",
      "File \u001b[1;32m~\\AppData\\Local\\Packages\\PythonSoftwareFoundation.Python.3.12_qbz5n2kfra8p0\\LocalCache\\local-packages\\Python312\\site-packages\\selenium\\webdriver\\remote\\webdriver.py:354\u001b[0m, in \u001b[0;36mWebDriver.execute\u001b[1;34m(self, driver_command, params)\u001b[0m\n\u001b[0;32m    352\u001b[0m response \u001b[38;5;241m=\u001b[39m \u001b[38;5;28mself\u001b[39m\u001b[38;5;241m.\u001b[39mcommand_executor\u001b[38;5;241m.\u001b[39mexecute(driver_command, params)\n\u001b[0;32m    353\u001b[0m \u001b[38;5;28;01mif\u001b[39;00m response:\n\u001b[1;32m--> 354\u001b[0m     \u001b[38;5;28;43mself\u001b[39;49m\u001b[38;5;241;43m.\u001b[39;49m\u001b[43merror_handler\u001b[49m\u001b[38;5;241;43m.\u001b[39;49m\u001b[43mcheck_response\u001b[49m\u001b[43m(\u001b[49m\u001b[43mresponse\u001b[49m\u001b[43m)\u001b[49m\n\u001b[0;32m    355\u001b[0m     response[\u001b[38;5;124m\"\u001b[39m\u001b[38;5;124mvalue\u001b[39m\u001b[38;5;124m\"\u001b[39m] \u001b[38;5;241m=\u001b[39m \u001b[38;5;28mself\u001b[39m\u001b[38;5;241m.\u001b[39m_unwrap_value(response\u001b[38;5;241m.\u001b[39mget(\u001b[38;5;124m\"\u001b[39m\u001b[38;5;124mvalue\u001b[39m\u001b[38;5;124m\"\u001b[39m, \u001b[38;5;28;01mNone\u001b[39;00m))\n\u001b[0;32m    356\u001b[0m     \u001b[38;5;28;01mreturn\u001b[39;00m response\n",
      "File \u001b[1;32m~\\AppData\\Local\\Packages\\PythonSoftwareFoundation.Python.3.12_qbz5n2kfra8p0\\LocalCache\\local-packages\\Python312\\site-packages\\selenium\\webdriver\\remote\\errorhandler.py:229\u001b[0m, in \u001b[0;36mErrorHandler.check_response\u001b[1;34m(self, response)\u001b[0m\n\u001b[0;32m    227\u001b[0m         alert_text \u001b[38;5;241m=\u001b[39m value[\u001b[38;5;124m\"\u001b[39m\u001b[38;5;124malert\u001b[39m\u001b[38;5;124m\"\u001b[39m]\u001b[38;5;241m.\u001b[39mget(\u001b[38;5;124m\"\u001b[39m\u001b[38;5;124mtext\u001b[39m\u001b[38;5;124m\"\u001b[39m)\n\u001b[0;32m    228\u001b[0m     \u001b[38;5;28;01mraise\u001b[39;00m exception_class(message, screen, stacktrace, alert_text)  \u001b[38;5;66;03m# type: ignore[call-arg]  # mypy is not smart enough here\u001b[39;00m\n\u001b[1;32m--> 229\u001b[0m \u001b[38;5;28;01mraise\u001b[39;00m exception_class(message, screen, stacktrace)\n",
      "\u001b[1;31mNoSuchWindowException\u001b[0m: Message: no such window: target window already closed\nfrom unknown error: web view not found\n  (Session info: chrome=126.0.6478.127)\nStacktrace:\n\tGetHandleVerifier [0x00EEC203+27395]\n\t(No symbol) [0x00E83E04]\n\t(No symbol) [0x00D81B7F]\n\t(No symbol) [0x00D5E483]\n\t(No symbol) [0x00DEA06F]\n\t(No symbol) [0x00DFC3D6]\n\t(No symbol) [0x00DE3736]\n\t(No symbol) [0x00DB7541]\n\t(No symbol) [0x00DB80BD]\n\tGetHandleVerifier [0x011A3AB3+2876339]\n\tGetHandleVerifier [0x011F7F7D+3221629]\n\tGetHandleVerifier [0x00F6D674+556916]\n\tGetHandleVerifier [0x00F7478C+585868]\n\t(No symbol) [0x00E8CE44]\n\t(No symbol) [0x00E89858]\n\t(No symbol) [0x00E899F7]\n\t(No symbol) [0x00E7BF4E]\n\tBaseThreadInitThunk [0x76627BA9+25]\n\tRtlInitializeExceptionChain [0x7780BE3B+107]\n\tRtlClearBits [0x7780BDBF+191]\n"
     ]
    }
   ],
   "source": [
    "for job_card in job_cards:\n",
    "    link = job_card.find_element(By.XPATH, \".//a\")\n",
    "    print(link.get_attribute('href'))\n"
   ]
  },
  {
   "cell_type": "code",
   "execution_count": 113,
   "metadata": {},
   "outputs": [
    {
     "ename": "NoSuchWindowException",
     "evalue": "Message: no such window: target window already closed\nfrom unknown error: web view not found\n  (Session info: chrome=126.0.6478.127)\nStacktrace:\n\tGetHandleVerifier [0x00EEC203+27395]\n\t(No symbol) [0x00E83E04]\n\t(No symbol) [0x00D81B7F]\n\t(No symbol) [0x00D5E483]\n\t(No symbol) [0x00DEA06F]\n\t(No symbol) [0x00DFC3D6]\n\t(No symbol) [0x00DE3736]\n\t(No symbol) [0x00DB7541]\n\t(No symbol) [0x00DB80BD]\n\tGetHandleVerifier [0x011A3AB3+2876339]\n\tGetHandleVerifier [0x011F7F7D+3221629]\n\tGetHandleVerifier [0x00F6D674+556916]\n\tGetHandleVerifier [0x00F7478C+585868]\n\t(No symbol) [0x00E8CE44]\n\t(No symbol) [0x00E89858]\n\t(No symbol) [0x00E899F7]\n\t(No symbol) [0x00E7BF4E]\n\tBaseThreadInitThunk [0x76627BA9+25]\n\tRtlInitializeExceptionChain [0x7780BE3B+107]\n\tRtlClearBits [0x7780BDBF+191]\n",
     "output_type": "error",
     "traceback": [
      "\u001b[1;31m---------------------------------------------------------------------------\u001b[0m",
      "\u001b[1;31mNoSuchWindowException\u001b[0m                     Traceback (most recent call last)",
      "Cell \u001b[1;32mIn[113], line 2\u001b[0m\n\u001b[0;32m      1\u001b[0m job_card \u001b[38;5;241m=\u001b[39m job_cards[\u001b[38;5;241m0\u001b[39m]\n\u001b[1;32m----> 2\u001b[0m link \u001b[38;5;241m=\u001b[39m \u001b[43mjob_card\u001b[49m\u001b[38;5;241;43m.\u001b[39;49m\u001b[43mfind_element\u001b[49m\u001b[43m(\u001b[49m\u001b[43mBy\u001b[49m\u001b[38;5;241;43m.\u001b[39;49m\u001b[43mXPATH\u001b[49m\u001b[43m,\u001b[49m\u001b[43m \u001b[49m\u001b[38;5;124;43m\"\u001b[39;49m\u001b[38;5;124;43m.//a\u001b[39;49m\u001b[38;5;124;43m\"\u001b[39;49m\u001b[43m)\u001b[49m\n",
      "File \u001b[1;32m~\\AppData\\Local\\Packages\\PythonSoftwareFoundation.Python.3.12_qbz5n2kfra8p0\\LocalCache\\local-packages\\Python312\\site-packages\\selenium\\webdriver\\remote\\webelement.py:417\u001b[0m, in \u001b[0;36mWebElement.find_element\u001b[1;34m(self, by, value)\u001b[0m\n\u001b[0;32m    414\u001b[0m     by \u001b[38;5;241m=\u001b[39m By\u001b[38;5;241m.\u001b[39mCSS_SELECTOR\n\u001b[0;32m    415\u001b[0m     value \u001b[38;5;241m=\u001b[39m \u001b[38;5;124mf\u001b[39m\u001b[38;5;124m'\u001b[39m\u001b[38;5;124m[name=\u001b[39m\u001b[38;5;124m\"\u001b[39m\u001b[38;5;132;01m{\u001b[39;00mvalue\u001b[38;5;132;01m}\u001b[39;00m\u001b[38;5;124m\"\u001b[39m\u001b[38;5;124m]\u001b[39m\u001b[38;5;124m'\u001b[39m\n\u001b[1;32m--> 417\u001b[0m \u001b[38;5;28;01mreturn\u001b[39;00m \u001b[38;5;28;43mself\u001b[39;49m\u001b[38;5;241;43m.\u001b[39;49m\u001b[43m_execute\u001b[49m\u001b[43m(\u001b[49m\u001b[43mCommand\u001b[49m\u001b[38;5;241;43m.\u001b[39;49m\u001b[43mFIND_CHILD_ELEMENT\u001b[49m\u001b[43m,\u001b[49m\u001b[43m \u001b[49m\u001b[43m{\u001b[49m\u001b[38;5;124;43m\"\u001b[39;49m\u001b[38;5;124;43musing\u001b[39;49m\u001b[38;5;124;43m\"\u001b[39;49m\u001b[43m:\u001b[49m\u001b[43m \u001b[49m\u001b[43mby\u001b[49m\u001b[43m,\u001b[49m\u001b[43m \u001b[49m\u001b[38;5;124;43m\"\u001b[39;49m\u001b[38;5;124;43mvalue\u001b[39;49m\u001b[38;5;124;43m\"\u001b[39;49m\u001b[43m:\u001b[49m\u001b[43m \u001b[49m\u001b[43mvalue\u001b[49m\u001b[43m}\u001b[49m\u001b[43m)\u001b[49m[\u001b[38;5;124m\"\u001b[39m\u001b[38;5;124mvalue\u001b[39m\u001b[38;5;124m\"\u001b[39m]\n",
      "File \u001b[1;32m~\\AppData\\Local\\Packages\\PythonSoftwareFoundation.Python.3.12_qbz5n2kfra8p0\\LocalCache\\local-packages\\Python312\\site-packages\\selenium\\webdriver\\remote\\webelement.py:395\u001b[0m, in \u001b[0;36mWebElement._execute\u001b[1;34m(self, command, params)\u001b[0m\n\u001b[0;32m    393\u001b[0m     params \u001b[38;5;241m=\u001b[39m {}\n\u001b[0;32m    394\u001b[0m params[\u001b[38;5;124m\"\u001b[39m\u001b[38;5;124mid\u001b[39m\u001b[38;5;124m\"\u001b[39m] \u001b[38;5;241m=\u001b[39m \u001b[38;5;28mself\u001b[39m\u001b[38;5;241m.\u001b[39m_id\n\u001b[1;32m--> 395\u001b[0m \u001b[38;5;28;01mreturn\u001b[39;00m \u001b[38;5;28;43mself\u001b[39;49m\u001b[38;5;241;43m.\u001b[39;49m\u001b[43m_parent\u001b[49m\u001b[38;5;241;43m.\u001b[39;49m\u001b[43mexecute\u001b[49m\u001b[43m(\u001b[49m\u001b[43mcommand\u001b[49m\u001b[43m,\u001b[49m\u001b[43m \u001b[49m\u001b[43mparams\u001b[49m\u001b[43m)\u001b[49m\n",
      "File \u001b[1;32m~\\AppData\\Local\\Packages\\PythonSoftwareFoundation.Python.3.12_qbz5n2kfra8p0\\LocalCache\\local-packages\\Python312\\site-packages\\selenium\\webdriver\\remote\\webdriver.py:354\u001b[0m, in \u001b[0;36mWebDriver.execute\u001b[1;34m(self, driver_command, params)\u001b[0m\n\u001b[0;32m    352\u001b[0m response \u001b[38;5;241m=\u001b[39m \u001b[38;5;28mself\u001b[39m\u001b[38;5;241m.\u001b[39mcommand_executor\u001b[38;5;241m.\u001b[39mexecute(driver_command, params)\n\u001b[0;32m    353\u001b[0m \u001b[38;5;28;01mif\u001b[39;00m response:\n\u001b[1;32m--> 354\u001b[0m     \u001b[38;5;28;43mself\u001b[39;49m\u001b[38;5;241;43m.\u001b[39;49m\u001b[43merror_handler\u001b[49m\u001b[38;5;241;43m.\u001b[39;49m\u001b[43mcheck_response\u001b[49m\u001b[43m(\u001b[49m\u001b[43mresponse\u001b[49m\u001b[43m)\u001b[49m\n\u001b[0;32m    355\u001b[0m     response[\u001b[38;5;124m\"\u001b[39m\u001b[38;5;124mvalue\u001b[39m\u001b[38;5;124m\"\u001b[39m] \u001b[38;5;241m=\u001b[39m \u001b[38;5;28mself\u001b[39m\u001b[38;5;241m.\u001b[39m_unwrap_value(response\u001b[38;5;241m.\u001b[39mget(\u001b[38;5;124m\"\u001b[39m\u001b[38;5;124mvalue\u001b[39m\u001b[38;5;124m\"\u001b[39m, \u001b[38;5;28;01mNone\u001b[39;00m))\n\u001b[0;32m    356\u001b[0m     \u001b[38;5;28;01mreturn\u001b[39;00m response\n",
      "File \u001b[1;32m~\\AppData\\Local\\Packages\\PythonSoftwareFoundation.Python.3.12_qbz5n2kfra8p0\\LocalCache\\local-packages\\Python312\\site-packages\\selenium\\webdriver\\remote\\errorhandler.py:229\u001b[0m, in \u001b[0;36mErrorHandler.check_response\u001b[1;34m(self, response)\u001b[0m\n\u001b[0;32m    227\u001b[0m         alert_text \u001b[38;5;241m=\u001b[39m value[\u001b[38;5;124m\"\u001b[39m\u001b[38;5;124malert\u001b[39m\u001b[38;5;124m\"\u001b[39m]\u001b[38;5;241m.\u001b[39mget(\u001b[38;5;124m\"\u001b[39m\u001b[38;5;124mtext\u001b[39m\u001b[38;5;124m\"\u001b[39m)\n\u001b[0;32m    228\u001b[0m     \u001b[38;5;28;01mraise\u001b[39;00m exception_class(message, screen, stacktrace, alert_text)  \u001b[38;5;66;03m# type: ignore[call-arg]  # mypy is not smart enough here\u001b[39;00m\n\u001b[1;32m--> 229\u001b[0m \u001b[38;5;28;01mraise\u001b[39;00m exception_class(message, screen, stacktrace)\n",
      "\u001b[1;31mNoSuchWindowException\u001b[0m: Message: no such window: target window already closed\nfrom unknown error: web view not found\n  (Session info: chrome=126.0.6478.127)\nStacktrace:\n\tGetHandleVerifier [0x00EEC203+27395]\n\t(No symbol) [0x00E83E04]\n\t(No symbol) [0x00D81B7F]\n\t(No symbol) [0x00D5E483]\n\t(No symbol) [0x00DEA06F]\n\t(No symbol) [0x00DFC3D6]\n\t(No symbol) [0x00DE3736]\n\t(No symbol) [0x00DB7541]\n\t(No symbol) [0x00DB80BD]\n\tGetHandleVerifier [0x011A3AB3+2876339]\n\tGetHandleVerifier [0x011F7F7D+3221629]\n\tGetHandleVerifier [0x00F6D674+556916]\n\tGetHandleVerifier [0x00F7478C+585868]\n\t(No symbol) [0x00E8CE44]\n\t(No symbol) [0x00E89858]\n\t(No symbol) [0x00E899F7]\n\t(No symbol) [0x00E7BF4E]\n\tBaseThreadInitThunk [0x76627BA9+25]\n\tRtlInitializeExceptionChain [0x7780BE3B+107]\n\tRtlClearBits [0x7780BDBF+191]\n"
     ]
    }
   ],
   "source": [
    "job_card = job_cards[0]\n",
    "link = job_card.find_element(By.XPATH, \".//a\")"
   ]
  },
  {
   "cell_type": "code",
   "execution_count": 108,
   "metadata": {},
   "outputs": [
    {
     "ename": "NoSuchWindowException",
     "evalue": "Message: no such window: target window already closed\nfrom unknown error: web view not found\n  (Session info: chrome=126.0.6478.127)\nStacktrace:\n\tGetHandleVerifier [0x00EEC203+27395]\n\t(No symbol) [0x00E83E04]\n\t(No symbol) [0x00D81B7F]\n\t(No symbol) [0x00D5E483]\n\t(No symbol) [0x00DEA06F]\n\t(No symbol) [0x00DFC3D6]\n\t(No symbol) [0x00DE3736]\n\t(No symbol) [0x00DB7541]\n\t(No symbol) [0x00DB80BD]\n\tGetHandleVerifier [0x011A3AB3+2876339]\n\tGetHandleVerifier [0x011F7F7D+3221629]\n\tGetHandleVerifier [0x00F6D674+556916]\n\tGetHandleVerifier [0x00F7478C+585868]\n\t(No symbol) [0x00E8CE44]\n\t(No symbol) [0x00E89858]\n\t(No symbol) [0x00E899F7]\n\t(No symbol) [0x00E7BF4E]\n\tBaseThreadInitThunk [0x76627BA9+25]\n\tRtlInitializeExceptionChain [0x7780BE3B+107]\n\tRtlClearBits [0x7780BDBF+191]\n",
     "output_type": "error",
     "traceback": [
      "\u001b[1;31m---------------------------------------------------------------------------\u001b[0m",
      "\u001b[1;31mNoSuchWindowException\u001b[0m                     Traceback (most recent call last)",
      "Cell \u001b[1;32mIn[108], line 2\u001b[0m\n\u001b[0;32m      1\u001b[0m job_card \u001b[38;5;241m=\u001b[39m job_cards[\u001b[38;5;241m0\u001b[39m]\n\u001b[1;32m----> 2\u001b[0m link \u001b[38;5;241m=\u001b[39m \u001b[43mjob_card\u001b[49m\u001b[38;5;241;43m.\u001b[39;49m\u001b[43mfind_element\u001b[49m\u001b[43m(\u001b[49m\u001b[43mBy\u001b[49m\u001b[38;5;241;43m.\u001b[39;49m\u001b[43mXPATH\u001b[49m\u001b[43m,\u001b[49m\u001b[43m \u001b[49m\u001b[38;5;124;43m\"\u001b[39;49m\u001b[38;5;124;43m.//a\u001b[39;49m\u001b[38;5;124;43m\"\u001b[39;49m\u001b[43m)\u001b[49m\n\u001b[0;32m      3\u001b[0m \u001b[38;5;66;03m# Opening a particular Job card to reveal the Job description.\u001b[39;00m\n\u001b[0;32m      4\u001b[0m link\u001b[38;5;241m.\u001b[39mclick()\n",
      "File \u001b[1;32m~\\AppData\\Local\\Packages\\PythonSoftwareFoundation.Python.3.12_qbz5n2kfra8p0\\LocalCache\\local-packages\\Python312\\site-packages\\selenium\\webdriver\\remote\\webelement.py:417\u001b[0m, in \u001b[0;36mWebElement.find_element\u001b[1;34m(self, by, value)\u001b[0m\n\u001b[0;32m    414\u001b[0m     by \u001b[38;5;241m=\u001b[39m By\u001b[38;5;241m.\u001b[39mCSS_SELECTOR\n\u001b[0;32m    415\u001b[0m     value \u001b[38;5;241m=\u001b[39m \u001b[38;5;124mf\u001b[39m\u001b[38;5;124m'\u001b[39m\u001b[38;5;124m[name=\u001b[39m\u001b[38;5;124m\"\u001b[39m\u001b[38;5;132;01m{\u001b[39;00mvalue\u001b[38;5;132;01m}\u001b[39;00m\u001b[38;5;124m\"\u001b[39m\u001b[38;5;124m]\u001b[39m\u001b[38;5;124m'\u001b[39m\n\u001b[1;32m--> 417\u001b[0m \u001b[38;5;28;01mreturn\u001b[39;00m \u001b[38;5;28;43mself\u001b[39;49m\u001b[38;5;241;43m.\u001b[39;49m\u001b[43m_execute\u001b[49m\u001b[43m(\u001b[49m\u001b[43mCommand\u001b[49m\u001b[38;5;241;43m.\u001b[39;49m\u001b[43mFIND_CHILD_ELEMENT\u001b[49m\u001b[43m,\u001b[49m\u001b[43m \u001b[49m\u001b[43m{\u001b[49m\u001b[38;5;124;43m\"\u001b[39;49m\u001b[38;5;124;43musing\u001b[39;49m\u001b[38;5;124;43m\"\u001b[39;49m\u001b[43m:\u001b[49m\u001b[43m \u001b[49m\u001b[43mby\u001b[49m\u001b[43m,\u001b[49m\u001b[43m \u001b[49m\u001b[38;5;124;43m\"\u001b[39;49m\u001b[38;5;124;43mvalue\u001b[39;49m\u001b[38;5;124;43m\"\u001b[39;49m\u001b[43m:\u001b[49m\u001b[43m \u001b[49m\u001b[43mvalue\u001b[49m\u001b[43m}\u001b[49m\u001b[43m)\u001b[49m[\u001b[38;5;124m\"\u001b[39m\u001b[38;5;124mvalue\u001b[39m\u001b[38;5;124m\"\u001b[39m]\n",
      "File \u001b[1;32m~\\AppData\\Local\\Packages\\PythonSoftwareFoundation.Python.3.12_qbz5n2kfra8p0\\LocalCache\\local-packages\\Python312\\site-packages\\selenium\\webdriver\\remote\\webelement.py:395\u001b[0m, in \u001b[0;36mWebElement._execute\u001b[1;34m(self, command, params)\u001b[0m\n\u001b[0;32m    393\u001b[0m     params \u001b[38;5;241m=\u001b[39m {}\n\u001b[0;32m    394\u001b[0m params[\u001b[38;5;124m\"\u001b[39m\u001b[38;5;124mid\u001b[39m\u001b[38;5;124m\"\u001b[39m] \u001b[38;5;241m=\u001b[39m \u001b[38;5;28mself\u001b[39m\u001b[38;5;241m.\u001b[39m_id\n\u001b[1;32m--> 395\u001b[0m \u001b[38;5;28;01mreturn\u001b[39;00m \u001b[38;5;28;43mself\u001b[39;49m\u001b[38;5;241;43m.\u001b[39;49m\u001b[43m_parent\u001b[49m\u001b[38;5;241;43m.\u001b[39;49m\u001b[43mexecute\u001b[49m\u001b[43m(\u001b[49m\u001b[43mcommand\u001b[49m\u001b[43m,\u001b[49m\u001b[43m \u001b[49m\u001b[43mparams\u001b[49m\u001b[43m)\u001b[49m\n",
      "File \u001b[1;32m~\\AppData\\Local\\Packages\\PythonSoftwareFoundation.Python.3.12_qbz5n2kfra8p0\\LocalCache\\local-packages\\Python312\\site-packages\\selenium\\webdriver\\remote\\webdriver.py:354\u001b[0m, in \u001b[0;36mWebDriver.execute\u001b[1;34m(self, driver_command, params)\u001b[0m\n\u001b[0;32m    352\u001b[0m response \u001b[38;5;241m=\u001b[39m \u001b[38;5;28mself\u001b[39m\u001b[38;5;241m.\u001b[39mcommand_executor\u001b[38;5;241m.\u001b[39mexecute(driver_command, params)\n\u001b[0;32m    353\u001b[0m \u001b[38;5;28;01mif\u001b[39;00m response:\n\u001b[1;32m--> 354\u001b[0m     \u001b[38;5;28;43mself\u001b[39;49m\u001b[38;5;241;43m.\u001b[39;49m\u001b[43merror_handler\u001b[49m\u001b[38;5;241;43m.\u001b[39;49m\u001b[43mcheck_response\u001b[49m\u001b[43m(\u001b[49m\u001b[43mresponse\u001b[49m\u001b[43m)\u001b[49m\n\u001b[0;32m    355\u001b[0m     response[\u001b[38;5;124m\"\u001b[39m\u001b[38;5;124mvalue\u001b[39m\u001b[38;5;124m\"\u001b[39m] \u001b[38;5;241m=\u001b[39m \u001b[38;5;28mself\u001b[39m\u001b[38;5;241m.\u001b[39m_unwrap_value(response\u001b[38;5;241m.\u001b[39mget(\u001b[38;5;124m\"\u001b[39m\u001b[38;5;124mvalue\u001b[39m\u001b[38;5;124m\"\u001b[39m, \u001b[38;5;28;01mNone\u001b[39;00m))\n\u001b[0;32m    356\u001b[0m     \u001b[38;5;28;01mreturn\u001b[39;00m response\n",
      "File \u001b[1;32m~\\AppData\\Local\\Packages\\PythonSoftwareFoundation.Python.3.12_qbz5n2kfra8p0\\LocalCache\\local-packages\\Python312\\site-packages\\selenium\\webdriver\\remote\\errorhandler.py:229\u001b[0m, in \u001b[0;36mErrorHandler.check_response\u001b[1;34m(self, response)\u001b[0m\n\u001b[0;32m    227\u001b[0m         alert_text \u001b[38;5;241m=\u001b[39m value[\u001b[38;5;124m\"\u001b[39m\u001b[38;5;124malert\u001b[39m\u001b[38;5;124m\"\u001b[39m]\u001b[38;5;241m.\u001b[39mget(\u001b[38;5;124m\"\u001b[39m\u001b[38;5;124mtext\u001b[39m\u001b[38;5;124m\"\u001b[39m)\n\u001b[0;32m    228\u001b[0m     \u001b[38;5;28;01mraise\u001b[39;00m exception_class(message, screen, stacktrace, alert_text)  \u001b[38;5;66;03m# type: ignore[call-arg]  # mypy is not smart enough here\u001b[39;00m\n\u001b[1;32m--> 229\u001b[0m \u001b[38;5;28;01mraise\u001b[39;00m exception_class(message, screen, stacktrace)\n",
      "\u001b[1;31mNoSuchWindowException\u001b[0m: Message: no such window: target window already closed\nfrom unknown error: web view not found\n  (Session info: chrome=126.0.6478.127)\nStacktrace:\n\tGetHandleVerifier [0x00EEC203+27395]\n\t(No symbol) [0x00E83E04]\n\t(No symbol) [0x00D81B7F]\n\t(No symbol) [0x00D5E483]\n\t(No symbol) [0x00DEA06F]\n\t(No symbol) [0x00DFC3D6]\n\t(No symbol) [0x00DE3736]\n\t(No symbol) [0x00DB7541]\n\t(No symbol) [0x00DB80BD]\n\tGetHandleVerifier [0x011A3AB3+2876339]\n\tGetHandleVerifier [0x011F7F7D+3221629]\n\tGetHandleVerifier [0x00F6D674+556916]\n\tGetHandleVerifier [0x00F7478C+585868]\n\t(No symbol) [0x00E8CE44]\n\t(No symbol) [0x00E89858]\n\t(No symbol) [0x00E899F7]\n\t(No symbol) [0x00E7BF4E]\n\tBaseThreadInitThunk [0x76627BA9+25]\n\tRtlInitializeExceptionChain [0x7780BE3B+107]\n\tRtlClearBits [0x7780BDBF+191]\n"
     ]
    }
   ],
   "source": [
    "job_card = job_cards[0]\n",
    "link = job_card.find_element(By.XPATH, \".//a\")\n",
    "# Opening a particular Job card to reveal the Job description.\n",
    "link.click()\n",
    "\n",
    "# Grabbing the div element that cotains the Job description.\n",
    "job_desc_panel = WebDriverWait(driver, 10).until(ec.element_to_be_clickable((By.CSS_SELECTOR, \"div[class='jobs-search__job-details--wrapper']\")))\n",
    "\n",
    "# Scrolling to load all the contents of the JD\n",
    "(driver).execute_script(\"arguments[0].scrollTo(0,6000000);\", job_desc_panel)\n",
    "\n",
    "company_name =  job_desc_panel.find_element(By.XPATH, \".//div[@class = 'job-details-jobs-unified-top-card__company-name']\").text\n",
    "job_title = job_desc_panel.find_element(By.XPATH,\".//h1[@class = 't-24 t-bold inline']\")\n",
    "\n",
    "print(\"company name: \", company_name)\n",
    "print(\"job_title: \", job_title.text)\n",
    "\n",
    "\n",
    "job_desc_panel = WebDriverWait(driver, 10).until(ec.element_to_be_clickable((By.CSS_SELECTOR, \"div[class='jobs-search__job-details--wrapper']\")))\n",
    "\n",
    "# parsing the JD for key-words \n",
    "child_elements = job_desc_panel.find_elements(By.XPATH, \".//*\")\n",
    "out_text = \"\"\n",
    "for element in child_elements:\n",
    "    if element.tag_name in [\"p\", \"li\"]:\n",
    "        out_text += element.text\n",
    "\n",
    "\n",
    "out_text\n"
   ]
  },
  {
   "cell_type": "code",
   "execution_count": 56,
   "metadata": {},
   "outputs": [
    {
     "name": "stdout",
     "output_type": "stream",
     "text": [
      "21 Skills found in the job description: ['programming', 'azure', 'neural networks', 'spark', 'machine learning', 'pandas', 'sql', 'mathematics', 'regression', 'clustering', 'tensorflow', 'pytorch', 'xgboost', 'gcp', 'mlflow', 'statistics', 'curiosity', 'numpy', 'deep learning', 'python', 'aws']\n"
     ]
    }
   ],
   "source": [
    "found_skills = extract_skills(out_text, skill_keywords)\n",
    "print(len(found_skills),  \"Skills found in the job description:\", found_skills)"
   ]
  },
  {
   "cell_type": "code",
   "execution_count": null,
   "metadata": {},
   "outputs": [
    {
     "data": {
      "text/plain": [
       "'Remote\\nMatches your job preferences, workplace type is Remote.\\nInternship InternshipSkills: Neural Machine Translation (NMT), Large Language Models (LLM)See how you compare to over 100 other applicants. Reactivate PremiumAm I a good fit for this job?How can I best position myself for this job?Tell me more about Sony Rese...Sony Research India is driving cutting-edge research and development in various locations around the globe, including laboratories in Japan, the United States, Europe, and Asia. We endeavor to create new technology, products, and services while sustaining Sony Group’s diverse businesses in electronics, entertainment, and financial fields. For our research center to blaze a trail in the latest technologies, we seek to foster the growth of a diverse pool of engineering talent and create a technology talent bank to drive research excellence worldwide. Sony Research India (SRI) is offering outstanding career opportunities around frontline technologies such as AI and data analytics.Key responsibility:Collaborate with research scientists and other team members on fundamental development activities daily. Engage in Large Language Model (LLM) finetuning tasks for Neural Machine Translation (NMT) projects. Additionally, contribute to related research areas within the project, including the development of automatic translation systems for Indian languages, synthetic data generation, and other emerging fields in LLM research.Work Location:RemoteDuration of the paid internship:The paid internship will be for 6 months starting August first week9:00 to 18:00 (Monday to Friday)Education:Ph.D. or Master from Computer Science background or bachelor with hands-on experience on Natural Language Processing (NLP), LLMs and Python.Must Have Skills:PytorchDeep Learning/Machine Learning frameworks: Pytorch, Tensorflow, scikit-learnKnowledge of the state-of-the-art in LLM: Foundation Models, Neural Machine TranslationKnowledge of generative AI modelsGood to have skills:Expertise in Pytorch.Prior experience in the development of the Indian language NMT.Strong mathematical understanding of ML conceptsPapers in top conferences like ICML, NeurIPS, AAAI etc.Our Values:Dreams & Curiosity: Pioneer the future with dreams and curiosity.Diversity: Pursue the creation of the very best by harnessing diversity and varying viewpoints.Integrity & Sincerity: Earn the trust of the Sony brand through ethical and responsible conduct.Sustainability: Fulfill our stakeholder responsibilities through disciplined business practices.Sony Research India is committed to equal opportunity in all its employment practices, policies, and procedures and to ensuring that no worker or potential worker will receive less favorable treatment due to any characteristic protected under applicable local laws.Get exclusive access to applicant insights, see jobs where you’d be a top applicant and moreThejus and millions of other members use PremiumCancel anytime, for any reason.Sony Research India Private Limited was established in July 2020 as a research company in India as part of Sony’s global R&D centres. Delivering Excitement, Passion, Joy, and Compassion to the World, all is possible with the diverse research opportunities we offer at Sony Research India. We venture into entertainment, healthcare, music and gaming. We also devise mobility solutions that help people get around securely and safely and support creators expand their creativity with innovative AI applications. Sony Research India is a place to apply a wide range of technologies to inspire emotion in new fields.\\n…\\nshow more'"
      ]
     },
     "execution_count": 15,
     "metadata": {},
     "output_type": "execute_result"
    }
   ],
   "source": [
    "out_text"
   ]
  },
  {
   "cell_type": "code",
   "execution_count": 32,
   "metadata": {},
   "outputs": [
    {
     "data": {
      "text/plain": [
       "'https://www.linkedin.com/jobs/view/3982947346/?eBP=BUDGET_EXHAUSTED_JOB&refId=Mc0GTF9NRQdPTOl2Bhoo5Q%3D%3D&trackingId=isG9b6OxLfWrO6KKwUzeDQ%3D%3D&trk=flagship3_search_srp_jobs'"
      ]
     },
     "execution_count": 32,
     "metadata": {},
     "output_type": "execute_result"
    }
   ],
   "source": [
    "link.get_attribute('href')"
   ]
  },
  {
   "cell_type": "markdown",
   "metadata": {},
   "source": [
    "test code"
   ]
  },
  {
   "cell_type": "code",
   "execution_count": 142,
   "metadata": {},
   "outputs": [
    {
     "name": "stdout",
     "output_type": "stream",
     "text": [
      "https://www.linkedin.com/jobs/view/3947263411/?eBP=CwEAAAGQ_i7efWzgonR1sp-oT76Ov5yUNSf1kxVrxfXjCPvgwK-hzqBxO8kvi9alqfOkQUxwfdr6OctufFRLsnCU9QZCqx8-CG4f21yaI2Zqvy_vUzWOjg0m8hfmKFqbgnkXzhYBvmfa9_n-PA9D5oz3xyuOwarvFsGxwBWfqM4D1XwNZ72pV16xdJr9MeTycgvSztOxPJpGYW4HjSI-1jYT2VCn_EAYWAuD62puiRhww3NR-G5EpAQeUq0HCVmyQvglP8lTaLXZgd-78HvLMtr0NDOjAHTDeuCJg4YPbPHrVfb9H_Vd5fUTM70OX3nKJbKi_YPqr2jZYfppgGPk0E2561NW6-HvTjlycqfaQLlAOsoxmil3dNhw8DB5JPabU2cFYqnJELjVkDC32J_R7Z42kJU23tJdfD4gEuuARC_XTVCZBfL07eOXLvA4WzoPu8Po0l8zfQa90YuUC-k-3FjycJcQcsDxbkUiVwWPPt-MJWA0gUlnIE05siOAKFY&refId=CEBrs%2B4oU1krhalgIxoUng%3D%3D&trackingId=fsefSf1R%2BhlLqMoxD8p39w%3D%3D&trk=flagship3_search_srp_jobs\n",
      "company name:  Fynd (Shopsense Retail Technologies Ltd.)\n",
      "job_title:  Computer Vision and Machine Learning Researcher\n"
     ]
    },
    {
     "ename": "StaleElementReferenceException",
     "evalue": "Message: stale element reference: stale element not found in the current frame\n  (Session info: chrome=126.0.6478.127); For documentation on this error, please visit: https://www.selenium.dev/documentation/webdriver/troubleshooting/errors#stale-element-reference-exception\nStacktrace:\n\tGetHandleVerifier [0x00EEC203+27395]\n\t(No symbol) [0x00E83E04]\n\t(No symbol) [0x00D81B7F]\n\t(No symbol) [0x00D86C7F]\n\t(No symbol) [0x00D888F8]\n\t(No symbol) [0x00D88970]\n\t(No symbol) [0x00DBDFA7]\n\t(No symbol) [0x00DE399C]\n\t(No symbol) [0x00DB8C15]\n\t(No symbol) [0x00DE3C34]\n\t(No symbol) [0x00DFCB24]\n\t(No symbol) [0x00DE3736]\n\t(No symbol) [0x00DB7541]\n\t(No symbol) [0x00DB80BD]\n\tGetHandleVerifier [0x011A3AB3+2876339]\n\tGetHandleVerifier [0x011F7F7D+3221629]\n\tGetHandleVerifier [0x00F6D674+556916]\n\tGetHandleVerifier [0x00F7478C+585868]\n\t(No symbol) [0x00E8CE44]\n\t(No symbol) [0x00E89858]\n\t(No symbol) [0x00E899F7]\n\t(No symbol) [0x00E7BF4E]\n\tBaseThreadInitThunk [0x76627BA9+25]\n\tRtlInitializeExceptionChain [0x7780BE3B+107]\n\tRtlClearBits [0x7780BDBF+191]\n",
     "output_type": "error",
     "traceback": [
      "\u001b[1;31m---------------------------------------------------------------------------\u001b[0m",
      "\u001b[1;31mStaleElementReferenceException\u001b[0m            Traceback (most recent call last)",
      "Cell \u001b[1;32mIn[142], line 29\u001b[0m\n\u001b[0;32m     27\u001b[0m out_text \u001b[38;5;241m=\u001b[39m \u001b[38;5;124m\"\u001b[39m\u001b[38;5;124m\"\u001b[39m\n\u001b[0;32m     28\u001b[0m \u001b[38;5;28;01mfor\u001b[39;00m element \u001b[38;5;129;01min\u001b[39;00m child_elements:\n\u001b[1;32m---> 29\u001b[0m     \u001b[38;5;28;01mif\u001b[39;00m \u001b[43melement\u001b[49m\u001b[38;5;241;43m.\u001b[39;49m\u001b[43mtag_name\u001b[49m \u001b[38;5;129;01min\u001b[39;00m [\u001b[38;5;124m\"\u001b[39m\u001b[38;5;124mp\u001b[39m\u001b[38;5;124m\"\u001b[39m, \u001b[38;5;124m\"\u001b[39m\u001b[38;5;124mli\u001b[39m\u001b[38;5;124m\"\u001b[39m]:\n\u001b[0;32m     30\u001b[0m         out_text \u001b[38;5;241m+\u001b[39m\u001b[38;5;241m=\u001b[39m element\u001b[38;5;241m.\u001b[39mtext\n\u001b[0;32m     33\u001b[0m found_skills \u001b[38;5;241m=\u001b[39m extract_skills(out_text, skill_keywords)\n",
      "File \u001b[1;32m~\\AppData\\Local\\Packages\\PythonSoftwareFoundation.Python.3.12_qbz5n2kfra8p0\\LocalCache\\local-packages\\Python312\\site-packages\\selenium\\webdriver\\remote\\webelement.py:85\u001b[0m, in \u001b[0;36mWebElement.tag_name\u001b[1;34m(self)\u001b[0m\n\u001b[0;32m     82\u001b[0m \u001b[38;5;129m@property\u001b[39m\n\u001b[0;32m     83\u001b[0m \u001b[38;5;28;01mdef\u001b[39;00m \u001b[38;5;21mtag_name\u001b[39m(\u001b[38;5;28mself\u001b[39m) \u001b[38;5;241m-\u001b[39m\u001b[38;5;241m>\u001b[39m \u001b[38;5;28mstr\u001b[39m:\n\u001b[0;32m     84\u001b[0m \u001b[38;5;250m    \u001b[39m\u001b[38;5;124;03m\"\"\"This element's ``tagName`` property.\"\"\"\u001b[39;00m\n\u001b[1;32m---> 85\u001b[0m     \u001b[38;5;28;01mreturn\u001b[39;00m \u001b[38;5;28;43mself\u001b[39;49m\u001b[38;5;241;43m.\u001b[39;49m\u001b[43m_execute\u001b[49m\u001b[43m(\u001b[49m\u001b[43mCommand\u001b[49m\u001b[38;5;241;43m.\u001b[39;49m\u001b[43mGET_ELEMENT_TAG_NAME\u001b[49m\u001b[43m)\u001b[49m[\u001b[38;5;124m\"\u001b[39m\u001b[38;5;124mvalue\u001b[39m\u001b[38;5;124m\"\u001b[39m]\n",
      "File \u001b[1;32m~\\AppData\\Local\\Packages\\PythonSoftwareFoundation.Python.3.12_qbz5n2kfra8p0\\LocalCache\\local-packages\\Python312\\site-packages\\selenium\\webdriver\\remote\\webelement.py:395\u001b[0m, in \u001b[0;36mWebElement._execute\u001b[1;34m(self, command, params)\u001b[0m\n\u001b[0;32m    393\u001b[0m     params \u001b[38;5;241m=\u001b[39m {}\n\u001b[0;32m    394\u001b[0m params[\u001b[38;5;124m\"\u001b[39m\u001b[38;5;124mid\u001b[39m\u001b[38;5;124m\"\u001b[39m] \u001b[38;5;241m=\u001b[39m \u001b[38;5;28mself\u001b[39m\u001b[38;5;241m.\u001b[39m_id\n\u001b[1;32m--> 395\u001b[0m \u001b[38;5;28;01mreturn\u001b[39;00m \u001b[38;5;28;43mself\u001b[39;49m\u001b[38;5;241;43m.\u001b[39;49m\u001b[43m_parent\u001b[49m\u001b[38;5;241;43m.\u001b[39;49m\u001b[43mexecute\u001b[49m\u001b[43m(\u001b[49m\u001b[43mcommand\u001b[49m\u001b[43m,\u001b[49m\u001b[43m \u001b[49m\u001b[43mparams\u001b[49m\u001b[43m)\u001b[49m\n",
      "File \u001b[1;32m~\\AppData\\Local\\Packages\\PythonSoftwareFoundation.Python.3.12_qbz5n2kfra8p0\\LocalCache\\local-packages\\Python312\\site-packages\\selenium\\webdriver\\remote\\webdriver.py:354\u001b[0m, in \u001b[0;36mWebDriver.execute\u001b[1;34m(self, driver_command, params)\u001b[0m\n\u001b[0;32m    352\u001b[0m response \u001b[38;5;241m=\u001b[39m \u001b[38;5;28mself\u001b[39m\u001b[38;5;241m.\u001b[39mcommand_executor\u001b[38;5;241m.\u001b[39mexecute(driver_command, params)\n\u001b[0;32m    353\u001b[0m \u001b[38;5;28;01mif\u001b[39;00m response:\n\u001b[1;32m--> 354\u001b[0m     \u001b[38;5;28;43mself\u001b[39;49m\u001b[38;5;241;43m.\u001b[39;49m\u001b[43merror_handler\u001b[49m\u001b[38;5;241;43m.\u001b[39;49m\u001b[43mcheck_response\u001b[49m\u001b[43m(\u001b[49m\u001b[43mresponse\u001b[49m\u001b[43m)\u001b[49m\n\u001b[0;32m    355\u001b[0m     response[\u001b[38;5;124m\"\u001b[39m\u001b[38;5;124mvalue\u001b[39m\u001b[38;5;124m\"\u001b[39m] \u001b[38;5;241m=\u001b[39m \u001b[38;5;28mself\u001b[39m\u001b[38;5;241m.\u001b[39m_unwrap_value(response\u001b[38;5;241m.\u001b[39mget(\u001b[38;5;124m\"\u001b[39m\u001b[38;5;124mvalue\u001b[39m\u001b[38;5;124m\"\u001b[39m, \u001b[38;5;28;01mNone\u001b[39;00m))\n\u001b[0;32m    356\u001b[0m     \u001b[38;5;28;01mreturn\u001b[39;00m response\n",
      "File \u001b[1;32m~\\AppData\\Local\\Packages\\PythonSoftwareFoundation.Python.3.12_qbz5n2kfra8p0\\LocalCache\\local-packages\\Python312\\site-packages\\selenium\\webdriver\\remote\\errorhandler.py:229\u001b[0m, in \u001b[0;36mErrorHandler.check_response\u001b[1;34m(self, response)\u001b[0m\n\u001b[0;32m    227\u001b[0m         alert_text \u001b[38;5;241m=\u001b[39m value[\u001b[38;5;124m\"\u001b[39m\u001b[38;5;124malert\u001b[39m\u001b[38;5;124m\"\u001b[39m]\u001b[38;5;241m.\u001b[39mget(\u001b[38;5;124m\"\u001b[39m\u001b[38;5;124mtext\u001b[39m\u001b[38;5;124m\"\u001b[39m)\n\u001b[0;32m    228\u001b[0m     \u001b[38;5;28;01mraise\u001b[39;00m exception_class(message, screen, stacktrace, alert_text)  \u001b[38;5;66;03m# type: ignore[call-arg]  # mypy is not smart enough here\u001b[39;00m\n\u001b[1;32m--> 229\u001b[0m \u001b[38;5;28;01mraise\u001b[39;00m exception_class(message, screen, stacktrace)\n",
      "\u001b[1;31mStaleElementReferenceException\u001b[0m: Message: stale element reference: stale element not found in the current frame\n  (Session info: chrome=126.0.6478.127); For documentation on this error, please visit: https://www.selenium.dev/documentation/webdriver/troubleshooting/errors#stale-element-reference-exception\nStacktrace:\n\tGetHandleVerifier [0x00EEC203+27395]\n\t(No symbol) [0x00E83E04]\n\t(No symbol) [0x00D81B7F]\n\t(No symbol) [0x00D86C7F]\n\t(No symbol) [0x00D888F8]\n\t(No symbol) [0x00D88970]\n\t(No symbol) [0x00DBDFA7]\n\t(No symbol) [0x00DE399C]\n\t(No symbol) [0x00DB8C15]\n\t(No symbol) [0x00DE3C34]\n\t(No symbol) [0x00DFCB24]\n\t(No symbol) [0x00DE3736]\n\t(No symbol) [0x00DB7541]\n\t(No symbol) [0x00DB80BD]\n\tGetHandleVerifier [0x011A3AB3+2876339]\n\tGetHandleVerifier [0x011F7F7D+3221629]\n\tGetHandleVerifier [0x00F6D674+556916]\n\tGetHandleVerifier [0x00F7478C+585868]\n\t(No symbol) [0x00E8CE44]\n\t(No symbol) [0x00E89858]\n\t(No symbol) [0x00E899F7]\n\t(No symbol) [0x00E7BF4E]\n\tBaseThreadInitThunk [0x76627BA9+25]\n\tRtlInitializeExceptionChain [0x7780BE3B+107]\n\tRtlClearBits [0x7780BDBF+191]\n"
     ]
    }
   ],
   "source": [
    "import time\n",
    "\n",
    "for job_card in job_cards:\n",
    "\n",
    "    link = job_card.find_element(By.XPATH, \".//a\")\n",
    "    # Opening a particular Job card to reveal the Job description.\n",
    "    link.click()\n",
    "\n",
    "    print(link.get_attribute('href'))\n",
    "\n",
    "    # Grabbing the div element that cotains the Job description.\n",
    "    job_desc_panel = WebDriverWait(driver, 10).until(ec.element_to_be_clickable((By.CSS_SELECTOR, \"div[class='jobs-search__job-details--wrapper']\")))\n",
    "\n",
    "    # Scrolling to load all the contents of the JD\n",
    "    (driver).execute_script(\"arguments[0].scrollTo(0,6000000);\", job_desc_panel)\n",
    "\n",
    "    company_name =  job_desc_panel.find_element(By.XPATH, \".//div[@class = 'job-details-jobs-unified-top-card__company-name']\").text\n",
    "    job_title = job_desc_panel.find_element(By.XPATH,\".//h1[@class = 't-24 t-bold inline']\")\n",
    "\n",
    "    print(\"company name: \", company_name)\n",
    "    print(\"job_title: \", job_title.text)\n",
    "\n",
    "    # parsing the JD for key-words \n",
    "    job_desc_panel = WebDriverWait(driver, 10).until(ec.element_to_be_clickable((By.CSS_SELECTOR, \"div[class='jobs-search__job-details--wrapper']\")))\n",
    "\n",
    "    child_elements = job_desc_panel.find_elements(By.XPATH, \".//*\")\n",
    "    out_text = \"\"\n",
    "    for element in child_elements:\n",
    "        if element.tag_name in [\"p\", \"li\"]:\n",
    "            out_text += element.text\n",
    "\n",
    "\n",
    "    found_skills = extract_skills(out_text, skill_keywords)\n",
    "    print(len(found_skills),  \"Skills found in the job description:\", found_skills)\n",
    "    time.sleep(5)\n"
   ]
  },
  {
   "cell_type": "code",
   "execution_count": null,
   "metadata": {},
   "outputs": [],
   "source": []
  }
 ],
 "metadata": {
  "kernelspec": {
   "display_name": "Python 3",
   "language": "python",
   "name": "python3"
  },
  "language_info": {
   "codemirror_mode": {
    "name": "ipython",
    "version": 3
   },
   "file_extension": ".py",
   "mimetype": "text/x-python",
   "name": "python",
   "nbconvert_exporter": "python",
   "pygments_lexer": "ipython3",
   "version": "3.12.4"
  }
 },
 "nbformat": 4,
 "nbformat_minor": 2
}
