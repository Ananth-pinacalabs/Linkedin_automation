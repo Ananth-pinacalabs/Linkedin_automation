{
 "cells": [
  {
   "cell_type": "code",
   "execution_count": 68,
   "metadata": {},
   "outputs": [],
   "source": [
    "from selenium import webdriver\n",
    "from selenium.webdriver.common.keys import Keys\n",
    "from selenium.webdriver.support import expected_conditions as ec\n",
    "from selenium.webdriver.common.by import By\n",
    "from selenium.webdriver.support.wait import WebDriverWait\n",
    "from selenium.webdriver.chrome.service import Service\n",
    "from webdriver_manager.chrome import ChromeDriverManager"
   ]
  },
  {
   "cell_type": "markdown",
   "metadata": {},
   "source": [
    "Create a Browser instance"
   ]
  },
  {
   "cell_type": "code",
   "execution_count": 69,
   "metadata": {},
   "outputs": [],
   "source": [
    "\n",
    "driver = webdriver.Chrome(service=Service(ChromeDriverManager().install()))"
   ]
  },
  {
   "cell_type": "code",
   "execution_count": 70,
   "metadata": {},
   "outputs": [],
   "source": [
    "# open LinkedIn login\n",
    "driver.get(\"https://www.linkedin.com/login?fromSignIn=true&trk=guest_homepage-basic_nav-header-signin\")\n",
    "\n",
    "# login with Credentials\n",
    "username = WebDriverWait(driver, 50).until(ec.element_to_be_clickable((By.CSS_SELECTOR, \"input[id='username']\")))\n",
    "password = WebDriverWait(driver, 50).until(ec.element_to_be_clickable((By.CSS_SELECTOR, \"input[id='password']\")))\n",
    "username.clear()\n",
    "username.send_keys(\"iamananth123@gmail.com\")\n",
    "password.clear()\n",
    "password.send_keys(\"anantharaman\")\n",
    "\n",
    "\n",
    "submit_button = WebDriverWait(driver, 50).until(ec.element_to_be_clickable((By.CSS_SELECTOR, \"button[type='submit']\")))\n",
    "submit_button.click()\n"
   ]
  },
  {
   "cell_type": "code",
   "execution_count": 71,
   "metadata": {},
   "outputs": [
    {
     "name": "stdout",
     "output_type": "stream",
     "text": [
      "['https://www.linkedin.com/jobs/search/?currentJobId=3947262572&keywords=machine%20learning&origin=SWITCH_SEARCH_VERTICAL', 'https://www.linkedin.com/jobs/search/?currentJobId=3967471753&geoId=102713980&keywords=deep%20learning&origin=JOB_SEARCH_PAGE_SEARCH_BUTTON&refresh=true', 'https://www.linkedin.com/jobs/search/?currentJobId=3981401852&geoId=102713980&keywords=computer%20vision&origin=JOB_SEARCH_PAGE_SEARCH_BUTTON&refresh=true']\n"
     ]
    }
   ],
   "source": [
    "# get links -- links contain the direct link to job search with  some predecided job titles. \n",
    "\n",
    "links = []\n",
    "with open(\"links.txt\", \"r\") as links:\n",
    "    links = links.readline().split(\",\") \n",
    "\n",
    "print(links)\n",
    "driver.get(links[0])"
   ]
  },
  {
   "cell_type": "markdown",
   "metadata": {},
   "source": [
    "use this"
   ]
  },
  {
   "cell_type": "code",
   "execution_count": 89,
   "metadata": {},
   "outputs": [
    {
     "name": "stdout",
     "output_type": "stream",
     "text": [
      "Is the element scrollable? Yes\n"
     ]
    }
   ],
   "source": [
    "element = driver.find_element(By.CSS_SELECTOR, '.jobs-search-results-list')\n",
    "\n",
    "# Check if the element is scrollable vertically\n",
    "is_scrollable = element.get_attribute('scrollHeight') > element.get_attribute('clientHeight')\n",
    "\n",
    "# Print the result\n",
    "print(f\"Is the element scrollable? {'Yes' if is_scrollable else 'No'}\")\n",
    "(driver).execute_script(\"arguments[0].scrollTo(0,6000000);\", element)\n",
    "\n",
    "\n"
   ]
  },
  {
   "cell_type": "markdown",
   "metadata": {},
   "source": [
    "and this"
   ]
  },
  {
   "cell_type": "code",
   "execution_count": 90,
   "metadata": {},
   "outputs": [],
   "source": [
    "\n",
    "(driver).execute_script(\"arguments[0].scrollTo(0,6000000);\", element)\n"
   ]
  },
  {
   "cell_type": "code",
   "execution_count": 33,
   "metadata": {},
   "outputs": [
    {
     "name": "stdout",
     "output_type": "stream",
     "text": [
      "8\n",
      "https://www.linkedin.com/jobs/view/3947263411/?eBP=CwEAAAGRCD4z41LOFWkYaoyMlxrVxTLly4QLjT6JIExK1zO26V2f40B4Fv7TEwm2DALM7JCMkL4qjToLQs1kcslhTR9P33yNGc6KrPUhlCSmkl_qAVSZKf83KSW82LYnaTlywExG19Rrnb28EGsIavmsfNc3P0yNNyzo7R0HQbk1yO0pFkTmQ8rvu-8Zlx1prEAH-63s-9Ph_dbLIG1tfbbjU1VT9LDHi3gNXJHQ-gKs8lbpTmeX-161KZpxPzhMiKnGHKZR771LhSV93uyTBEkhlbUrb0feJMXR-scnUK03bKWLjT_QApAWBedOxxketwe-AFbj1mQW15xNxrG8en6E2OIaFkg3CLpjGALA-EXdtr_CwNwvaSC4IIpi9eYRVIIpTYi2-8iKxZvm9GlY-kTSMdiDQmgT3xCoiaOJeJdWY3jRLCUfNU0Zj5SmQCUQ5jzGfej6hkQymd-HGWzsw-VqrZPsWU_3OKkR_SMLeyqWblZy4YrMgxntJG_k2C4&refId=bJ%2FN6bm8bJZCDCz2JwYb0g%3D%3D&trackingId=Goo23%2FYb9FQm3lJkPurxlA%3D%3D&trk=flagship3_search_srp_jobs\n",
      "https://www.linkedin.com/jobs/view/3963374710/?eBP=CwEAAAGRCD4z41UdDd9SDo8o_sGUpQWgk0PMYvPkKHp3Ug6muU7CdBslFXVH0IFoX3Uv0tlcbQTAo9wl0Y6uQU3tzOa5gRT_t5RIt218o9D2j4-7ZuhWF0gifzVQFFnzkMlWCA0xtGkq5XxNBgLDsaaAfq2WFfrxWC4ROCDoZ1NX4oyMHQb5zKzsw76n22nw8s08B9-FgtZaUdg4UEJ6zcanA9hHYaZciS7TDaABaBBblQ9LuUMixVUGTG7L_WbIvqcGXtnwkKn-QUdp7sinMXxFw1o8X5UxXFo5moC7YoHKKkeBlPOsRajfey5eZw-INb4vXyDaRZ3z0iGnFgXE57mJlOfgDATElRFIFI5mNvnSbdqiJtJkj4dnxcb8bQNe0iGOfW1BxHQr7PRjxNvFzdVe8WzuFNawGth96MtxZGudmGsRtRtXCnFFaekZoLiUsW-GTn07KwI32NATkcCcMg6rkbCH2ge2D93GG_Ynisz_H55OX1sd0KSKyQUeN_t9&refId=bJ%2FN6bm8bJZCDCz2JwYb0g%3D%3D&trackingId=aTB2eHLQrLjJzBkomnDaxw%3D%3D&trk=flagship3_search_srp_jobs\n",
      "https://www.linkedin.com/jobs/view/3944288096/?eBP=CwEAAAGRCD4z44eALcQo10BHgvOS6UTJEe2mkv8hxSbXqwv08WXYUqzzf1L9YDi33vKMgBCGTgxtBbgM8qpP6uhuue4ifb0MjWKPnpB4KD0I8f9RevhHvc71KE9tXqlR3_yU5C5HlR6QNVa1lI0E9I-FfTTchu9iIOA8KaMSFJQKgOJ8Iuce2Y-4gMieQxSzLSgn4T5id8xMOc6JQzvaO0nZDpLq8PF8D4oOhtr0t7yA2gioGQKw_LTnht59mH7dFkKtl0b4bU2PokypwiaDUn3c4m4pl7fybqAGQAE8T-cFTwJKrqz9_IXeYV22wGR7EupFjIfyYDlW2u-QITxQbrXA-yiPF7sudr9uSHEUKrNTm93Nngom3Vg8lQyXewMA5joAoQOrBgpBjINArZW90rbD3GxvQHy6cM7pfyAB8dfw&refId=bJ%2FN6bm8bJZCDCz2JwYb0g%3D%3D&trackingId=U9LJcP8RIL5lqszvOzOSbQ%3D%3D&trk=flagship3_search_srp_jobs\n",
      "https://www.linkedin.com/jobs/view/3980770436/?eBP=CwEAAAGRCD4z43lSt1qdlXxNGPgHTH5abKt4OyYkhKdYoyitelXVsZGn28dqacG7BA4Qp7k7X9S5qPvfml-gbElcl-kZy_nOfKMlh1QlOcXeJxaFv723R73d3Pdt-GDjp9T4v6hRCHn9nXTowtQYjl9h6HplE4q3JVTLE_l4uBTrsDWT_i6VNt23qSqzoaYWI9AQOSKThfJw4y7XoBVkxBbEajgRQu57jlwG4d7jNvGPlmJYIv05OQ3fnGRO3yDB4pYpZV2gYWmtJ8U7Vm3h1lAGKTTQ6WeArwfHDheqy9Nrfh-ZtlSxUeNypU714NsEgLkYnyJ6K7PiWAxyhIDA6RjvVCuo02NxGqExOBgBdbd6eHB98jYUfeHfZMZ8FOzy460FDs-pF1aQd60P0XymIlBvQDR_ooa2lp_3-sxgTzjR&refId=bJ%2FN6bm8bJZCDCz2JwYb0g%3D%3D&trackingId=AIZwvj%2Bp0rpvXzaR9Chg4Q%3D%3D&trk=flagship3_search_srp_jobs\n",
      "https://www.linkedin.com/jobs/view/3973951236/?eBP=CwEAAAGRCD4z4woHllpdHyk9QHXATaIu9t8XjpXMafxFBSw2l8hVDyPDXI4Rj5IhtPzDxy_FoHVR1dA0uM2MW-ZGouKG3nCiHKcIRmTRXtE5DeZrW6MpDbBzlen4DPaQlglKbm5ISexeoQ-rj6xGybgk7kV6JUFHKMzgSIIC_bSfDX0jU1Dqwtk_TBPOstHHB6ZxF67LQeTWbMYcL9BWwtmnlOwsYoomaO06suSdBEGXAugdEIvgibmmZ7ygMlc9NcKt8Mhj_sHw4RlYDHPsNDyGNFqqweEzkdB7SQngfQ4nZvpRp-Vlav5VS0gJl_FLsjZVh5H90Kva6gjI2GsSt1kX8IpGroN9vxb_bhAUZBJCpvoMuO4Cz4ElWlaf6jhcGqS30ubgabrgLEKTVqsIVo06yUtc3Xw5VZx8VbRp_EcxDVJSZxOzu23kzwGqb2vsF26tZg&refId=bJ%2FN6bm8bJZCDCz2JwYb0g%3D%3D&trackingId=RLiB3Fw3Cw%2FP98%2BWTgH2FA%3D%3D&trk=flagship3_search_srp_jobs\n",
      "https://www.linkedin.com/jobs/view/3947262572/?eBP=CwEAAAGRCD4z48ICftuscyHdR91mxMamYdnKfWzG_Tgv60N11BI3c0qPVQeHlXS0DLZch5lm-8b0KA0W8hx-k1t9O0m6G6RAqCOWxuUL97JEk6IDXQ3xJTeXrch5uxcvcXkn2yXrc8rADFU6498qbRv5wqVtfe9Rk2JEOpKuXYNMl1n_4b-khZIUO9Hx8SX0B7H8O6eiXRtex2BZixhx1wltSFe1z6Lby47zKmN1GB16WjBAllWp4PzKTaYEFjeVkRRoGNSmdBGj0b_oSjOogl2xEEKL2cpatiSge-RJhCd6dRWSJx_m6HDGM3nfj3vNZCzILEqpz3iagXM6kta7dnrz__jL4W9L-FJVkhFvF64SQL5ya6P39zwVORQuXG5xjZeO8IY-OnE2x9x4O7TZHYJgwE7_mY3SnLjltqkpEsfV47ZARb7RqKk49tcoq_Ni5tdN849c7PuhKHQnlyWysnOHPXy156T5Y14p94pndEmpkv2E_htuTkWsEt4RpLw&refId=bJ%2FN6bm8bJZCDCz2JwYb0g%3D%3D&trackingId=jFRTnoxcZhfXcO1NlKydJQ%3D%3D&trk=flagship3_search_srp_jobs\n",
      "https://www.linkedin.com/jobs/view/3960616579/?eBP=CwEAAAGRCD4z48tUxc6knt4ER-Nu0cfduuzUYj2uDxY_kDvlqkuBDGRIxIJFX0nNOLuvIEzknW7XqVuVtbu-U571pE4L2uAdj-uW_dt0Ll2GFj9I7ljMN7fZgLiCp-Ro1oCK2bBV_qIWZBmDo6Qa8yqaz5vlm9u9bUdpLiOCZV30ZYv3yTwMqnwimQ2Mz69ig0tR8VG8XIqXLffWxY4zu_Ypto7xz4MkPOMgEATqpE4gpukV9fZRIk-kVe4cTkj3nZ3CcD8Zn327vI9BQi4psZQ2SGR0QRHNa7Ov3M_eRRMOuWoSOCkf0bvlKrUMPbZiHOB4NhfS3IoA_kVCuw0uLRy9J5dhTZ_GTFWdO7oGmpZAHlg3SSyfCOiWEovw70XEib6IIwxyESvN2u9IKWuaxPndp3vDrSV4dX6SqMY7L3WOl0BnTyvTK6xBnT9tejY-M-Z49e_DQl069kyTxHrKGNkqtR-qAMnNGsiPflb0YDY&refId=bJ%2FN6bm8bJZCDCz2JwYb0g%3D%3D&trackingId=TH8hNWmCE%2BojMY1PO6nDLw%3D%3D&trk=flagship3_search_srp_jobs\n",
      "https://www.linkedin.com/jobs/view/3945211381/?eBP=CwEAAAGRCD4z5Mtgkcx50WL_iDS-sczLCsHfCX6j4LwOd-1IdV_iOkMpIzCRL3kXfJSuBB-d5nLRsFkikBf7QvNuD79Iwn7j5gKXVzfFrvs81sxirD1kDQl2VqR-RpDkCsEEekMvkgbK8-LOoZPx1u0lJ-3f_ELUVsOwsu_MxXNrG7u7yIZGEA0tkGtA2yXN4tCiCGx2k4QXCGU5W4u-9pPMI_drAOwJBWldkNAAtacxyefFQKhhuN1PWbxH2yb72WH3BVScFkmP-YDI8VvD2iO60jclVGi4sp5E-TDGJ4ydgTxSNwkyGsfOTvRao3hSKuHBT4Aloz87tbn75_3yZv2QadWxUic1yFmk5owl1dEoW7WNoHJL5qEEtODXmKvgkewMSRIVuZ-tCxWiE-OfC2DzBOb3xOyNsrF5JUwf0VCws2IU5JITmYFAiv3Y_led9T19X9WQ0gXoQKny8qtv1Tp2D0Bi&refId=bJ%2FN6bm8bJZCDCz2JwYb0g%3D%3D&trackingId=aw9CRTVsI8LspTe%2BizsowA%3D%3D&trk=flagship3_search_srp_jobs\n",
      "[<selenium.webdriver.remote.webelement.WebElement (session=\"1b439f66e529c4e11dc76ee688588563\", element=\"f.32100765CD30489170A63EE9DD9C2B44.d.D4B3C39BA6C9256FC8A5E11C1B98D65A.e.198\")>, <selenium.webdriver.remote.webelement.WebElement (session=\"1b439f66e529c4e11dc76ee688588563\", element=\"f.32100765CD30489170A63EE9DD9C2B44.d.D4B3C39BA6C9256FC8A5E11C1B98D65A.e.199\")>, <selenium.webdriver.remote.webelement.WebElement (session=\"1b439f66e529c4e11dc76ee688588563\", element=\"f.32100765CD30489170A63EE9DD9C2B44.d.D4B3C39BA6C9256FC8A5E11C1B98D65A.e.200\")>, <selenium.webdriver.remote.webelement.WebElement (session=\"1b439f66e529c4e11dc76ee688588563\", element=\"f.32100765CD30489170A63EE9DD9C2B44.d.D4B3C39BA6C9256FC8A5E11C1B98D65A.e.201\")>, <selenium.webdriver.remote.webelement.WebElement (session=\"1b439f66e529c4e11dc76ee688588563\", element=\"f.32100765CD30489170A63EE9DD9C2B44.d.D4B3C39BA6C9256FC8A5E11C1B98D65A.e.202\")>, <selenium.webdriver.remote.webelement.WebElement (session=\"1b439f66e529c4e11dc76ee688588563\", element=\"f.32100765CD30489170A63EE9DD9C2B44.d.D4B3C39BA6C9256FC8A5E11C1B98D65A.e.203\")>, <selenium.webdriver.remote.webelement.WebElement (session=\"1b439f66e529c4e11dc76ee688588563\", element=\"f.32100765CD30489170A63EE9DD9C2B44.d.D4B3C39BA6C9256FC8A5E11C1B98D65A.e.204\")>, <selenium.webdriver.remote.webelement.WebElement (session=\"1b439f66e529c4e11dc76ee688588563\", element=\"f.32100765CD30489170A63EE9DD9C2B44.d.D4B3C39BA6C9256FC8A5E11C1B98D65A.e.205\")>]\n"
     ]
    }
   ],
   "source": [
    "job_list = WebDriverWait(driver, 10).until(ec.element_to_be_clickable((By.CSS_SELECTOR, \"ul[class='scaffold-layout__list-container']\")))\n",
    "job_cards = job_list.find_elements(By.XPATH, \".//div[@data-view-name = 'job-card']\")\n",
    "print(len(job_cards))\n",
    "\n",
    "link_list = []\n",
    "card_list = []\n",
    "for job_card in job_cards:\n",
    "    \n",
    "    link = job_card.find_element(By.XPATH, \".//a\")\n",
    "    card_list.append(link)\n",
    "    link_list.append(link.get_attribute('href'))\n",
    "    \n",
    "\n",
    "\n",
    "for i in link_list:\n",
    "    print(i)\n",
    "\n",
    "print(card_list)"
   ]
  },
  {
   "cell_type": "code",
   "execution_count": 134,
   "metadata": {},
   "outputs": [],
   "source": [
    "job_list = WebDriverWait(driver, 10).until(ec.element_to_be_clickable((By.CSS_SELECTOR, \"ul[class='scaffold-layout__list-container']\")))\n",
    "\n",
    "(driver).execute_script(\"arguments[0].scrollTo(0,6000000);\", job_list)\n"
   ]
  },
  {
   "cell_type": "code",
   "execution_count": 88,
   "metadata": {},
   "outputs": [],
   "source": [
    "job_cards_panel = WebDriverWait(driver, 10).until(ec.element_to_be_clickable((By.XPATH, '//div[starts-with(@class, \"jobs-search-results-list\")]')))\n",
    "(driver).execute_script(\"arguments[0].scrollTo(0,6000000);\", job_cards_panel)"
   ]
  },
  {
   "cell_type": "code",
   "execution_count": 68,
   "metadata": {},
   "outputs": [],
   "source": [
    "job_list = WebDriverWait(driver, 10).until(ec.element_to_be_clickable((By.CSS_SELECTOR, \"ul[class='scaffold-layout__list-container']\")))\n",
    "\n",
    "# scroll to render/ load  all the job cards \n",
    "(driver).execute_script(\"arguments[0].scrollTo(0,6000000);\", job_list)\n"
   ]
  },
  {
   "cell_type": "code",
   "execution_count": 79,
   "metadata": {},
   "outputs": [],
   "source": [
    "element = driver.find_element(By.XPATH, '//div[@data-results-list-top-scroll-sentinel=\"\"]')\n",
    "(driver).execute_script(\"arguments[0].scrollTo(0,6000000);\", element)\n"
   ]
  },
  {
   "cell_type": "code",
   "execution_count": 77,
   "metadata": {},
   "outputs": [],
   "source": [
    "job_list = WebDriverWait(driver, 10).until(ec.element_to_be_clickable((By.XPATH, \"ul[class='scaffold-layout__list-container']\")))\n",
    "\n",
    "(driver).execute_script(\"arguments[0].scrollTo(0,6000000);\", job_list)\n"
   ]
  },
  {
   "cell_type": "code",
   "execution_count": 21,
   "metadata": {},
   "outputs": [],
   "source": [
    "for i in card_list:\n",
    "    i.click()"
   ]
  },
  {
   "cell_type": "code",
   "execution_count": 91,
   "metadata": {},
   "outputs": [
    {
     "name": "stdout",
     "output_type": "stream",
     "text": [
      "25\n"
     ]
    }
   ],
   "source": [
    "# grab the web element containing the list of job cards. \n",
    "job_list = WebDriverWait(driver, 10).until(ec.element_to_be_clickable((By.CSS_SELECTOR, \"ul[class='scaffold-layout__list-container']\")))\n",
    "\n",
    "# scroll to render/ load  all the job cards \n",
    "(driver).execute_script(\"arguments[0].scrollTo(0,6000000);\", job_list)\n",
    "\n",
    "# extract the job_cards\n",
    "job_cards = job_list.find_elements(By.XPATH, \".//div[@data-view-name = 'job-card']\")\n",
    "\n",
    "print(len(job_cards))"
   ]
  },
  {
   "cell_type": "code",
   "execution_count": 120,
   "metadata": {},
   "outputs": [],
   "source": [
    "driver.get(links[0])"
   ]
  },
  {
   "cell_type": "markdown",
   "metadata": {},
   "source": [
    "working on this "
   ]
  },
  {
   "cell_type": "code",
   "execution_count": 19,
   "metadata": {},
   "outputs": [
    {
     "name": "stdout",
     "output_type": "stream",
     "text": [
      "11\n",
      "company name:  Fynd (Shopsense Retail Technologies Ltd.)\n",
      "job_title:  Computer Vision and Machine Learning Researcher\n"
     ]
    },
    {
     "ename": "StaleElementReferenceException",
     "evalue": "Message: stale element reference: stale element not found in the current frame\n  (Session info: chrome=127.0.6533.88); For documentation on this error, please visit: https://www.selenium.dev/documentation/webdriver/troubleshooting/errors#stale-element-reference-exception\nStacktrace:\n\tGetHandleVerifier [0x00E28923+23283]\n\t(No symbol) [0x00DEE934]\n\t(No symbol) [0x00D20733]\n\t(No symbol) [0x00D260DF]\n\t(No symbol) [0x00D27A88]\n\t(No symbol) [0x00D27B00]\n\t(No symbol) [0x00D5E747]\n\t(No symbol) [0x00D8441C]\n\t(No symbol) [0x00D59485]\n\t(No symbol) [0x00D846B4]\n\t(No symbol) [0x00D9CB8D]\n\t(No symbol) [0x00D841B6]\n\t(No symbol) [0x00D58017]\n\t(No symbol) [0x00D5890D]\n\tGetHandleVerifier [0x00F1A5F3+1013699]\n\tGetHandleVerifier [0x00F23E4C+1052700]\n\tGetHandleVerifier [0x00F1D4B4+1025668]\n\tGetHandleVerifier [0x00E4EA2B+179195]\n\t(No symbol) [0x00DF6833]\n\t(No symbol) [0x00DF3198]\n\t(No symbol) [0x00DF3337]\n\t(No symbol) [0x00DEB4BE]\n\tBaseThreadInitThunk [0x762D7BA9+25]\n\tRtlInitializeExceptionChain [0x7748C10B+107]\n\tRtlClearBits [0x7748C08F+191]\n",
     "output_type": "error",
     "traceback": [
      "\u001b[1;31m---------------------------------------------------------------------------\u001b[0m",
      "\u001b[1;31mStaleElementReferenceException\u001b[0m            Traceback (most recent call last)",
      "Cell \u001b[1;32mIn[19], line 24\u001b[0m\n\u001b[0;32m     22\u001b[0m out_text \u001b[38;5;241m=\u001b[39m \u001b[38;5;124m\"\u001b[39m\u001b[38;5;124m\"\u001b[39m\n\u001b[0;32m     23\u001b[0m \u001b[38;5;28;01mfor\u001b[39;00m element \u001b[38;5;129;01min\u001b[39;00m child_elements:\n\u001b[1;32m---> 24\u001b[0m     \u001b[38;5;28;01mif\u001b[39;00m \u001b[43melement\u001b[49m\u001b[38;5;241;43m.\u001b[39;49m\u001b[43mtag_name\u001b[49m \u001b[38;5;129;01min\u001b[39;00m [\u001b[38;5;124m\"\u001b[39m\u001b[38;5;124mp\u001b[39m\u001b[38;5;124m\"\u001b[39m, \u001b[38;5;124m\"\u001b[39m\u001b[38;5;124mli\u001b[39m\u001b[38;5;124m\"\u001b[39m]:\n\u001b[0;32m     25\u001b[0m         out_text \u001b[38;5;241m+\u001b[39m\u001b[38;5;241m=\u001b[39m element\u001b[38;5;241m.\u001b[39mtext\n\u001b[0;32m     27\u001b[0m found_skills \u001b[38;5;241m=\u001b[39m extract_skills(out_text, skill_keywords)\n",
      "File \u001b[1;32m~\\AppData\\Local\\Packages\\PythonSoftwareFoundation.Python.3.12_qbz5n2kfra8p0\\LocalCache\\local-packages\\Python312\\site-packages\\selenium\\webdriver\\remote\\webelement.py:85\u001b[0m, in \u001b[0;36mWebElement.tag_name\u001b[1;34m(self)\u001b[0m\n\u001b[0;32m     82\u001b[0m \u001b[38;5;129m@property\u001b[39m\n\u001b[0;32m     83\u001b[0m \u001b[38;5;28;01mdef\u001b[39;00m \u001b[38;5;21mtag_name\u001b[39m(\u001b[38;5;28mself\u001b[39m) \u001b[38;5;241m-\u001b[39m\u001b[38;5;241m>\u001b[39m \u001b[38;5;28mstr\u001b[39m:\n\u001b[0;32m     84\u001b[0m \u001b[38;5;250m    \u001b[39m\u001b[38;5;124;03m\"\"\"This element's ``tagName`` property.\"\"\"\u001b[39;00m\n\u001b[1;32m---> 85\u001b[0m     \u001b[38;5;28;01mreturn\u001b[39;00m \u001b[38;5;28;43mself\u001b[39;49m\u001b[38;5;241;43m.\u001b[39;49m\u001b[43m_execute\u001b[49m\u001b[43m(\u001b[49m\u001b[43mCommand\u001b[49m\u001b[38;5;241;43m.\u001b[39;49m\u001b[43mGET_ELEMENT_TAG_NAME\u001b[49m\u001b[43m)\u001b[49m[\u001b[38;5;124m\"\u001b[39m\u001b[38;5;124mvalue\u001b[39m\u001b[38;5;124m\"\u001b[39m]\n",
      "File \u001b[1;32m~\\AppData\\Local\\Packages\\PythonSoftwareFoundation.Python.3.12_qbz5n2kfra8p0\\LocalCache\\local-packages\\Python312\\site-packages\\selenium\\webdriver\\remote\\webelement.py:395\u001b[0m, in \u001b[0;36mWebElement._execute\u001b[1;34m(self, command, params)\u001b[0m\n\u001b[0;32m    393\u001b[0m     params \u001b[38;5;241m=\u001b[39m {}\n\u001b[0;32m    394\u001b[0m params[\u001b[38;5;124m\"\u001b[39m\u001b[38;5;124mid\u001b[39m\u001b[38;5;124m\"\u001b[39m] \u001b[38;5;241m=\u001b[39m \u001b[38;5;28mself\u001b[39m\u001b[38;5;241m.\u001b[39m_id\n\u001b[1;32m--> 395\u001b[0m \u001b[38;5;28;01mreturn\u001b[39;00m \u001b[38;5;28;43mself\u001b[39;49m\u001b[38;5;241;43m.\u001b[39;49m\u001b[43m_parent\u001b[49m\u001b[38;5;241;43m.\u001b[39;49m\u001b[43mexecute\u001b[49m\u001b[43m(\u001b[49m\u001b[43mcommand\u001b[49m\u001b[43m,\u001b[49m\u001b[43m \u001b[49m\u001b[43mparams\u001b[49m\u001b[43m)\u001b[49m\n",
      "File \u001b[1;32m~\\AppData\\Local\\Packages\\PythonSoftwareFoundation.Python.3.12_qbz5n2kfra8p0\\LocalCache\\local-packages\\Python312\\site-packages\\selenium\\webdriver\\remote\\webdriver.py:354\u001b[0m, in \u001b[0;36mWebDriver.execute\u001b[1;34m(self, driver_command, params)\u001b[0m\n\u001b[0;32m    352\u001b[0m response \u001b[38;5;241m=\u001b[39m \u001b[38;5;28mself\u001b[39m\u001b[38;5;241m.\u001b[39mcommand_executor\u001b[38;5;241m.\u001b[39mexecute(driver_command, params)\n\u001b[0;32m    353\u001b[0m \u001b[38;5;28;01mif\u001b[39;00m response:\n\u001b[1;32m--> 354\u001b[0m     \u001b[38;5;28;43mself\u001b[39;49m\u001b[38;5;241;43m.\u001b[39;49m\u001b[43merror_handler\u001b[49m\u001b[38;5;241;43m.\u001b[39;49m\u001b[43mcheck_response\u001b[49m\u001b[43m(\u001b[49m\u001b[43mresponse\u001b[49m\u001b[43m)\u001b[49m\n\u001b[0;32m    355\u001b[0m     response[\u001b[38;5;124m\"\u001b[39m\u001b[38;5;124mvalue\u001b[39m\u001b[38;5;124m\"\u001b[39m] \u001b[38;5;241m=\u001b[39m \u001b[38;5;28mself\u001b[39m\u001b[38;5;241m.\u001b[39m_unwrap_value(response\u001b[38;5;241m.\u001b[39mget(\u001b[38;5;124m\"\u001b[39m\u001b[38;5;124mvalue\u001b[39m\u001b[38;5;124m\"\u001b[39m, \u001b[38;5;28;01mNone\u001b[39;00m))\n\u001b[0;32m    356\u001b[0m     \u001b[38;5;28;01mreturn\u001b[39;00m response\n",
      "File \u001b[1;32m~\\AppData\\Local\\Packages\\PythonSoftwareFoundation.Python.3.12_qbz5n2kfra8p0\\LocalCache\\local-packages\\Python312\\site-packages\\selenium\\webdriver\\remote\\errorhandler.py:229\u001b[0m, in \u001b[0;36mErrorHandler.check_response\u001b[1;34m(self, response)\u001b[0m\n\u001b[0;32m    227\u001b[0m         alert_text \u001b[38;5;241m=\u001b[39m value[\u001b[38;5;124m\"\u001b[39m\u001b[38;5;124malert\u001b[39m\u001b[38;5;124m\"\u001b[39m]\u001b[38;5;241m.\u001b[39mget(\u001b[38;5;124m\"\u001b[39m\u001b[38;5;124mtext\u001b[39m\u001b[38;5;124m\"\u001b[39m)\n\u001b[0;32m    228\u001b[0m     \u001b[38;5;28;01mraise\u001b[39;00m exception_class(message, screen, stacktrace, alert_text)  \u001b[38;5;66;03m# type: ignore[call-arg]  # mypy is not smart enough here\u001b[39;00m\n\u001b[1;32m--> 229\u001b[0m \u001b[38;5;28;01mraise\u001b[39;00m exception_class(message, screen, stacktrace)\n",
      "\u001b[1;31mStaleElementReferenceException\u001b[0m: Message: stale element reference: stale element not found in the current frame\n  (Session info: chrome=127.0.6533.88); For documentation on this error, please visit: https://www.selenium.dev/documentation/webdriver/troubleshooting/errors#stale-element-reference-exception\nStacktrace:\n\tGetHandleVerifier [0x00E28923+23283]\n\t(No symbol) [0x00DEE934]\n\t(No symbol) [0x00D20733]\n\t(No symbol) [0x00D260DF]\n\t(No symbol) [0x00D27A88]\n\t(No symbol) [0x00D27B00]\n\t(No symbol) [0x00D5E747]\n\t(No symbol) [0x00D8441C]\n\t(No symbol) [0x00D59485]\n\t(No symbol) [0x00D846B4]\n\t(No symbol) [0x00D9CB8D]\n\t(No symbol) [0x00D841B6]\n\t(No symbol) [0x00D58017]\n\t(No symbol) [0x00D5890D]\n\tGetHandleVerifier [0x00F1A5F3+1013699]\n\tGetHandleVerifier [0x00F23E4C+1052700]\n\tGetHandleVerifier [0x00F1D4B4+1025668]\n\tGetHandleVerifier [0x00E4EA2B+179195]\n\t(No symbol) [0x00DF6833]\n\t(No symbol) [0x00DF3198]\n\t(No symbol) [0x00DF3337]\n\t(No symbol) [0x00DEB4BE]\n\tBaseThreadInitThunk [0x762D7BA9+25]\n\tRtlInitializeExceptionChain [0x7748C10B+107]\n\tRtlClearBits [0x7748C08F+191]\n"
     ]
    }
   ],
   "source": [
    "job_list = WebDriverWait(driver, 10).until(ec.element_to_be_clickable((By.CSS_SELECTOR, \"ul[class='scaffold-layout__list-container']\")))\n",
    "job_cards = job_list.find_elements(By.XPATH, \".//div[@data-view-name = 'job-card']\")\n",
    "print(len(job_cards))\n",
    "\n",
    "link_list = []\n",
    "for job_card in job_cards:\n",
    "    \n",
    "    link = job_card.find_element(By.XPATH, \".//a\")\n",
    "    link.click()\n",
    "\n",
    "    job_desc_panel = WebDriverWait(driver, 10).until(ec.element_to_be_clickable((By.CSS_SELECTOR, \"div[class='jobs-search__job-details--wrapper']\")))\n",
    "\n",
    "    (driver).execute_script(\"arguments[0].scrollTo(0,6000000);\", job_desc_panel)\n",
    "\n",
    "    company_name =  job_desc_panel.find_element(By.XPATH, \".//div[@class = 'job-details-jobs-unified-top-card__company-name']\").text\n",
    "    job_title = job_desc_panel.find_element(By.XPATH,\".//h1[@class = 't-24 t-bold inline']\")\n",
    "\n",
    "    print(\"company name: \", company_name)\n",
    "    print(\"job_title: \", job_title.text)\n",
    "\n",
    "    child_elements = job_desc_panel.find_elements(By.XPATH, \".//*\")\n",
    "    out_text = \"\"\n",
    "    for element in child_elements:\n",
    "        if element.tag_name in [\"p\", \"li\"]:\n",
    "            out_text += element.text\n",
    "\n",
    "    found_skills = extract_skills(out_text, skill_keywords)\n",
    "    print(len(found_skills),  \"Skills found in the job description:\", found_skills)\n",
    "\n",
    "\n",
    "\n",
    "\n"
   ]
  },
  {
   "cell_type": "code",
   "execution_count": null,
   "metadata": {},
   "outputs": [],
   "source": []
  },
  {
   "cell_type": "code",
   "execution_count": 25,
   "metadata": {},
   "outputs": [
    {
     "name": "stdout",
     "output_type": "stream",
     "text": [
      "company name:  Fynd (Shopsense Retail Technologies Ltd.)\n",
      "job_title:  Computer Vision and Machine Learning Researcher\n",
      "14 Skills found in the job description: ['unsupervised learning', 'programming', 'computer vision', 'tensorflow', 'mathematics', 'neural networks', 'keras', 'object detection', 'big data', 'linear algebra', 'convolutional neural networks', 'deep learning', 'python', 'machine learning']\n",
      "company name:  Fynd (Shopsense Retail Technologies Ltd.)\n",
      "job_title:  Machine Learning | SDE - 1 / SDE - 2 | PixelBin\n"
     ]
    },
    {
     "ename": "StaleElementReferenceException",
     "evalue": "Message: stale element reference: stale element not found in the current frame\n  (Session info: chrome=127.0.6533.88); For documentation on this error, please visit: https://www.selenium.dev/documentation/webdriver/troubleshooting/errors#stale-element-reference-exception\nStacktrace:\n\tGetHandleVerifier [0x00E28923+23283]\n\t(No symbol) [0x00DEE934]\n\t(No symbol) [0x00D20733]\n\t(No symbol) [0x00D260DF]\n\t(No symbol) [0x00D27A88]\n\t(No symbol) [0x00D27B00]\n\t(No symbol) [0x00D5E747]\n\t(No symbol) [0x00D8441C]\n\t(No symbol) [0x00D59485]\n\t(No symbol) [0x00D846B4]\n\t(No symbol) [0x00D9CB8D]\n\t(No symbol) [0x00D841B6]\n\t(No symbol) [0x00D58017]\n\t(No symbol) [0x00D5890D]\n\tGetHandleVerifier [0x00F1A5F3+1013699]\n\tGetHandleVerifier [0x00F23E4C+1052700]\n\tGetHandleVerifier [0x00F1D4B4+1025668]\n\tGetHandleVerifier [0x00E4EA2B+179195]\n\t(No symbol) [0x00DF6833]\n\t(No symbol) [0x00DF3198]\n\t(No symbol) [0x00DF3337]\n\t(No symbol) [0x00DEB4BE]\n\tBaseThreadInitThunk [0x762D7BA9+25]\n\tRtlInitializeExceptionChain [0x7748C10B+107]\n\tRtlClearBits [0x7748C08F+191]\n",
     "output_type": "error",
     "traceback": [
      "\u001b[1;31m---------------------------------------------------------------------------\u001b[0m",
      "\u001b[1;31mStaleElementReferenceException\u001b[0m            Traceback (most recent call last)",
      "Cell \u001b[1;32mIn[25], line 16\u001b[0m\n\u001b[0;32m     14\u001b[0m out_text \u001b[38;5;241m=\u001b[39m \u001b[38;5;124m\"\u001b[39m\u001b[38;5;124m\"\u001b[39m\n\u001b[0;32m     15\u001b[0m \u001b[38;5;28;01mfor\u001b[39;00m element \u001b[38;5;129;01min\u001b[39;00m child_elements:\n\u001b[1;32m---> 16\u001b[0m     \u001b[38;5;28;01mif\u001b[39;00m \u001b[43melement\u001b[49m\u001b[38;5;241;43m.\u001b[39;49m\u001b[43mtag_name\u001b[49m \u001b[38;5;129;01min\u001b[39;00m [\u001b[38;5;124m\"\u001b[39m\u001b[38;5;124mp\u001b[39m\u001b[38;5;124m\"\u001b[39m, \u001b[38;5;124m\"\u001b[39m\u001b[38;5;124mli\u001b[39m\u001b[38;5;124m\"\u001b[39m]:\n\u001b[0;32m     17\u001b[0m         out_text \u001b[38;5;241m+\u001b[39m\u001b[38;5;241m=\u001b[39m element\u001b[38;5;241m.\u001b[39mtext\n\u001b[0;32m     19\u001b[0m found_skills \u001b[38;5;241m=\u001b[39m extract_skills(out_text, skill_keywords)\n",
      "File \u001b[1;32m~\\AppData\\Local\\Packages\\PythonSoftwareFoundation.Python.3.12_qbz5n2kfra8p0\\LocalCache\\local-packages\\Python312\\site-packages\\selenium\\webdriver\\remote\\webelement.py:85\u001b[0m, in \u001b[0;36mWebElement.tag_name\u001b[1;34m(self)\u001b[0m\n\u001b[0;32m     82\u001b[0m \u001b[38;5;129m@property\u001b[39m\n\u001b[0;32m     83\u001b[0m \u001b[38;5;28;01mdef\u001b[39;00m \u001b[38;5;21mtag_name\u001b[39m(\u001b[38;5;28mself\u001b[39m) \u001b[38;5;241m-\u001b[39m\u001b[38;5;241m>\u001b[39m \u001b[38;5;28mstr\u001b[39m:\n\u001b[0;32m     84\u001b[0m \u001b[38;5;250m    \u001b[39m\u001b[38;5;124;03m\"\"\"This element's ``tagName`` property.\"\"\"\u001b[39;00m\n\u001b[1;32m---> 85\u001b[0m     \u001b[38;5;28;01mreturn\u001b[39;00m \u001b[38;5;28;43mself\u001b[39;49m\u001b[38;5;241;43m.\u001b[39;49m\u001b[43m_execute\u001b[49m\u001b[43m(\u001b[49m\u001b[43mCommand\u001b[49m\u001b[38;5;241;43m.\u001b[39;49m\u001b[43mGET_ELEMENT_TAG_NAME\u001b[49m\u001b[43m)\u001b[49m[\u001b[38;5;124m\"\u001b[39m\u001b[38;5;124mvalue\u001b[39m\u001b[38;5;124m\"\u001b[39m]\n",
      "File \u001b[1;32m~\\AppData\\Local\\Packages\\PythonSoftwareFoundation.Python.3.12_qbz5n2kfra8p0\\LocalCache\\local-packages\\Python312\\site-packages\\selenium\\webdriver\\remote\\webelement.py:395\u001b[0m, in \u001b[0;36mWebElement._execute\u001b[1;34m(self, command, params)\u001b[0m\n\u001b[0;32m    393\u001b[0m     params \u001b[38;5;241m=\u001b[39m {}\n\u001b[0;32m    394\u001b[0m params[\u001b[38;5;124m\"\u001b[39m\u001b[38;5;124mid\u001b[39m\u001b[38;5;124m\"\u001b[39m] \u001b[38;5;241m=\u001b[39m \u001b[38;5;28mself\u001b[39m\u001b[38;5;241m.\u001b[39m_id\n\u001b[1;32m--> 395\u001b[0m \u001b[38;5;28;01mreturn\u001b[39;00m \u001b[38;5;28;43mself\u001b[39;49m\u001b[38;5;241;43m.\u001b[39;49m\u001b[43m_parent\u001b[49m\u001b[38;5;241;43m.\u001b[39;49m\u001b[43mexecute\u001b[49m\u001b[43m(\u001b[49m\u001b[43mcommand\u001b[49m\u001b[43m,\u001b[49m\u001b[43m \u001b[49m\u001b[43mparams\u001b[49m\u001b[43m)\u001b[49m\n",
      "File \u001b[1;32m~\\AppData\\Local\\Packages\\PythonSoftwareFoundation.Python.3.12_qbz5n2kfra8p0\\LocalCache\\local-packages\\Python312\\site-packages\\selenium\\webdriver\\remote\\webdriver.py:354\u001b[0m, in \u001b[0;36mWebDriver.execute\u001b[1;34m(self, driver_command, params)\u001b[0m\n\u001b[0;32m    352\u001b[0m response \u001b[38;5;241m=\u001b[39m \u001b[38;5;28mself\u001b[39m\u001b[38;5;241m.\u001b[39mcommand_executor\u001b[38;5;241m.\u001b[39mexecute(driver_command, params)\n\u001b[0;32m    353\u001b[0m \u001b[38;5;28;01mif\u001b[39;00m response:\n\u001b[1;32m--> 354\u001b[0m     \u001b[38;5;28;43mself\u001b[39;49m\u001b[38;5;241;43m.\u001b[39;49m\u001b[43merror_handler\u001b[49m\u001b[38;5;241;43m.\u001b[39;49m\u001b[43mcheck_response\u001b[49m\u001b[43m(\u001b[49m\u001b[43mresponse\u001b[49m\u001b[43m)\u001b[49m\n\u001b[0;32m    355\u001b[0m     response[\u001b[38;5;124m\"\u001b[39m\u001b[38;5;124mvalue\u001b[39m\u001b[38;5;124m\"\u001b[39m] \u001b[38;5;241m=\u001b[39m \u001b[38;5;28mself\u001b[39m\u001b[38;5;241m.\u001b[39m_unwrap_value(response\u001b[38;5;241m.\u001b[39mget(\u001b[38;5;124m\"\u001b[39m\u001b[38;5;124mvalue\u001b[39m\u001b[38;5;124m\"\u001b[39m, \u001b[38;5;28;01mNone\u001b[39;00m))\n\u001b[0;32m    356\u001b[0m     \u001b[38;5;28;01mreturn\u001b[39;00m response\n",
      "File \u001b[1;32m~\\AppData\\Local\\Packages\\PythonSoftwareFoundation.Python.3.12_qbz5n2kfra8p0\\LocalCache\\local-packages\\Python312\\site-packages\\selenium\\webdriver\\remote\\errorhandler.py:229\u001b[0m, in \u001b[0;36mErrorHandler.check_response\u001b[1;34m(self, response)\u001b[0m\n\u001b[0;32m    227\u001b[0m         alert_text \u001b[38;5;241m=\u001b[39m value[\u001b[38;5;124m\"\u001b[39m\u001b[38;5;124malert\u001b[39m\u001b[38;5;124m\"\u001b[39m]\u001b[38;5;241m.\u001b[39mget(\u001b[38;5;124m\"\u001b[39m\u001b[38;5;124mtext\u001b[39m\u001b[38;5;124m\"\u001b[39m)\n\u001b[0;32m    228\u001b[0m     \u001b[38;5;28;01mraise\u001b[39;00m exception_class(message, screen, stacktrace, alert_text)  \u001b[38;5;66;03m# type: ignore[call-arg]  # mypy is not smart enough here\u001b[39;00m\n\u001b[1;32m--> 229\u001b[0m \u001b[38;5;28;01mraise\u001b[39;00m exception_class(message, screen, stacktrace)\n",
      "\u001b[1;31mStaleElementReferenceException\u001b[0m: Message: stale element reference: stale element not found in the current frame\n  (Session info: chrome=127.0.6533.88); For documentation on this error, please visit: https://www.selenium.dev/documentation/webdriver/troubleshooting/errors#stale-element-reference-exception\nStacktrace:\n\tGetHandleVerifier [0x00E28923+23283]\n\t(No symbol) [0x00DEE934]\n\t(No symbol) [0x00D20733]\n\t(No symbol) [0x00D260DF]\n\t(No symbol) [0x00D27A88]\n\t(No symbol) [0x00D27B00]\n\t(No symbol) [0x00D5E747]\n\t(No symbol) [0x00D8441C]\n\t(No symbol) [0x00D59485]\n\t(No symbol) [0x00D846B4]\n\t(No symbol) [0x00D9CB8D]\n\t(No symbol) [0x00D841B6]\n\t(No symbol) [0x00D58017]\n\t(No symbol) [0x00D5890D]\n\tGetHandleVerifier [0x00F1A5F3+1013699]\n\tGetHandleVerifier [0x00F23E4C+1052700]\n\tGetHandleVerifier [0x00F1D4B4+1025668]\n\tGetHandleVerifier [0x00E4EA2B+179195]\n\t(No symbol) [0x00DF6833]\n\t(No symbol) [0x00DF3198]\n\t(No symbol) [0x00DF3337]\n\t(No symbol) [0x00DEB4BE]\n\tBaseThreadInitThunk [0x762D7BA9+25]\n\tRtlInitializeExceptionChain [0x7748C10B+107]\n\tRtlClearBits [0x7748C08F+191]\n"
     ]
    }
   ],
   "source": [
    "for i in card_list:\n",
    "    \n",
    "    job_desc_panel = WebDriverWait(driver, 10).until(ec.element_to_be_clickable((By.CSS_SELECTOR, \"div[class='jobs-search__job-details--wrapper']\")))\n",
    "\n",
    "    (driver).execute_script(\"arguments[0].scrollTo(0,6000000);\", job_desc_panel)\n",
    "\n",
    "    company_name =  job_desc_panel.find_element(By.XPATH, \".//div[@class = 'job-details-jobs-unified-top-card__company-name']\").text\n",
    "    job_title = job_desc_panel.find_element(By.XPATH,\".//h1[@class = 't-24 t-bold inline']\")\n",
    "\n",
    "    print(\"company name: \", company_name)\n",
    "    print(\"job_title: \", job_title.text)\n",
    "\n",
    "    child_elements = job_desc_panel.find_elements(By.XPATH, \".//*\")\n",
    "    out_text = \"\"\n",
    "    for element in child_elements:\n",
    "        if element.tag_name in [\"p\", \"li\"]:\n",
    "            out_text += element.text\n",
    "\n",
    "    found_skills = extract_skills(out_text, skill_keywords)\n",
    "    print(len(found_skills),  \"Skills found in the job description:\", found_skills)"
   ]
  },
  {
   "cell_type": "code",
   "execution_count": 118,
   "metadata": {},
   "outputs": [],
   "source": [
    "driver.get(link_list[0])"
   ]
  },
  {
   "cell_type": "markdown",
   "metadata": {},
   "source": [
    "Working with one job card for now."
   ]
  },
  {
   "cell_type": "code",
   "execution_count": 15,
   "metadata": {},
   "outputs": [
    {
     "data": {
      "text/plain": [
       "178"
      ]
     },
     "execution_count": 15,
     "metadata": {},
     "output_type": "execute_result"
    }
   ],
   "source": [
    "# Read the keywords from the file\n",
    "with open(\"Skills_Keywords.txt\", \"r\") as file:\n",
    "    skill_keywords = file.read().strip().split(',')\n",
    "\n",
    "\n",
    "\n",
    "# Normalize the keywords to lowercase\n",
    "skill_keywords = [keyword.strip().lower() for keyword in skill_keywords]\n",
    "len(skill_keywords)"
   ]
  },
  {
   "cell_type": "code",
   "execution_count": 18,
   "metadata": {},
   "outputs": [],
   "source": [
    "import re\n",
    "\n",
    "def extract_skills(job_description, skill_keywords):\n",
    "    # Normalize the job description\n",
    "    job_description = job_description.lower()\n",
    "\n",
    "    # Extract the skills found in the job description\n",
    "    found_skills = set()\n",
    "    for skill in skill_keywords:\n",
    "        # Use regular expressions to account for whole words and avoid partial matches\n",
    "        if re.search(r'\\b' + re.escape(skill) + r'\\b', job_description):\n",
    "            found_skills.add(skill)\n",
    "    \n",
    "    return list(found_skills)\n"
   ]
  },
  {
   "cell_type": "code",
   "execution_count": 111,
   "metadata": {},
   "outputs": [
    {
     "data": {
      "text/plain": [
       "25"
      ]
     },
     "execution_count": 111,
     "metadata": {},
     "output_type": "execute_result"
    }
   ],
   "source": [
    "len(job_cards)"
   ]
  },
  {
   "cell_type": "code",
   "execution_count": 110,
   "metadata": {},
   "outputs": [
    {
     "ename": "NoSuchWindowException",
     "evalue": "Message: no such window: target window already closed\nfrom unknown error: web view not found\n  (Session info: chrome=126.0.6478.127)\nStacktrace:\n\tGetHandleVerifier [0x00EEC203+27395]\n\t(No symbol) [0x00E83E04]\n\t(No symbol) [0x00D81B7F]\n\t(No symbol) [0x00D5E483]\n\t(No symbol) [0x00DEA06F]\n\t(No symbol) [0x00DFC3D6]\n\t(No symbol) [0x00DE3736]\n\t(No symbol) [0x00DB7541]\n\t(No symbol) [0x00DB80BD]\n\tGetHandleVerifier [0x011A3AB3+2876339]\n\tGetHandleVerifier [0x011F7F7D+3221629]\n\tGetHandleVerifier [0x00F6D674+556916]\n\tGetHandleVerifier [0x00F7478C+585868]\n\t(No symbol) [0x00E8CE44]\n\t(No symbol) [0x00E89858]\n\t(No symbol) [0x00E899F7]\n\t(No symbol) [0x00E7BF4E]\n\tBaseThreadInitThunk [0x76627BA9+25]\n\tRtlInitializeExceptionChain [0x7780BE3B+107]\n\tRtlClearBits [0x7780BDBF+191]\n",
     "output_type": "error",
     "traceback": [
      "\u001b[1;31m---------------------------------------------------------------------------\u001b[0m",
      "\u001b[1;31mNoSuchWindowException\u001b[0m                     Traceback (most recent call last)",
      "Cell \u001b[1;32mIn[110], line 2\u001b[0m\n\u001b[0;32m      1\u001b[0m job_card \u001b[38;5;241m=\u001b[39m job_cards[\u001b[38;5;241m0\u001b[39m]\n\u001b[1;32m----> 2\u001b[0m link \u001b[38;5;241m=\u001b[39m \u001b[43mjob_card\u001b[49m\u001b[38;5;241;43m.\u001b[39;49m\u001b[43mfind_element\u001b[49m\u001b[43m(\u001b[49m\u001b[43mBy\u001b[49m\u001b[38;5;241;43m.\u001b[39;49m\u001b[43mXPATH\u001b[49m\u001b[43m,\u001b[49m\u001b[43m \u001b[49m\u001b[38;5;124;43m\"\u001b[39;49m\u001b[38;5;124;43m.//a\u001b[39;49m\u001b[38;5;124;43m\"\u001b[39;49m\u001b[43m)\u001b[49m\n",
      "File \u001b[1;32m~\\AppData\\Local\\Packages\\PythonSoftwareFoundation.Python.3.12_qbz5n2kfra8p0\\LocalCache\\local-packages\\Python312\\site-packages\\selenium\\webdriver\\remote\\webelement.py:417\u001b[0m, in \u001b[0;36mWebElement.find_element\u001b[1;34m(self, by, value)\u001b[0m\n\u001b[0;32m    414\u001b[0m     by \u001b[38;5;241m=\u001b[39m By\u001b[38;5;241m.\u001b[39mCSS_SELECTOR\n\u001b[0;32m    415\u001b[0m     value \u001b[38;5;241m=\u001b[39m \u001b[38;5;124mf\u001b[39m\u001b[38;5;124m'\u001b[39m\u001b[38;5;124m[name=\u001b[39m\u001b[38;5;124m\"\u001b[39m\u001b[38;5;132;01m{\u001b[39;00mvalue\u001b[38;5;132;01m}\u001b[39;00m\u001b[38;5;124m\"\u001b[39m\u001b[38;5;124m]\u001b[39m\u001b[38;5;124m'\u001b[39m\n\u001b[1;32m--> 417\u001b[0m \u001b[38;5;28;01mreturn\u001b[39;00m \u001b[38;5;28;43mself\u001b[39;49m\u001b[38;5;241;43m.\u001b[39;49m\u001b[43m_execute\u001b[49m\u001b[43m(\u001b[49m\u001b[43mCommand\u001b[49m\u001b[38;5;241;43m.\u001b[39;49m\u001b[43mFIND_CHILD_ELEMENT\u001b[49m\u001b[43m,\u001b[49m\u001b[43m \u001b[49m\u001b[43m{\u001b[49m\u001b[38;5;124;43m\"\u001b[39;49m\u001b[38;5;124;43musing\u001b[39;49m\u001b[38;5;124;43m\"\u001b[39;49m\u001b[43m:\u001b[49m\u001b[43m \u001b[49m\u001b[43mby\u001b[49m\u001b[43m,\u001b[49m\u001b[43m \u001b[49m\u001b[38;5;124;43m\"\u001b[39;49m\u001b[38;5;124;43mvalue\u001b[39;49m\u001b[38;5;124;43m\"\u001b[39;49m\u001b[43m:\u001b[49m\u001b[43m \u001b[49m\u001b[43mvalue\u001b[49m\u001b[43m}\u001b[49m\u001b[43m)\u001b[49m[\u001b[38;5;124m\"\u001b[39m\u001b[38;5;124mvalue\u001b[39m\u001b[38;5;124m\"\u001b[39m]\n",
      "File \u001b[1;32m~\\AppData\\Local\\Packages\\PythonSoftwareFoundation.Python.3.12_qbz5n2kfra8p0\\LocalCache\\local-packages\\Python312\\site-packages\\selenium\\webdriver\\remote\\webelement.py:395\u001b[0m, in \u001b[0;36mWebElement._execute\u001b[1;34m(self, command, params)\u001b[0m\n\u001b[0;32m    393\u001b[0m     params \u001b[38;5;241m=\u001b[39m {}\n\u001b[0;32m    394\u001b[0m params[\u001b[38;5;124m\"\u001b[39m\u001b[38;5;124mid\u001b[39m\u001b[38;5;124m\"\u001b[39m] \u001b[38;5;241m=\u001b[39m \u001b[38;5;28mself\u001b[39m\u001b[38;5;241m.\u001b[39m_id\n\u001b[1;32m--> 395\u001b[0m \u001b[38;5;28;01mreturn\u001b[39;00m \u001b[38;5;28;43mself\u001b[39;49m\u001b[38;5;241;43m.\u001b[39;49m\u001b[43m_parent\u001b[49m\u001b[38;5;241;43m.\u001b[39;49m\u001b[43mexecute\u001b[49m\u001b[43m(\u001b[49m\u001b[43mcommand\u001b[49m\u001b[43m,\u001b[49m\u001b[43m \u001b[49m\u001b[43mparams\u001b[49m\u001b[43m)\u001b[49m\n",
      "File \u001b[1;32m~\\AppData\\Local\\Packages\\PythonSoftwareFoundation.Python.3.12_qbz5n2kfra8p0\\LocalCache\\local-packages\\Python312\\site-packages\\selenium\\webdriver\\remote\\webdriver.py:354\u001b[0m, in \u001b[0;36mWebDriver.execute\u001b[1;34m(self, driver_command, params)\u001b[0m\n\u001b[0;32m    352\u001b[0m response \u001b[38;5;241m=\u001b[39m \u001b[38;5;28mself\u001b[39m\u001b[38;5;241m.\u001b[39mcommand_executor\u001b[38;5;241m.\u001b[39mexecute(driver_command, params)\n\u001b[0;32m    353\u001b[0m \u001b[38;5;28;01mif\u001b[39;00m response:\n\u001b[1;32m--> 354\u001b[0m     \u001b[38;5;28;43mself\u001b[39;49m\u001b[38;5;241;43m.\u001b[39;49m\u001b[43merror_handler\u001b[49m\u001b[38;5;241;43m.\u001b[39;49m\u001b[43mcheck_response\u001b[49m\u001b[43m(\u001b[49m\u001b[43mresponse\u001b[49m\u001b[43m)\u001b[49m\n\u001b[0;32m    355\u001b[0m     response[\u001b[38;5;124m\"\u001b[39m\u001b[38;5;124mvalue\u001b[39m\u001b[38;5;124m\"\u001b[39m] \u001b[38;5;241m=\u001b[39m \u001b[38;5;28mself\u001b[39m\u001b[38;5;241m.\u001b[39m_unwrap_value(response\u001b[38;5;241m.\u001b[39mget(\u001b[38;5;124m\"\u001b[39m\u001b[38;5;124mvalue\u001b[39m\u001b[38;5;124m\"\u001b[39m, \u001b[38;5;28;01mNone\u001b[39;00m))\n\u001b[0;32m    356\u001b[0m     \u001b[38;5;28;01mreturn\u001b[39;00m response\n",
      "File \u001b[1;32m~\\AppData\\Local\\Packages\\PythonSoftwareFoundation.Python.3.12_qbz5n2kfra8p0\\LocalCache\\local-packages\\Python312\\site-packages\\selenium\\webdriver\\remote\\errorhandler.py:229\u001b[0m, in \u001b[0;36mErrorHandler.check_response\u001b[1;34m(self, response)\u001b[0m\n\u001b[0;32m    227\u001b[0m         alert_text \u001b[38;5;241m=\u001b[39m value[\u001b[38;5;124m\"\u001b[39m\u001b[38;5;124malert\u001b[39m\u001b[38;5;124m\"\u001b[39m]\u001b[38;5;241m.\u001b[39mget(\u001b[38;5;124m\"\u001b[39m\u001b[38;5;124mtext\u001b[39m\u001b[38;5;124m\"\u001b[39m)\n\u001b[0;32m    228\u001b[0m     \u001b[38;5;28;01mraise\u001b[39;00m exception_class(message, screen, stacktrace, alert_text)  \u001b[38;5;66;03m# type: ignore[call-arg]  # mypy is not smart enough here\u001b[39;00m\n\u001b[1;32m--> 229\u001b[0m \u001b[38;5;28;01mraise\u001b[39;00m exception_class(message, screen, stacktrace)\n",
      "\u001b[1;31mNoSuchWindowException\u001b[0m: Message: no such window: target window already closed\nfrom unknown error: web view not found\n  (Session info: chrome=126.0.6478.127)\nStacktrace:\n\tGetHandleVerifier [0x00EEC203+27395]\n\t(No symbol) [0x00E83E04]\n\t(No symbol) [0x00D81B7F]\n\t(No symbol) [0x00D5E483]\n\t(No symbol) [0x00DEA06F]\n\t(No symbol) [0x00DFC3D6]\n\t(No symbol) [0x00DE3736]\n\t(No symbol) [0x00DB7541]\n\t(No symbol) [0x00DB80BD]\n\tGetHandleVerifier [0x011A3AB3+2876339]\n\tGetHandleVerifier [0x011F7F7D+3221629]\n\tGetHandleVerifier [0x00F6D674+556916]\n\tGetHandleVerifier [0x00F7478C+585868]\n\t(No symbol) [0x00E8CE44]\n\t(No symbol) [0x00E89858]\n\t(No symbol) [0x00E899F7]\n\t(No symbol) [0x00E7BF4E]\n\tBaseThreadInitThunk [0x76627BA9+25]\n\tRtlInitializeExceptionChain [0x7780BE3B+107]\n\tRtlClearBits [0x7780BDBF+191]\n"
     ]
    }
   ],
   "source": [
    "job_card = job_cards[0]\n",
    "link = job_card.find_element(By.XPATH, \".//a\")"
   ]
  },
  {
   "cell_type": "code",
   "execution_count": 16,
   "metadata": {},
   "outputs": [
    {
     "data": {
      "text/plain": [
       "\"On-site\\nMatches your job preferences, workplace type is On-site.\\nFull-time\\nMatches your job preferences, job type is Full-time.\\nAssociate2 school alumni work here6 of 10 skills match your profile - you may be a good fitSee how you compare to over 100 other people who clicked Apply. Reactivate PremiumAm I a good fit for this job?How can I best position myself for this job?Tell me more about Great Lea...RoleOwn the quality of end to end learning experience for our global flagship programs in the domain of analytics, data science and artificial intelligenceOwn the hands on development of all the different components of the learning experience, including but not limited to video content, hands-on/ labs material, projects and various other learning activities/interventions. This will include engaging with SMEs/faculties/industry experts.Be a mentor / training assistant to hundreds of global professional by providing technical support, guidance and feedback in a timely mannerDevelop and leverage analytics powered solutions to continuously monitor and identify opportunities to improve quality of the learning experience in terms of appropriateness, accuracy, richness and outcomes. This will involve solving a variety of business problems using data.Be an active contributor to organization building by identifying and executing on various growth as well as capability development opportunities, in terms of new products or processes.Requirements1+ years of working experience in Data Science, Analytics or Artificial IntelligenceHave solved an end-to-end business problem or been part of a problem-solving journeyStrongly mandatory - 1+ year experience in using SQL to query data and Python to manipulate data and draw insights from large data setsExperience in creating and using machine learning algorithms and statistical modeling methodsStrong written, verbal, and presentation skills with the ability to work through complex concepts in easy-to-understand languageExperience with open-source DL toolkits such as TensorFlow, PyTorch, Hugging FaceIdentified by LinkedInGet exclusive access to applicant insights, see jobs where you’d be a top applicant and moreThejus and millions of other members use PremiumCancel anytime, for any reason.Great Learning is a leading global ed-tech company for professional training and higher education.\\n\\nIt offers comprehensive, industry-relevant, hands-on learning programs across various business, technology, and interdisciplinary domains driving the digital economy. These programs are developed and offered in collaboration with the world's foremost academic institutions.\\n\\nGreat Learning is able to leverage the highly qualified, world-class faculty at these universities together with its vast network of industry mentors to deliver an unmatched learning experience for millions of learners from over 170+ countries around the world.\\n…\\nshow more\""
      ]
     },
     "execution_count": 16,
     "metadata": {},
     "output_type": "execute_result"
    }
   ],
   "source": [
    "\n",
    "\n",
    "\n",
    "job_desc_panel = WebDriverWait(driver, 10).until(ec.element_to_be_clickable((By.CSS_SELECTOR, \"div[class='jobs-search__job-details--wrapper']\")))\n",
    "child_elements = job_desc_panel.find_elements(By.XPATH, \".//*\")\n",
    "out_text = \"\"\n",
    "for element in child_elements:\n",
    "    if element.tag_name in [\"p\", \"li\"]:\n",
    "        out_text += element.text\n",
    "\n"
   ]
  },
  {
   "cell_type": "code",
   "execution_count": 112,
   "metadata": {},
   "outputs": [
    {
     "ename": "NoSuchWindowException",
     "evalue": "Message: no such window: target window already closed\nfrom unknown error: web view not found\n  (Session info: chrome=126.0.6478.127)\nStacktrace:\n\tGetHandleVerifier [0x00EEC203+27395]\n\t(No symbol) [0x00E83E04]\n\t(No symbol) [0x00D81B7F]\n\t(No symbol) [0x00D5E483]\n\t(No symbol) [0x00DEA06F]\n\t(No symbol) [0x00DFC3D6]\n\t(No symbol) [0x00DE3736]\n\t(No symbol) [0x00DB7541]\n\t(No symbol) [0x00DB80BD]\n\tGetHandleVerifier [0x011A3AB3+2876339]\n\tGetHandleVerifier [0x011F7F7D+3221629]\n\tGetHandleVerifier [0x00F6D674+556916]\n\tGetHandleVerifier [0x00F7478C+585868]\n\t(No symbol) [0x00E8CE44]\n\t(No symbol) [0x00E89858]\n\t(No symbol) [0x00E899F7]\n\t(No symbol) [0x00E7BF4E]\n\tBaseThreadInitThunk [0x76627BA9+25]\n\tRtlInitializeExceptionChain [0x7780BE3B+107]\n\tRtlClearBits [0x7780BDBF+191]\n",
     "output_type": "error",
     "traceback": [
      "\u001b[1;31m---------------------------------------------------------------------------\u001b[0m",
      "\u001b[1;31mNoSuchWindowException\u001b[0m                     Traceback (most recent call last)",
      "Cell \u001b[1;32mIn[112], line 2\u001b[0m\n\u001b[0;32m      1\u001b[0m \u001b[38;5;28;01mfor\u001b[39;00m job_card \u001b[38;5;129;01min\u001b[39;00m job_cards:\n\u001b[1;32m----> 2\u001b[0m     link \u001b[38;5;241m=\u001b[39m \u001b[43mjob_card\u001b[49m\u001b[38;5;241;43m.\u001b[39;49m\u001b[43mfind_element\u001b[49m\u001b[43m(\u001b[49m\u001b[43mBy\u001b[49m\u001b[38;5;241;43m.\u001b[39;49m\u001b[43mXPATH\u001b[49m\u001b[43m,\u001b[49m\u001b[43m \u001b[49m\u001b[38;5;124;43m\"\u001b[39;49m\u001b[38;5;124;43m.//a\u001b[39;49m\u001b[38;5;124;43m\"\u001b[39;49m\u001b[43m)\u001b[49m\n\u001b[0;32m      3\u001b[0m     \u001b[38;5;28mprint\u001b[39m(link\u001b[38;5;241m.\u001b[39mget_attribute(\u001b[38;5;124m'\u001b[39m\u001b[38;5;124mhref\u001b[39m\u001b[38;5;124m'\u001b[39m))\n",
      "File \u001b[1;32m~\\AppData\\Local\\Packages\\PythonSoftwareFoundation.Python.3.12_qbz5n2kfra8p0\\LocalCache\\local-packages\\Python312\\site-packages\\selenium\\webdriver\\remote\\webelement.py:417\u001b[0m, in \u001b[0;36mWebElement.find_element\u001b[1;34m(self, by, value)\u001b[0m\n\u001b[0;32m    414\u001b[0m     by \u001b[38;5;241m=\u001b[39m By\u001b[38;5;241m.\u001b[39mCSS_SELECTOR\n\u001b[0;32m    415\u001b[0m     value \u001b[38;5;241m=\u001b[39m \u001b[38;5;124mf\u001b[39m\u001b[38;5;124m'\u001b[39m\u001b[38;5;124m[name=\u001b[39m\u001b[38;5;124m\"\u001b[39m\u001b[38;5;132;01m{\u001b[39;00mvalue\u001b[38;5;132;01m}\u001b[39;00m\u001b[38;5;124m\"\u001b[39m\u001b[38;5;124m]\u001b[39m\u001b[38;5;124m'\u001b[39m\n\u001b[1;32m--> 417\u001b[0m \u001b[38;5;28;01mreturn\u001b[39;00m \u001b[38;5;28;43mself\u001b[39;49m\u001b[38;5;241;43m.\u001b[39;49m\u001b[43m_execute\u001b[49m\u001b[43m(\u001b[49m\u001b[43mCommand\u001b[49m\u001b[38;5;241;43m.\u001b[39;49m\u001b[43mFIND_CHILD_ELEMENT\u001b[49m\u001b[43m,\u001b[49m\u001b[43m \u001b[49m\u001b[43m{\u001b[49m\u001b[38;5;124;43m\"\u001b[39;49m\u001b[38;5;124;43musing\u001b[39;49m\u001b[38;5;124;43m\"\u001b[39;49m\u001b[43m:\u001b[49m\u001b[43m \u001b[49m\u001b[43mby\u001b[49m\u001b[43m,\u001b[49m\u001b[43m \u001b[49m\u001b[38;5;124;43m\"\u001b[39;49m\u001b[38;5;124;43mvalue\u001b[39;49m\u001b[38;5;124;43m\"\u001b[39;49m\u001b[43m:\u001b[49m\u001b[43m \u001b[49m\u001b[43mvalue\u001b[49m\u001b[43m}\u001b[49m\u001b[43m)\u001b[49m[\u001b[38;5;124m\"\u001b[39m\u001b[38;5;124mvalue\u001b[39m\u001b[38;5;124m\"\u001b[39m]\n",
      "File \u001b[1;32m~\\AppData\\Local\\Packages\\PythonSoftwareFoundation.Python.3.12_qbz5n2kfra8p0\\LocalCache\\local-packages\\Python312\\site-packages\\selenium\\webdriver\\remote\\webelement.py:395\u001b[0m, in \u001b[0;36mWebElement._execute\u001b[1;34m(self, command, params)\u001b[0m\n\u001b[0;32m    393\u001b[0m     params \u001b[38;5;241m=\u001b[39m {}\n\u001b[0;32m    394\u001b[0m params[\u001b[38;5;124m\"\u001b[39m\u001b[38;5;124mid\u001b[39m\u001b[38;5;124m\"\u001b[39m] \u001b[38;5;241m=\u001b[39m \u001b[38;5;28mself\u001b[39m\u001b[38;5;241m.\u001b[39m_id\n\u001b[1;32m--> 395\u001b[0m \u001b[38;5;28;01mreturn\u001b[39;00m \u001b[38;5;28;43mself\u001b[39;49m\u001b[38;5;241;43m.\u001b[39;49m\u001b[43m_parent\u001b[49m\u001b[38;5;241;43m.\u001b[39;49m\u001b[43mexecute\u001b[49m\u001b[43m(\u001b[49m\u001b[43mcommand\u001b[49m\u001b[43m,\u001b[49m\u001b[43m \u001b[49m\u001b[43mparams\u001b[49m\u001b[43m)\u001b[49m\n",
      "File \u001b[1;32m~\\AppData\\Local\\Packages\\PythonSoftwareFoundation.Python.3.12_qbz5n2kfra8p0\\LocalCache\\local-packages\\Python312\\site-packages\\selenium\\webdriver\\remote\\webdriver.py:354\u001b[0m, in \u001b[0;36mWebDriver.execute\u001b[1;34m(self, driver_command, params)\u001b[0m\n\u001b[0;32m    352\u001b[0m response \u001b[38;5;241m=\u001b[39m \u001b[38;5;28mself\u001b[39m\u001b[38;5;241m.\u001b[39mcommand_executor\u001b[38;5;241m.\u001b[39mexecute(driver_command, params)\n\u001b[0;32m    353\u001b[0m \u001b[38;5;28;01mif\u001b[39;00m response:\n\u001b[1;32m--> 354\u001b[0m     \u001b[38;5;28;43mself\u001b[39;49m\u001b[38;5;241;43m.\u001b[39;49m\u001b[43merror_handler\u001b[49m\u001b[38;5;241;43m.\u001b[39;49m\u001b[43mcheck_response\u001b[49m\u001b[43m(\u001b[49m\u001b[43mresponse\u001b[49m\u001b[43m)\u001b[49m\n\u001b[0;32m    355\u001b[0m     response[\u001b[38;5;124m\"\u001b[39m\u001b[38;5;124mvalue\u001b[39m\u001b[38;5;124m\"\u001b[39m] \u001b[38;5;241m=\u001b[39m \u001b[38;5;28mself\u001b[39m\u001b[38;5;241m.\u001b[39m_unwrap_value(response\u001b[38;5;241m.\u001b[39mget(\u001b[38;5;124m\"\u001b[39m\u001b[38;5;124mvalue\u001b[39m\u001b[38;5;124m\"\u001b[39m, \u001b[38;5;28;01mNone\u001b[39;00m))\n\u001b[0;32m    356\u001b[0m     \u001b[38;5;28;01mreturn\u001b[39;00m response\n",
      "File \u001b[1;32m~\\AppData\\Local\\Packages\\PythonSoftwareFoundation.Python.3.12_qbz5n2kfra8p0\\LocalCache\\local-packages\\Python312\\site-packages\\selenium\\webdriver\\remote\\errorhandler.py:229\u001b[0m, in \u001b[0;36mErrorHandler.check_response\u001b[1;34m(self, response)\u001b[0m\n\u001b[0;32m    227\u001b[0m         alert_text \u001b[38;5;241m=\u001b[39m value[\u001b[38;5;124m\"\u001b[39m\u001b[38;5;124malert\u001b[39m\u001b[38;5;124m\"\u001b[39m]\u001b[38;5;241m.\u001b[39mget(\u001b[38;5;124m\"\u001b[39m\u001b[38;5;124mtext\u001b[39m\u001b[38;5;124m\"\u001b[39m)\n\u001b[0;32m    228\u001b[0m     \u001b[38;5;28;01mraise\u001b[39;00m exception_class(message, screen, stacktrace, alert_text)  \u001b[38;5;66;03m# type: ignore[call-arg]  # mypy is not smart enough here\u001b[39;00m\n\u001b[1;32m--> 229\u001b[0m \u001b[38;5;28;01mraise\u001b[39;00m exception_class(message, screen, stacktrace)\n",
      "\u001b[1;31mNoSuchWindowException\u001b[0m: Message: no such window: target window already closed\nfrom unknown error: web view not found\n  (Session info: chrome=126.0.6478.127)\nStacktrace:\n\tGetHandleVerifier [0x00EEC203+27395]\n\t(No symbol) [0x00E83E04]\n\t(No symbol) [0x00D81B7F]\n\t(No symbol) [0x00D5E483]\n\t(No symbol) [0x00DEA06F]\n\t(No symbol) [0x00DFC3D6]\n\t(No symbol) [0x00DE3736]\n\t(No symbol) [0x00DB7541]\n\t(No symbol) [0x00DB80BD]\n\tGetHandleVerifier [0x011A3AB3+2876339]\n\tGetHandleVerifier [0x011F7F7D+3221629]\n\tGetHandleVerifier [0x00F6D674+556916]\n\tGetHandleVerifier [0x00F7478C+585868]\n\t(No symbol) [0x00E8CE44]\n\t(No symbol) [0x00E89858]\n\t(No symbol) [0x00E899F7]\n\t(No symbol) [0x00E7BF4E]\n\tBaseThreadInitThunk [0x76627BA9+25]\n\tRtlInitializeExceptionChain [0x7780BE3B+107]\n\tRtlClearBits [0x7780BDBF+191]\n"
     ]
    }
   ],
   "source": [
    "for job_card in job_cards:\n",
    "    link = job_card.find_element(By.XPATH, \".//a\")\n",
    "    print(link.get_attribute('href'))\n"
   ]
  },
  {
   "cell_type": "code",
   "execution_count": 113,
   "metadata": {},
   "outputs": [
    {
     "ename": "NoSuchWindowException",
     "evalue": "Message: no such window: target window already closed\nfrom unknown error: web view not found\n  (Session info: chrome=126.0.6478.127)\nStacktrace:\n\tGetHandleVerifier [0x00EEC203+27395]\n\t(No symbol) [0x00E83E04]\n\t(No symbol) [0x00D81B7F]\n\t(No symbol) [0x00D5E483]\n\t(No symbol) [0x00DEA06F]\n\t(No symbol) [0x00DFC3D6]\n\t(No symbol) [0x00DE3736]\n\t(No symbol) [0x00DB7541]\n\t(No symbol) [0x00DB80BD]\n\tGetHandleVerifier [0x011A3AB3+2876339]\n\tGetHandleVerifier [0x011F7F7D+3221629]\n\tGetHandleVerifier [0x00F6D674+556916]\n\tGetHandleVerifier [0x00F7478C+585868]\n\t(No symbol) [0x00E8CE44]\n\t(No symbol) [0x00E89858]\n\t(No symbol) [0x00E899F7]\n\t(No symbol) [0x00E7BF4E]\n\tBaseThreadInitThunk [0x76627BA9+25]\n\tRtlInitializeExceptionChain [0x7780BE3B+107]\n\tRtlClearBits [0x7780BDBF+191]\n",
     "output_type": "error",
     "traceback": [
      "\u001b[1;31m---------------------------------------------------------------------------\u001b[0m",
      "\u001b[1;31mNoSuchWindowException\u001b[0m                     Traceback (most recent call last)",
      "Cell \u001b[1;32mIn[113], line 2\u001b[0m\n\u001b[0;32m      1\u001b[0m job_card \u001b[38;5;241m=\u001b[39m job_cards[\u001b[38;5;241m0\u001b[39m]\n\u001b[1;32m----> 2\u001b[0m link \u001b[38;5;241m=\u001b[39m \u001b[43mjob_card\u001b[49m\u001b[38;5;241;43m.\u001b[39;49m\u001b[43mfind_element\u001b[49m\u001b[43m(\u001b[49m\u001b[43mBy\u001b[49m\u001b[38;5;241;43m.\u001b[39;49m\u001b[43mXPATH\u001b[49m\u001b[43m,\u001b[49m\u001b[43m \u001b[49m\u001b[38;5;124;43m\"\u001b[39;49m\u001b[38;5;124;43m.//a\u001b[39;49m\u001b[38;5;124;43m\"\u001b[39;49m\u001b[43m)\u001b[49m\n",
      "File \u001b[1;32m~\\AppData\\Local\\Packages\\PythonSoftwareFoundation.Python.3.12_qbz5n2kfra8p0\\LocalCache\\local-packages\\Python312\\site-packages\\selenium\\webdriver\\remote\\webelement.py:417\u001b[0m, in \u001b[0;36mWebElement.find_element\u001b[1;34m(self, by, value)\u001b[0m\n\u001b[0;32m    414\u001b[0m     by \u001b[38;5;241m=\u001b[39m By\u001b[38;5;241m.\u001b[39mCSS_SELECTOR\n\u001b[0;32m    415\u001b[0m     value \u001b[38;5;241m=\u001b[39m \u001b[38;5;124mf\u001b[39m\u001b[38;5;124m'\u001b[39m\u001b[38;5;124m[name=\u001b[39m\u001b[38;5;124m\"\u001b[39m\u001b[38;5;132;01m{\u001b[39;00mvalue\u001b[38;5;132;01m}\u001b[39;00m\u001b[38;5;124m\"\u001b[39m\u001b[38;5;124m]\u001b[39m\u001b[38;5;124m'\u001b[39m\n\u001b[1;32m--> 417\u001b[0m \u001b[38;5;28;01mreturn\u001b[39;00m \u001b[38;5;28;43mself\u001b[39;49m\u001b[38;5;241;43m.\u001b[39;49m\u001b[43m_execute\u001b[49m\u001b[43m(\u001b[49m\u001b[43mCommand\u001b[49m\u001b[38;5;241;43m.\u001b[39;49m\u001b[43mFIND_CHILD_ELEMENT\u001b[49m\u001b[43m,\u001b[49m\u001b[43m \u001b[49m\u001b[43m{\u001b[49m\u001b[38;5;124;43m\"\u001b[39;49m\u001b[38;5;124;43musing\u001b[39;49m\u001b[38;5;124;43m\"\u001b[39;49m\u001b[43m:\u001b[49m\u001b[43m \u001b[49m\u001b[43mby\u001b[49m\u001b[43m,\u001b[49m\u001b[43m \u001b[49m\u001b[38;5;124;43m\"\u001b[39;49m\u001b[38;5;124;43mvalue\u001b[39;49m\u001b[38;5;124;43m\"\u001b[39;49m\u001b[43m:\u001b[49m\u001b[43m \u001b[49m\u001b[43mvalue\u001b[49m\u001b[43m}\u001b[49m\u001b[43m)\u001b[49m[\u001b[38;5;124m\"\u001b[39m\u001b[38;5;124mvalue\u001b[39m\u001b[38;5;124m\"\u001b[39m]\n",
      "File \u001b[1;32m~\\AppData\\Local\\Packages\\PythonSoftwareFoundation.Python.3.12_qbz5n2kfra8p0\\LocalCache\\local-packages\\Python312\\site-packages\\selenium\\webdriver\\remote\\webelement.py:395\u001b[0m, in \u001b[0;36mWebElement._execute\u001b[1;34m(self, command, params)\u001b[0m\n\u001b[0;32m    393\u001b[0m     params \u001b[38;5;241m=\u001b[39m {}\n\u001b[0;32m    394\u001b[0m params[\u001b[38;5;124m\"\u001b[39m\u001b[38;5;124mid\u001b[39m\u001b[38;5;124m\"\u001b[39m] \u001b[38;5;241m=\u001b[39m \u001b[38;5;28mself\u001b[39m\u001b[38;5;241m.\u001b[39m_id\n\u001b[1;32m--> 395\u001b[0m \u001b[38;5;28;01mreturn\u001b[39;00m \u001b[38;5;28;43mself\u001b[39;49m\u001b[38;5;241;43m.\u001b[39;49m\u001b[43m_parent\u001b[49m\u001b[38;5;241;43m.\u001b[39;49m\u001b[43mexecute\u001b[49m\u001b[43m(\u001b[49m\u001b[43mcommand\u001b[49m\u001b[43m,\u001b[49m\u001b[43m \u001b[49m\u001b[43mparams\u001b[49m\u001b[43m)\u001b[49m\n",
      "File \u001b[1;32m~\\AppData\\Local\\Packages\\PythonSoftwareFoundation.Python.3.12_qbz5n2kfra8p0\\LocalCache\\local-packages\\Python312\\site-packages\\selenium\\webdriver\\remote\\webdriver.py:354\u001b[0m, in \u001b[0;36mWebDriver.execute\u001b[1;34m(self, driver_command, params)\u001b[0m\n\u001b[0;32m    352\u001b[0m response \u001b[38;5;241m=\u001b[39m \u001b[38;5;28mself\u001b[39m\u001b[38;5;241m.\u001b[39mcommand_executor\u001b[38;5;241m.\u001b[39mexecute(driver_command, params)\n\u001b[0;32m    353\u001b[0m \u001b[38;5;28;01mif\u001b[39;00m response:\n\u001b[1;32m--> 354\u001b[0m     \u001b[38;5;28;43mself\u001b[39;49m\u001b[38;5;241;43m.\u001b[39;49m\u001b[43merror_handler\u001b[49m\u001b[38;5;241;43m.\u001b[39;49m\u001b[43mcheck_response\u001b[49m\u001b[43m(\u001b[49m\u001b[43mresponse\u001b[49m\u001b[43m)\u001b[49m\n\u001b[0;32m    355\u001b[0m     response[\u001b[38;5;124m\"\u001b[39m\u001b[38;5;124mvalue\u001b[39m\u001b[38;5;124m\"\u001b[39m] \u001b[38;5;241m=\u001b[39m \u001b[38;5;28mself\u001b[39m\u001b[38;5;241m.\u001b[39m_unwrap_value(response\u001b[38;5;241m.\u001b[39mget(\u001b[38;5;124m\"\u001b[39m\u001b[38;5;124mvalue\u001b[39m\u001b[38;5;124m\"\u001b[39m, \u001b[38;5;28;01mNone\u001b[39;00m))\n\u001b[0;32m    356\u001b[0m     \u001b[38;5;28;01mreturn\u001b[39;00m response\n",
      "File \u001b[1;32m~\\AppData\\Local\\Packages\\PythonSoftwareFoundation.Python.3.12_qbz5n2kfra8p0\\LocalCache\\local-packages\\Python312\\site-packages\\selenium\\webdriver\\remote\\errorhandler.py:229\u001b[0m, in \u001b[0;36mErrorHandler.check_response\u001b[1;34m(self, response)\u001b[0m\n\u001b[0;32m    227\u001b[0m         alert_text \u001b[38;5;241m=\u001b[39m value[\u001b[38;5;124m\"\u001b[39m\u001b[38;5;124malert\u001b[39m\u001b[38;5;124m\"\u001b[39m]\u001b[38;5;241m.\u001b[39mget(\u001b[38;5;124m\"\u001b[39m\u001b[38;5;124mtext\u001b[39m\u001b[38;5;124m\"\u001b[39m)\n\u001b[0;32m    228\u001b[0m     \u001b[38;5;28;01mraise\u001b[39;00m exception_class(message, screen, stacktrace, alert_text)  \u001b[38;5;66;03m# type: ignore[call-arg]  # mypy is not smart enough here\u001b[39;00m\n\u001b[1;32m--> 229\u001b[0m \u001b[38;5;28;01mraise\u001b[39;00m exception_class(message, screen, stacktrace)\n",
      "\u001b[1;31mNoSuchWindowException\u001b[0m: Message: no such window: target window already closed\nfrom unknown error: web view not found\n  (Session info: chrome=126.0.6478.127)\nStacktrace:\n\tGetHandleVerifier [0x00EEC203+27395]\n\t(No symbol) [0x00E83E04]\n\t(No symbol) [0x00D81B7F]\n\t(No symbol) [0x00D5E483]\n\t(No symbol) [0x00DEA06F]\n\t(No symbol) [0x00DFC3D6]\n\t(No symbol) [0x00DE3736]\n\t(No symbol) [0x00DB7541]\n\t(No symbol) [0x00DB80BD]\n\tGetHandleVerifier [0x011A3AB3+2876339]\n\tGetHandleVerifier [0x011F7F7D+3221629]\n\tGetHandleVerifier [0x00F6D674+556916]\n\tGetHandleVerifier [0x00F7478C+585868]\n\t(No symbol) [0x00E8CE44]\n\t(No symbol) [0x00E89858]\n\t(No symbol) [0x00E899F7]\n\t(No symbol) [0x00E7BF4E]\n\tBaseThreadInitThunk [0x76627BA9+25]\n\tRtlInitializeExceptionChain [0x7780BE3B+107]\n\tRtlClearBits [0x7780BDBF+191]\n"
     ]
    }
   ],
   "source": [
    "job_card = job_cards[0]\n",
    "link = job_card.find_element(By.XPATH, \".//a\")"
   ]
  },
  {
   "cell_type": "code",
   "execution_count": 108,
   "metadata": {},
   "outputs": [
    {
     "ename": "NoSuchWindowException",
     "evalue": "Message: no such window: target window already closed\nfrom unknown error: web view not found\n  (Session info: chrome=126.0.6478.127)\nStacktrace:\n\tGetHandleVerifier [0x00EEC203+27395]\n\t(No symbol) [0x00E83E04]\n\t(No symbol) [0x00D81B7F]\n\t(No symbol) [0x00D5E483]\n\t(No symbol) [0x00DEA06F]\n\t(No symbol) [0x00DFC3D6]\n\t(No symbol) [0x00DE3736]\n\t(No symbol) [0x00DB7541]\n\t(No symbol) [0x00DB80BD]\n\tGetHandleVerifier [0x011A3AB3+2876339]\n\tGetHandleVerifier [0x011F7F7D+3221629]\n\tGetHandleVerifier [0x00F6D674+556916]\n\tGetHandleVerifier [0x00F7478C+585868]\n\t(No symbol) [0x00E8CE44]\n\t(No symbol) [0x00E89858]\n\t(No symbol) [0x00E899F7]\n\t(No symbol) [0x00E7BF4E]\n\tBaseThreadInitThunk [0x76627BA9+25]\n\tRtlInitializeExceptionChain [0x7780BE3B+107]\n\tRtlClearBits [0x7780BDBF+191]\n",
     "output_type": "error",
     "traceback": [
      "\u001b[1;31m---------------------------------------------------------------------------\u001b[0m",
      "\u001b[1;31mNoSuchWindowException\u001b[0m                     Traceback (most recent call last)",
      "Cell \u001b[1;32mIn[108], line 2\u001b[0m\n\u001b[0;32m      1\u001b[0m job_card \u001b[38;5;241m=\u001b[39m job_cards[\u001b[38;5;241m0\u001b[39m]\n\u001b[1;32m----> 2\u001b[0m link \u001b[38;5;241m=\u001b[39m \u001b[43mjob_card\u001b[49m\u001b[38;5;241;43m.\u001b[39;49m\u001b[43mfind_element\u001b[49m\u001b[43m(\u001b[49m\u001b[43mBy\u001b[49m\u001b[38;5;241;43m.\u001b[39;49m\u001b[43mXPATH\u001b[49m\u001b[43m,\u001b[49m\u001b[43m \u001b[49m\u001b[38;5;124;43m\"\u001b[39;49m\u001b[38;5;124;43m.//a\u001b[39;49m\u001b[38;5;124;43m\"\u001b[39;49m\u001b[43m)\u001b[49m\n\u001b[0;32m      3\u001b[0m \u001b[38;5;66;03m# Opening a particular Job card to reveal the Job description.\u001b[39;00m\n\u001b[0;32m      4\u001b[0m link\u001b[38;5;241m.\u001b[39mclick()\n",
      "File \u001b[1;32m~\\AppData\\Local\\Packages\\PythonSoftwareFoundation.Python.3.12_qbz5n2kfra8p0\\LocalCache\\local-packages\\Python312\\site-packages\\selenium\\webdriver\\remote\\webelement.py:417\u001b[0m, in \u001b[0;36mWebElement.find_element\u001b[1;34m(self, by, value)\u001b[0m\n\u001b[0;32m    414\u001b[0m     by \u001b[38;5;241m=\u001b[39m By\u001b[38;5;241m.\u001b[39mCSS_SELECTOR\n\u001b[0;32m    415\u001b[0m     value \u001b[38;5;241m=\u001b[39m \u001b[38;5;124mf\u001b[39m\u001b[38;5;124m'\u001b[39m\u001b[38;5;124m[name=\u001b[39m\u001b[38;5;124m\"\u001b[39m\u001b[38;5;132;01m{\u001b[39;00mvalue\u001b[38;5;132;01m}\u001b[39;00m\u001b[38;5;124m\"\u001b[39m\u001b[38;5;124m]\u001b[39m\u001b[38;5;124m'\u001b[39m\n\u001b[1;32m--> 417\u001b[0m \u001b[38;5;28;01mreturn\u001b[39;00m \u001b[38;5;28;43mself\u001b[39;49m\u001b[38;5;241;43m.\u001b[39;49m\u001b[43m_execute\u001b[49m\u001b[43m(\u001b[49m\u001b[43mCommand\u001b[49m\u001b[38;5;241;43m.\u001b[39;49m\u001b[43mFIND_CHILD_ELEMENT\u001b[49m\u001b[43m,\u001b[49m\u001b[43m \u001b[49m\u001b[43m{\u001b[49m\u001b[38;5;124;43m\"\u001b[39;49m\u001b[38;5;124;43musing\u001b[39;49m\u001b[38;5;124;43m\"\u001b[39;49m\u001b[43m:\u001b[49m\u001b[43m \u001b[49m\u001b[43mby\u001b[49m\u001b[43m,\u001b[49m\u001b[43m \u001b[49m\u001b[38;5;124;43m\"\u001b[39;49m\u001b[38;5;124;43mvalue\u001b[39;49m\u001b[38;5;124;43m\"\u001b[39;49m\u001b[43m:\u001b[49m\u001b[43m \u001b[49m\u001b[43mvalue\u001b[49m\u001b[43m}\u001b[49m\u001b[43m)\u001b[49m[\u001b[38;5;124m\"\u001b[39m\u001b[38;5;124mvalue\u001b[39m\u001b[38;5;124m\"\u001b[39m]\n",
      "File \u001b[1;32m~\\AppData\\Local\\Packages\\PythonSoftwareFoundation.Python.3.12_qbz5n2kfra8p0\\LocalCache\\local-packages\\Python312\\site-packages\\selenium\\webdriver\\remote\\webelement.py:395\u001b[0m, in \u001b[0;36mWebElement._execute\u001b[1;34m(self, command, params)\u001b[0m\n\u001b[0;32m    393\u001b[0m     params \u001b[38;5;241m=\u001b[39m {}\n\u001b[0;32m    394\u001b[0m params[\u001b[38;5;124m\"\u001b[39m\u001b[38;5;124mid\u001b[39m\u001b[38;5;124m\"\u001b[39m] \u001b[38;5;241m=\u001b[39m \u001b[38;5;28mself\u001b[39m\u001b[38;5;241m.\u001b[39m_id\n\u001b[1;32m--> 395\u001b[0m \u001b[38;5;28;01mreturn\u001b[39;00m \u001b[38;5;28;43mself\u001b[39;49m\u001b[38;5;241;43m.\u001b[39;49m\u001b[43m_parent\u001b[49m\u001b[38;5;241;43m.\u001b[39;49m\u001b[43mexecute\u001b[49m\u001b[43m(\u001b[49m\u001b[43mcommand\u001b[49m\u001b[43m,\u001b[49m\u001b[43m \u001b[49m\u001b[43mparams\u001b[49m\u001b[43m)\u001b[49m\n",
      "File \u001b[1;32m~\\AppData\\Local\\Packages\\PythonSoftwareFoundation.Python.3.12_qbz5n2kfra8p0\\LocalCache\\local-packages\\Python312\\site-packages\\selenium\\webdriver\\remote\\webdriver.py:354\u001b[0m, in \u001b[0;36mWebDriver.execute\u001b[1;34m(self, driver_command, params)\u001b[0m\n\u001b[0;32m    352\u001b[0m response \u001b[38;5;241m=\u001b[39m \u001b[38;5;28mself\u001b[39m\u001b[38;5;241m.\u001b[39mcommand_executor\u001b[38;5;241m.\u001b[39mexecute(driver_command, params)\n\u001b[0;32m    353\u001b[0m \u001b[38;5;28;01mif\u001b[39;00m response:\n\u001b[1;32m--> 354\u001b[0m     \u001b[38;5;28;43mself\u001b[39;49m\u001b[38;5;241;43m.\u001b[39;49m\u001b[43merror_handler\u001b[49m\u001b[38;5;241;43m.\u001b[39;49m\u001b[43mcheck_response\u001b[49m\u001b[43m(\u001b[49m\u001b[43mresponse\u001b[49m\u001b[43m)\u001b[49m\n\u001b[0;32m    355\u001b[0m     response[\u001b[38;5;124m\"\u001b[39m\u001b[38;5;124mvalue\u001b[39m\u001b[38;5;124m\"\u001b[39m] \u001b[38;5;241m=\u001b[39m \u001b[38;5;28mself\u001b[39m\u001b[38;5;241m.\u001b[39m_unwrap_value(response\u001b[38;5;241m.\u001b[39mget(\u001b[38;5;124m\"\u001b[39m\u001b[38;5;124mvalue\u001b[39m\u001b[38;5;124m\"\u001b[39m, \u001b[38;5;28;01mNone\u001b[39;00m))\n\u001b[0;32m    356\u001b[0m     \u001b[38;5;28;01mreturn\u001b[39;00m response\n",
      "File \u001b[1;32m~\\AppData\\Local\\Packages\\PythonSoftwareFoundation.Python.3.12_qbz5n2kfra8p0\\LocalCache\\local-packages\\Python312\\site-packages\\selenium\\webdriver\\remote\\errorhandler.py:229\u001b[0m, in \u001b[0;36mErrorHandler.check_response\u001b[1;34m(self, response)\u001b[0m\n\u001b[0;32m    227\u001b[0m         alert_text \u001b[38;5;241m=\u001b[39m value[\u001b[38;5;124m\"\u001b[39m\u001b[38;5;124malert\u001b[39m\u001b[38;5;124m\"\u001b[39m]\u001b[38;5;241m.\u001b[39mget(\u001b[38;5;124m\"\u001b[39m\u001b[38;5;124mtext\u001b[39m\u001b[38;5;124m\"\u001b[39m)\n\u001b[0;32m    228\u001b[0m     \u001b[38;5;28;01mraise\u001b[39;00m exception_class(message, screen, stacktrace, alert_text)  \u001b[38;5;66;03m# type: ignore[call-arg]  # mypy is not smart enough here\u001b[39;00m\n\u001b[1;32m--> 229\u001b[0m \u001b[38;5;28;01mraise\u001b[39;00m exception_class(message, screen, stacktrace)\n",
      "\u001b[1;31mNoSuchWindowException\u001b[0m: Message: no such window: target window already closed\nfrom unknown error: web view not found\n  (Session info: chrome=126.0.6478.127)\nStacktrace:\n\tGetHandleVerifier [0x00EEC203+27395]\n\t(No symbol) [0x00E83E04]\n\t(No symbol) [0x00D81B7F]\n\t(No symbol) [0x00D5E483]\n\t(No symbol) [0x00DEA06F]\n\t(No symbol) [0x00DFC3D6]\n\t(No symbol) [0x00DE3736]\n\t(No symbol) [0x00DB7541]\n\t(No symbol) [0x00DB80BD]\n\tGetHandleVerifier [0x011A3AB3+2876339]\n\tGetHandleVerifier [0x011F7F7D+3221629]\n\tGetHandleVerifier [0x00F6D674+556916]\n\tGetHandleVerifier [0x00F7478C+585868]\n\t(No symbol) [0x00E8CE44]\n\t(No symbol) [0x00E89858]\n\t(No symbol) [0x00E899F7]\n\t(No symbol) [0x00E7BF4E]\n\tBaseThreadInitThunk [0x76627BA9+25]\n\tRtlInitializeExceptionChain [0x7780BE3B+107]\n\tRtlClearBits [0x7780BDBF+191]\n"
     ]
    }
   ],
   "source": [
    "job_card = job_cards[0]\n",
    "link = job_card.find_element(By.XPATH, \".//a\")\n",
    "# Opening a particular Job card to reveal the Job description.\n",
    "link.click()\n",
    "\n",
    "# Grabbing the div element that cotains the Job description.\n",
    "job_desc_panel = WebDriverWait(driver, 10).until(ec.element_to_be_clickable((By.CSS_SELECTOR, \"div[class='jobs-search__job-details--wrapper']\")))\n",
    "\n",
    "# Scrolling to load all the contents of the JD\n",
    "(driver).execute_script(\"arguments[0].scrollTo(0,6000000);\", job_desc_panel)\n",
    "\n",
    "company_name =  job_desc_panel.find_element(By.XPATH, \".//div[@class = 'job-details-jobs-unified-top-card__company-name']\").text\n",
    "job_title = job_desc_panel.find_element(By.XPATH,\".//h1[@class = 't-24 t-bold inline']\")\n",
    "\n",
    "print(\"company name: \", company_name)\n",
    "print(\"job_title: \", job_title.text)\n",
    "\n",
    "\n",
    "job_desc_panel = WebDriverWait(driver, 10).until(ec.element_to_be_clickable((By.CSS_SELECTOR, \"div[class='jobs-search__job-details--wrapper']\")))\n",
    "\n",
    "# parsing the JD for key-words \n",
    "child_elements = job_desc_panel.find_elements(By.XPATH, \".//*\")\n",
    "out_text = \"\"\n",
    "for element in child_elements:\n",
    "    if element.tag_name in [\"p\", \"li\"]:\n",
    "        out_text += element.text\n",
    "\n",
    "\n",
    "out_text\n"
   ]
  },
  {
   "cell_type": "code",
   "execution_count": 56,
   "metadata": {},
   "outputs": [
    {
     "name": "stdout",
     "output_type": "stream",
     "text": [
      "21 Skills found in the job description: ['programming', 'azure', 'neural networks', 'spark', 'machine learning', 'pandas', 'sql', 'mathematics', 'regression', 'clustering', 'tensorflow', 'pytorch', 'xgboost', 'gcp', 'mlflow', 'statistics', 'curiosity', 'numpy', 'deep learning', 'python', 'aws']\n"
     ]
    }
   ],
   "source": [
    "found_skills = extract_skills(out_text, skill_keywords)\n",
    "print(len(found_skills),  \"Skills found in the job description:\", found_skills)"
   ]
  },
  {
   "cell_type": "code",
   "execution_count": null,
   "metadata": {},
   "outputs": [
    {
     "data": {
      "text/plain": [
       "'Remote\\nMatches your job preferences, workplace type is Remote.\\nInternship InternshipSkills: Neural Machine Translation (NMT), Large Language Models (LLM)See how you compare to over 100 other applicants. Reactivate PremiumAm I a good fit for this job?How can I best position myself for this job?Tell me more about Sony Rese...Sony Research India is driving cutting-edge research and development in various locations around the globe, including laboratories in Japan, the United States, Europe, and Asia. We endeavor to create new technology, products, and services while sustaining Sony Group’s diverse businesses in electronics, entertainment, and financial fields. For our research center to blaze a trail in the latest technologies, we seek to foster the growth of a diverse pool of engineering talent and create a technology talent bank to drive research excellence worldwide. Sony Research India (SRI) is offering outstanding career opportunities around frontline technologies such as AI and data analytics.Key responsibility:Collaborate with research scientists and other team members on fundamental development activities daily. Engage in Large Language Model (LLM) finetuning tasks for Neural Machine Translation (NMT) projects. Additionally, contribute to related research areas within the project, including the development of automatic translation systems for Indian languages, synthetic data generation, and other emerging fields in LLM research.Work Location:RemoteDuration of the paid internship:The paid internship will be for 6 months starting August first week9:00 to 18:00 (Monday to Friday)Education:Ph.D. or Master from Computer Science background or bachelor with hands-on experience on Natural Language Processing (NLP), LLMs and Python.Must Have Skills:PytorchDeep Learning/Machine Learning frameworks: Pytorch, Tensorflow, scikit-learnKnowledge of the state-of-the-art in LLM: Foundation Models, Neural Machine TranslationKnowledge of generative AI modelsGood to have skills:Expertise in Pytorch.Prior experience in the development of the Indian language NMT.Strong mathematical understanding of ML conceptsPapers in top conferences like ICML, NeurIPS, AAAI etc.Our Values:Dreams & Curiosity: Pioneer the future with dreams and curiosity.Diversity: Pursue the creation of the very best by harnessing diversity and varying viewpoints.Integrity & Sincerity: Earn the trust of the Sony brand through ethical and responsible conduct.Sustainability: Fulfill our stakeholder responsibilities through disciplined business practices.Sony Research India is committed to equal opportunity in all its employment practices, policies, and procedures and to ensuring that no worker or potential worker will receive less favorable treatment due to any characteristic protected under applicable local laws.Get exclusive access to applicant insights, see jobs where you’d be a top applicant and moreThejus and millions of other members use PremiumCancel anytime, for any reason.Sony Research India Private Limited was established in July 2020 as a research company in India as part of Sony’s global R&D centres. Delivering Excitement, Passion, Joy, and Compassion to the World, all is possible with the diverse research opportunities we offer at Sony Research India. We venture into entertainment, healthcare, music and gaming. We also devise mobility solutions that help people get around securely and safely and support creators expand their creativity with innovative AI applications. Sony Research India is a place to apply a wide range of technologies to inspire emotion in new fields.\\n…\\nshow more'"
      ]
     },
     "execution_count": 15,
     "metadata": {},
     "output_type": "execute_result"
    }
   ],
   "source": [
    "out_text"
   ]
  },
  {
   "cell_type": "code",
   "execution_count": 32,
   "metadata": {},
   "outputs": [
    {
     "data": {
      "text/plain": [
       "'https://www.linkedin.com/jobs/view/3982947346/?eBP=BUDGET_EXHAUSTED_JOB&refId=Mc0GTF9NRQdPTOl2Bhoo5Q%3D%3D&trackingId=isG9b6OxLfWrO6KKwUzeDQ%3D%3D&trk=flagship3_search_srp_jobs'"
      ]
     },
     "execution_count": 32,
     "metadata": {},
     "output_type": "execute_result"
    }
   ],
   "source": [
    "link.get_attribute('href')"
   ]
  },
  {
   "cell_type": "markdown",
   "metadata": {},
   "source": [
    "test code"
   ]
  },
  {
   "cell_type": "code",
   "execution_count": 142,
   "metadata": {},
   "outputs": [
    {
     "name": "stdout",
     "output_type": "stream",
     "text": [
      "https://www.linkedin.com/jobs/view/3947263411/?eBP=CwEAAAGQ_i7efWzgonR1sp-oT76Ov5yUNSf1kxVrxfXjCPvgwK-hzqBxO8kvi9alqfOkQUxwfdr6OctufFRLsnCU9QZCqx8-CG4f21yaI2Zqvy_vUzWOjg0m8hfmKFqbgnkXzhYBvmfa9_n-PA9D5oz3xyuOwarvFsGxwBWfqM4D1XwNZ72pV16xdJr9MeTycgvSztOxPJpGYW4HjSI-1jYT2VCn_EAYWAuD62puiRhww3NR-G5EpAQeUq0HCVmyQvglP8lTaLXZgd-78HvLMtr0NDOjAHTDeuCJg4YPbPHrVfb9H_Vd5fUTM70OX3nKJbKi_YPqr2jZYfppgGPk0E2561NW6-HvTjlycqfaQLlAOsoxmil3dNhw8DB5JPabU2cFYqnJELjVkDC32J_R7Z42kJU23tJdfD4gEuuARC_XTVCZBfL07eOXLvA4WzoPu8Po0l8zfQa90YuUC-k-3FjycJcQcsDxbkUiVwWPPt-MJWA0gUlnIE05siOAKFY&refId=CEBrs%2B4oU1krhalgIxoUng%3D%3D&trackingId=fsefSf1R%2BhlLqMoxD8p39w%3D%3D&trk=flagship3_search_srp_jobs\n",
      "company name:  Fynd (Shopsense Retail Technologies Ltd.)\n",
      "job_title:  Computer Vision and Machine Learning Researcher\n"
     ]
    },
    {
     "ename": "StaleElementReferenceException",
     "evalue": "Message: stale element reference: stale element not found in the current frame\n  (Session info: chrome=126.0.6478.127); For documentation on this error, please visit: https://www.selenium.dev/documentation/webdriver/troubleshooting/errors#stale-element-reference-exception\nStacktrace:\n\tGetHandleVerifier [0x00EEC203+27395]\n\t(No symbol) [0x00E83E04]\n\t(No symbol) [0x00D81B7F]\n\t(No symbol) [0x00D86C7F]\n\t(No symbol) [0x00D888F8]\n\t(No symbol) [0x00D88970]\n\t(No symbol) [0x00DBDFA7]\n\t(No symbol) [0x00DE399C]\n\t(No symbol) [0x00DB8C15]\n\t(No symbol) [0x00DE3C34]\n\t(No symbol) [0x00DFCB24]\n\t(No symbol) [0x00DE3736]\n\t(No symbol) [0x00DB7541]\n\t(No symbol) [0x00DB80BD]\n\tGetHandleVerifier [0x011A3AB3+2876339]\n\tGetHandleVerifier [0x011F7F7D+3221629]\n\tGetHandleVerifier [0x00F6D674+556916]\n\tGetHandleVerifier [0x00F7478C+585868]\n\t(No symbol) [0x00E8CE44]\n\t(No symbol) [0x00E89858]\n\t(No symbol) [0x00E899F7]\n\t(No symbol) [0x00E7BF4E]\n\tBaseThreadInitThunk [0x76627BA9+25]\n\tRtlInitializeExceptionChain [0x7780BE3B+107]\n\tRtlClearBits [0x7780BDBF+191]\n",
     "output_type": "error",
     "traceback": [
      "\u001b[1;31m---------------------------------------------------------------------------\u001b[0m",
      "\u001b[1;31mStaleElementReferenceException\u001b[0m            Traceback (most recent call last)",
      "Cell \u001b[1;32mIn[142], line 29\u001b[0m\n\u001b[0;32m     27\u001b[0m out_text \u001b[38;5;241m=\u001b[39m \u001b[38;5;124m\"\u001b[39m\u001b[38;5;124m\"\u001b[39m\n\u001b[0;32m     28\u001b[0m \u001b[38;5;28;01mfor\u001b[39;00m element \u001b[38;5;129;01min\u001b[39;00m child_elements:\n\u001b[1;32m---> 29\u001b[0m     \u001b[38;5;28;01mif\u001b[39;00m \u001b[43melement\u001b[49m\u001b[38;5;241;43m.\u001b[39;49m\u001b[43mtag_name\u001b[49m \u001b[38;5;129;01min\u001b[39;00m [\u001b[38;5;124m\"\u001b[39m\u001b[38;5;124mp\u001b[39m\u001b[38;5;124m\"\u001b[39m, \u001b[38;5;124m\"\u001b[39m\u001b[38;5;124mli\u001b[39m\u001b[38;5;124m\"\u001b[39m]:\n\u001b[0;32m     30\u001b[0m         out_text \u001b[38;5;241m+\u001b[39m\u001b[38;5;241m=\u001b[39m element\u001b[38;5;241m.\u001b[39mtext\n\u001b[0;32m     33\u001b[0m found_skills \u001b[38;5;241m=\u001b[39m extract_skills(out_text, skill_keywords)\n",
      "File \u001b[1;32m~\\AppData\\Local\\Packages\\PythonSoftwareFoundation.Python.3.12_qbz5n2kfra8p0\\LocalCache\\local-packages\\Python312\\site-packages\\selenium\\webdriver\\remote\\webelement.py:85\u001b[0m, in \u001b[0;36mWebElement.tag_name\u001b[1;34m(self)\u001b[0m\n\u001b[0;32m     82\u001b[0m \u001b[38;5;129m@property\u001b[39m\n\u001b[0;32m     83\u001b[0m \u001b[38;5;28;01mdef\u001b[39;00m \u001b[38;5;21mtag_name\u001b[39m(\u001b[38;5;28mself\u001b[39m) \u001b[38;5;241m-\u001b[39m\u001b[38;5;241m>\u001b[39m \u001b[38;5;28mstr\u001b[39m:\n\u001b[0;32m     84\u001b[0m \u001b[38;5;250m    \u001b[39m\u001b[38;5;124;03m\"\"\"This element's ``tagName`` property.\"\"\"\u001b[39;00m\n\u001b[1;32m---> 85\u001b[0m     \u001b[38;5;28;01mreturn\u001b[39;00m \u001b[38;5;28;43mself\u001b[39;49m\u001b[38;5;241;43m.\u001b[39;49m\u001b[43m_execute\u001b[49m\u001b[43m(\u001b[49m\u001b[43mCommand\u001b[49m\u001b[38;5;241;43m.\u001b[39;49m\u001b[43mGET_ELEMENT_TAG_NAME\u001b[49m\u001b[43m)\u001b[49m[\u001b[38;5;124m\"\u001b[39m\u001b[38;5;124mvalue\u001b[39m\u001b[38;5;124m\"\u001b[39m]\n",
      "File \u001b[1;32m~\\AppData\\Local\\Packages\\PythonSoftwareFoundation.Python.3.12_qbz5n2kfra8p0\\LocalCache\\local-packages\\Python312\\site-packages\\selenium\\webdriver\\remote\\webelement.py:395\u001b[0m, in \u001b[0;36mWebElement._execute\u001b[1;34m(self, command, params)\u001b[0m\n\u001b[0;32m    393\u001b[0m     params \u001b[38;5;241m=\u001b[39m {}\n\u001b[0;32m    394\u001b[0m params[\u001b[38;5;124m\"\u001b[39m\u001b[38;5;124mid\u001b[39m\u001b[38;5;124m\"\u001b[39m] \u001b[38;5;241m=\u001b[39m \u001b[38;5;28mself\u001b[39m\u001b[38;5;241m.\u001b[39m_id\n\u001b[1;32m--> 395\u001b[0m \u001b[38;5;28;01mreturn\u001b[39;00m \u001b[38;5;28;43mself\u001b[39;49m\u001b[38;5;241;43m.\u001b[39;49m\u001b[43m_parent\u001b[49m\u001b[38;5;241;43m.\u001b[39;49m\u001b[43mexecute\u001b[49m\u001b[43m(\u001b[49m\u001b[43mcommand\u001b[49m\u001b[43m,\u001b[49m\u001b[43m \u001b[49m\u001b[43mparams\u001b[49m\u001b[43m)\u001b[49m\n",
      "File \u001b[1;32m~\\AppData\\Local\\Packages\\PythonSoftwareFoundation.Python.3.12_qbz5n2kfra8p0\\LocalCache\\local-packages\\Python312\\site-packages\\selenium\\webdriver\\remote\\webdriver.py:354\u001b[0m, in \u001b[0;36mWebDriver.execute\u001b[1;34m(self, driver_command, params)\u001b[0m\n\u001b[0;32m    352\u001b[0m response \u001b[38;5;241m=\u001b[39m \u001b[38;5;28mself\u001b[39m\u001b[38;5;241m.\u001b[39mcommand_executor\u001b[38;5;241m.\u001b[39mexecute(driver_command, params)\n\u001b[0;32m    353\u001b[0m \u001b[38;5;28;01mif\u001b[39;00m response:\n\u001b[1;32m--> 354\u001b[0m     \u001b[38;5;28;43mself\u001b[39;49m\u001b[38;5;241;43m.\u001b[39;49m\u001b[43merror_handler\u001b[49m\u001b[38;5;241;43m.\u001b[39;49m\u001b[43mcheck_response\u001b[49m\u001b[43m(\u001b[49m\u001b[43mresponse\u001b[49m\u001b[43m)\u001b[49m\n\u001b[0;32m    355\u001b[0m     response[\u001b[38;5;124m\"\u001b[39m\u001b[38;5;124mvalue\u001b[39m\u001b[38;5;124m\"\u001b[39m] \u001b[38;5;241m=\u001b[39m \u001b[38;5;28mself\u001b[39m\u001b[38;5;241m.\u001b[39m_unwrap_value(response\u001b[38;5;241m.\u001b[39mget(\u001b[38;5;124m\"\u001b[39m\u001b[38;5;124mvalue\u001b[39m\u001b[38;5;124m\"\u001b[39m, \u001b[38;5;28;01mNone\u001b[39;00m))\n\u001b[0;32m    356\u001b[0m     \u001b[38;5;28;01mreturn\u001b[39;00m response\n",
      "File \u001b[1;32m~\\AppData\\Local\\Packages\\PythonSoftwareFoundation.Python.3.12_qbz5n2kfra8p0\\LocalCache\\local-packages\\Python312\\site-packages\\selenium\\webdriver\\remote\\errorhandler.py:229\u001b[0m, in \u001b[0;36mErrorHandler.check_response\u001b[1;34m(self, response)\u001b[0m\n\u001b[0;32m    227\u001b[0m         alert_text \u001b[38;5;241m=\u001b[39m value[\u001b[38;5;124m\"\u001b[39m\u001b[38;5;124malert\u001b[39m\u001b[38;5;124m\"\u001b[39m]\u001b[38;5;241m.\u001b[39mget(\u001b[38;5;124m\"\u001b[39m\u001b[38;5;124mtext\u001b[39m\u001b[38;5;124m\"\u001b[39m)\n\u001b[0;32m    228\u001b[0m     \u001b[38;5;28;01mraise\u001b[39;00m exception_class(message, screen, stacktrace, alert_text)  \u001b[38;5;66;03m# type: ignore[call-arg]  # mypy is not smart enough here\u001b[39;00m\n\u001b[1;32m--> 229\u001b[0m \u001b[38;5;28;01mraise\u001b[39;00m exception_class(message, screen, stacktrace)\n",
      "\u001b[1;31mStaleElementReferenceException\u001b[0m: Message: stale element reference: stale element not found in the current frame\n  (Session info: chrome=126.0.6478.127); For documentation on this error, please visit: https://www.selenium.dev/documentation/webdriver/troubleshooting/errors#stale-element-reference-exception\nStacktrace:\n\tGetHandleVerifier [0x00EEC203+27395]\n\t(No symbol) [0x00E83E04]\n\t(No symbol) [0x00D81B7F]\n\t(No symbol) [0x00D86C7F]\n\t(No symbol) [0x00D888F8]\n\t(No symbol) [0x00D88970]\n\t(No symbol) [0x00DBDFA7]\n\t(No symbol) [0x00DE399C]\n\t(No symbol) [0x00DB8C15]\n\t(No symbol) [0x00DE3C34]\n\t(No symbol) [0x00DFCB24]\n\t(No symbol) [0x00DE3736]\n\t(No symbol) [0x00DB7541]\n\t(No symbol) [0x00DB80BD]\n\tGetHandleVerifier [0x011A3AB3+2876339]\n\tGetHandleVerifier [0x011F7F7D+3221629]\n\tGetHandleVerifier [0x00F6D674+556916]\n\tGetHandleVerifier [0x00F7478C+585868]\n\t(No symbol) [0x00E8CE44]\n\t(No symbol) [0x00E89858]\n\t(No symbol) [0x00E899F7]\n\t(No symbol) [0x00E7BF4E]\n\tBaseThreadInitThunk [0x76627BA9+25]\n\tRtlInitializeExceptionChain [0x7780BE3B+107]\n\tRtlClearBits [0x7780BDBF+191]\n"
     ]
    }
   ],
   "source": [
    "import time\n",
    "\n",
    "for job_card in job_cards:\n",
    "\n",
    "    link = job_card.find_element(By.XPATH, \".//a\")\n",
    "    # Opening a particular Job card to reveal the Job description.\n",
    "    link.click()\n",
    "\n",
    "    print(link.get_attribute('href'))\n",
    "\n",
    "    # Grabbing the div element that cotains the Job description.\n",
    "    job_desc_panel = WebDriverWait(driver, 10).until(ec.element_to_be_clickable((By.CSS_SELECTOR, \"div[class='jobs-search__job-details--wrapper']\")))\n",
    "\n",
    "    # Scrolling to load all the contents of the JD\n",
    "    (driver).execute_script(\"arguments[0].scrollTo(0,6000000);\", job_desc_panel)\n",
    "\n",
    "    company_name =  job_desc_panel.find_element(By.XPATH, \".//div[@class = 'job-details-jobs-unified-top-card__company-name']\").text\n",
    "    job_title = job_desc_panel.find_element(By.XPATH,\".//h1[@class = 't-24 t-bold inline']\")\n",
    "\n",
    "    print(\"company name: \", company_name)\n",
    "    print(\"job_title: \", job_title.text)\n",
    "\n",
    "    # parsing the JD for key-words \n",
    "    job_desc_panel = WebDriverWait(driver, 10).until(ec.element_to_be_clickable((By.CSS_SELECTOR, \"div[class='jobs-search__job-details--wrapper']\")))\n",
    "\n",
    "    child_elements = job_desc_panel.find_elements(By.XPATH, \".//*\")\n",
    "    out_text = \"\"\n",
    "    for element in child_elements:\n",
    "        if element.tag_name in [\"p\", \"li\"]:\n",
    "            out_text += element.text\n",
    "\n",
    "\n",
    "    found_skills = extract_skills(out_text, skill_keywords)\n",
    "    print(len(found_skills),  \"Skills found in the job description:\", found_skills)\n",
    "    time.sleep(5)\n"
   ]
  },
  {
   "cell_type": "code",
   "execution_count": 35,
   "metadata": {},
   "outputs": [],
   "source": [
    "driver.get(link_list[0])\n",
    "see_more_button = WebDriverWait(driver, 10).until(ec.element_to_be_clickable((By.CSS_SELECTOR, \"button[aria-label='Click to see more description']\")))\n",
    "see_more_button.click()"
   ]
  },
  {
   "cell_type": "code",
   "execution_count": 56,
   "metadata": {},
   "outputs": [],
   "source": [
    "conpany_details = {\"company_name\":[], \"job_title\": [], \"job_description\":[], \"required_skills\": []}"
   ]
  },
  {
   "cell_type": "code",
   "execution_count": 57,
   "metadata": {},
   "outputs": [
    {
     "name": "stdout",
     "output_type": "stream",
     "text": [
      "company name:  Fynd (Shopsense Retail Technologies Ltd.)\n",
      "job_title:  Computer Vision and Machine Learning Researcher\n",
      "company name:  Samsung Electro-Mechanics\n",
      "job_title:  Image Processing Engineer\n",
      "company name:  ADA\n",
      "job_title:  Machine Learning Scientist\n",
      "company name:  Zeitview \n",
      "job_title:  ML Engineer\n",
      "company name:  Brick & Bolt\n",
      "job_title:  Machine Learning Engineer\n",
      "company name:  Fynd (Shopsense Retail Technologies Ltd.)\n",
      "job_title:  Machine Learning | SDE - 1 / SDE - 2 | PixelBin\n",
      "company name:  Lytx, Inc.\n",
      "job_title:  Machine Learning Scientist I\n",
      "company name:  RentoMojo\n",
      "job_title:  Data Science & ML Engineer\n"
     ]
    }
   ],
   "source": [
    "for link in link_list:\n",
    "    driver.get(link)\n",
    "    see_more_button = WebDriverWait(driver, 10).until(ec.element_to_be_clickable((By.CSS_SELECTOR, \"button[aria-label='Click to see more description']\")))\n",
    "    see_more_button.click()\n",
    "    company_name =  driver.find_element(By.XPATH, \".//div[@class = 'job-details-jobs-unified-top-card__company-name']\").text\n",
    "    job_title = driver.find_element(By.XPATH,\".//h1[@class = 't-24 t-bold inline']\").text\n",
    "    conpany_details[\"company_name\"].append(company_name)\n",
    "    conpany_details[\"job_title\"].append(job_title)\n",
    "    company_details[\"job_description\"].append()\n",
    "    print(\"company name: \", company_name)\n",
    "    print(\"job_title: \", job_title)\n",
    "\n",
    "    job_cdesc_container = WebDriverWait(driver, 10).until(ec.element_to_be_clickable((By.XPATH, '//article[starts-with(@class, \"jobs-description__container\")]')))\n",
    "\n",
    "\n",
    "    child_elements = job_cdesc_container.find_elements(By.XPATH, \".//*\")\n",
    "    out_text = \"\"\n",
    "    for element in child_elements:\n",
    "        if element.tag_name in [\"p\", \"li\"]:\n",
    "            out_text += element.text\n",
    "\n",
    "    \n",
    "    print(out_text)\n",
    "\n",
    "    found_skills = extract_skills(out_text, skill_keywords)\n",
    "    # print(len(found_skills),  \"Skills found in the job description:\", found_skills)\n",
    "    conpany_details[\"required_skills\"].append(found_skills)\n",
    "\n",
    "\n"
   ]
  },
  {
   "cell_type": "code",
   "execution_count": 42,
   "metadata": {},
   "outputs": [],
   "source": [
    "\n"
   ]
  },
  {
   "cell_type": "code",
   "execution_count": null,
   "metadata": {},
   "outputs": [],
   "source": [
    "see_more_button = WebDriverWait(driver, 10).until(ec.element_to_be_clickable((By.CSS_SELECTOR, \"button[aria-label='Click to see more description']\")))\n",
    "\n",
    "job_desc_panel = WebDriverWait(driver, 10).until(ec.element_to_be_clickable((By.CSS_SELECTOR, \"div[class='jobs-search__job-details--wrapper']\")))\n",
    "\n",
    "(driver).execute_script(\"arguments[0].scrollTo(0,6000000);\", job_desc_panel)\n",
    "\n",
    "company_name =  job_desc_panel.find_element(By.XPATH, \".//div[@class = 'job-details-jobs-unified-top-card__company-name']\").text\n",
    "job_title = job_desc_panel.find_element(By.XPATH,\".//h1[@class = 't-24 t-bold inline']\")\n",
    "\n",
    "print(\"company name: \", company_name)\n",
    "print(\"job_title: \", job_title.text)\n",
    "\n",
    "child_elements = job_desc_panel.find_elements(By.XPATH, \".//*\")\n",
    "out_text = \"\"\n",
    "for element in child_elements:\n",
    "    if element.tag_name in [\"p\", \"li\"]:\n",
    "        out_text += element.text\n",
    "\n",
    "found_skills = extract_skills(out_text, skill_keywords)\n",
    "print(len(found_skills),  \"Skills found in the job description:\", found_skills)"
   ]
  },
  {
   "cell_type": "code",
   "execution_count": 54,
   "metadata": {},
   "outputs": [
    {
     "name": "stdout",
     "output_type": "stream",
     "text": [
      "{'company_name': 'RentoMojo', 'job_title': 'Data Science & ML Engineer', 'required_skills': ['r', 'collaboration', 'scikit-learn', 'programming', 'numpy', 'tensorflow', 'pandas', 'problem-solving', 'data analysis', 'presentation skills', 'optimization', 'python', 'lstm', 'machine learning']}\n"
     ]
    }
   ],
   "source": [
    "print(conpany_details)"
   ]
  },
  {
   "cell_type": "code",
   "execution_count": 59,
   "metadata": {},
   "outputs": [],
   "source": [
    "import pandas as pd\n",
    "df = pd.DataFrame(conpany_details)"
   ]
  },
  {
   "cell_type": "code",
   "execution_count": 61,
   "metadata": {},
   "outputs": [
    {
     "data": {
      "text/plain": [
       "['unsupervised learning',\n",
       " 'python',\n",
       " 'programming',\n",
       " 'computer vision',\n",
       " 'tensorflow',\n",
       " 'mathematics',\n",
       " 'neural networks',\n",
       " 'keras',\n",
       " 'object detection',\n",
       " 'linear algebra',\n",
       " 'convolutional neural networks',\n",
       " 'deep learning',\n",
       " 'machine learning',\n",
       " 'pytorch',\n",
       " 'software development',\n",
       " 'programming',\n",
       " 'computer vision',\n",
       " 'communication skills',\n",
       " 'tensorflow',\n",
       " 'version control',\n",
       " 'problem-solving',\n",
       " 'optimization',\n",
       " 'machine learning',\n",
       " 'pytorch',\n",
       " 'tensorflow',\n",
       " 'statistics',\n",
       " 'sql',\n",
       " 'problem-solving',\n",
       " 'python',\n",
       " 'machine learning',\n",
       " 'pytorch',\n",
       " 'python',\n",
       " 'computer vision',\n",
       " 'deep learning',\n",
       " 'machine learning',\n",
       " 'computer vision',\n",
       " 'problem-solving',\n",
       " 'transfer learning',\n",
       " 'data augmentation',\n",
       " 'machine learning',\n",
       " 'gcp',\n",
       " 'pytorch',\n",
       " 'computer vision',\n",
       " 'feature store',\n",
       " 'onnx',\n",
       " 'tensorflow',\n",
       " 'classification',\n",
       " 'java',\n",
       " 'keras',\n",
       " 'object detection',\n",
       " 'business analytics',\n",
       " 'scala',\n",
       " 'machine learning',\n",
       " 'feature engineering',\n",
       " 'optimization',\n",
       " 'deep learning',\n",
       " 'programming',\n",
       " 'numpy',\n",
       " 'aws',\n",
       " 'neural networks',\n",
       " 'pandas',\n",
       " 'convolutional neural networks',\n",
       " 'data integration',\n",
       " 'python',\n",
       " 'probability',\n",
       " 'pytorch',\n",
       " 'programming',\n",
       " 'problem-solving',\n",
       " 'data engineering',\n",
       " 'r',\n",
       " 'collaboration',\n",
       " 'scikit-learn',\n",
       " 'programming',\n",
       " 'numpy',\n",
       " 'tensorflow',\n",
       " 'pandas',\n",
       " 'problem-solving',\n",
       " 'data analysis',\n",
       " 'presentation skills',\n",
       " 'optimization',\n",
       " 'python',\n",
       " 'lstm',\n",
       " 'machine learning']"
      ]
     },
     "execution_count": 61,
     "metadata": {},
     "output_type": "execute_result"
    }
   ],
   "source": [
    "skills = []\n",
    "for i in df.required_skills:\n",
    "    skills.extend(i)\n",
    "\n",
    "skills"
   ]
  },
  {
   "cell_type": "code",
   "execution_count": 64,
   "metadata": {},
   "outputs": [
    {
     "name": "stderr",
     "output_type": "stream",
     "text": [
      "C:\\Users\\sudar\\AppData\\Local\\Temp\\ipykernel_12132\\3644860263.py:4: UserWarning: set_ticklabels() should only be used with a fixed number of ticks, i.e. after set_ticks() or using a FixedLocator.\n",
      "  my_plot.set_xticklabels(my_plot.get_xticklabels(), rotation=90)\n"
     ]
    },
    {
     "data": {
      "text/plain": [
       "[Text(0, 0, 'unsupervised learning'),\n",
       " Text(1, 0, 'python'),\n",
       " Text(2, 0, 'programming'),\n",
       " Text(3, 0, 'computer vision'),\n",
       " Text(4, 0, 'tensorflow'),\n",
       " Text(5, 0, 'mathematics'),\n",
       " Text(6, 0, 'neural networks'),\n",
       " Text(7, 0, 'keras'),\n",
       " Text(8, 0, 'object detection'),\n",
       " Text(9, 0, 'linear algebra'),\n",
       " Text(10, 0, 'convolutional neural networks'),\n",
       " Text(11, 0, 'deep learning'),\n",
       " Text(12, 0, 'machine learning'),\n",
       " Text(13, 0, 'pytorch'),\n",
       " Text(14, 0, 'software development'),\n",
       " Text(15, 0, 'communication skills'),\n",
       " Text(16, 0, 'version control'),\n",
       " Text(17, 0, 'problem-solving'),\n",
       " Text(18, 0, 'optimization'),\n",
       " Text(19, 0, 'statistics'),\n",
       " Text(20, 0, 'sql'),\n",
       " Text(21, 0, 'transfer learning'),\n",
       " Text(22, 0, 'data augmentation'),\n",
       " Text(23, 0, 'gcp'),\n",
       " Text(24, 0, 'feature store'),\n",
       " Text(25, 0, 'onnx'),\n",
       " Text(26, 0, 'classification'),\n",
       " Text(27, 0, 'java'),\n",
       " Text(28, 0, 'business analytics'),\n",
       " Text(29, 0, 'scala'),\n",
       " Text(30, 0, 'feature engineering'),\n",
       " Text(31, 0, 'numpy'),\n",
       " Text(32, 0, 'aws'),\n",
       " Text(33, 0, 'pandas'),\n",
       " Text(34, 0, 'data integration'),\n",
       " Text(35, 0, 'probability'),\n",
       " Text(36, 0, 'data engineering'),\n",
       " Text(37, 0, 'r'),\n",
       " Text(38, 0, 'collaboration'),\n",
       " Text(39, 0, 'scikit-learn'),\n",
       " Text(40, 0, 'data analysis'),\n",
       " Text(41, 0, 'presentation skills'),\n",
       " Text(42, 0, 'lstm')]"
      ]
     },
     "execution_count": 64,
     "metadata": {},
     "output_type": "execute_result"
    },
    {
     "data": {
      "image/png": "[encoded data removed]",
      "text/plain": [
       "<Figure size 640x480 with 1 Axes>"
      ]
     },
     "metadata": {},
     "output_type": "display_data"
    }
   ],
   "source": [
    "import seaborn as sb\n",
    "\n",
    "my_plot = sb.countplot(x = skills)\n",
    "my_plot.set_xticklabels(my_plot.get_xticklabels(), rotation=90)\n"
   ]
  },
  {
   "cell_type": "code",
   "execution_count": 66,
   "metadata": {},
   "outputs": [
    {
     "data": {
      "text/plain": [
       "' Data Analysis and Preprocessing:Collect, clean, and preprocess data from various sources including order data, vehicle usage data, and inventory levels.Identify patterns and trends in historical data to understand demand fluctuations. Predictive Modeling:Develop and implement predictive models to forecast vehicle requirements for logistics based on historical order data, vehicle usage trends, and other relevant factors.Create inventory prediction models to optimize procurement and ensure adequate stock levels. Optimization:Use advanced analytics and machine learning techniques to optimize routing and scheduling of vehicles, considering constraints like operating hours, touchpoints, and distance.Integrate constraints related to vehicle capacity, delivery times, and geographic distribution. Blockchain Integration (Optional):Explore the potential of blockchain technology for enhancing supply chain transparency, smart contracts, and proof of delivery systems.Collaborate with the tech team to prototype and test blockchain-based solutions. Collaboration:Work closely with the logistics, supply chain, and tech teams to understand business requirements and deliver actionable insights.Present findings and recommendations to stakeholders in a clear and concise manner.Strong programming skills in Python or R.Experience with data analysis libraries (e.g., pandas, NumPy) and machine learning frameworks (e.g., scikit-learn, TensorFlow).Familiarity with time series forecasting models (e.g., Prophet, ARIMA, LSTM).Knowledge of optimization algorithms and tools (e.g., Google OR-Tools).Understanding of blockchain technology and its applications (optional but a plus).Strong analytical and problem-solving skills.Ability to work with large datasets and perform complex data analysis.Excellent communication and presentation skills.Ability to work collaboratively in a team environment.High level of motivation and eagerness to learn.'"
      ]
     },
     "execution_count": 66,
     "metadata": {},
     "output_type": "execute_result"
    }
   ],
   "source": [
    "out_text"
   ]
  },
  {
   "cell_type": "code",
   "execution_count": 67,
   "metadata": {},
   "outputs": [
    {
     "name": "stdout",
     "output_type": "stream",
     "text": [
      "2+\n"
     ]
    }
   ],
   "source": [
    "import re\n",
    "\n",
    "def extract_years_of_experience(text):\n",
    "    # Regular expression to find patterns like \"2+ years\", \"3 years of experience\", \"5+ years\"\n",
    "    pattern = r'(\\d+\\+?)\\s*(years|yrs|years of experience)'\n",
    "    matches = re.findall(pattern, text, re.IGNORECASE)\n",
    "    \n",
    "    # Extract and return the first number found\n",
    "    if matches:\n",
    "        return matches[0][0]\n",
    "    return None\n",
    "\n",
    "# Example job description text\n",
    "job_description = \"\"\"\n",
    "As a Machine Learning Engineer, the purpose of this role is to work with our machine learning research team to develop, implement and deploy machine learning and deep learning models. Our core area of work is in the field of computer vision so you will require some familiarity with convolutional neural networks.\n",
    "\n",
    "...\n",
    "\n",
    "Some specific requirements\n",
    "2+ years of experience implementing and deploying machine learning and deep learning frameworks through distributions cluster and application programming in cloud platforms including AWS and GCP.\n",
    "\"\"\"\n",
    "\n",
    "years_of_experience = extract_years_of_experience(job_description)\n",
    "print(years_of_experience)\n"
   ]
  },
  {
   "cell_type": "code",
   "execution_count": 104,
   "metadata": {},
   "outputs": [
    {
     "name": "stdout",
     "output_type": "stream",
     "text": [
      "7\n",
      "7\n",
      "9\n",
      "9\n",
      "10\n",
      "10\n"
     ]
    }
   ],
   "source": [
    "import time\n",
    "base_url = \"https://www.linkedin.com/jobs/search/?currentJobId=3947263411&keywords=machine%20learning&origin=SWITCH_SEARCH_VERTICAL&start=\"\n",
    "\n",
    "for i in range(3):\n",
    "    driver.get(base_url + str(i))\n",
    "    # job_list = WebDriverWait(driver, 10).until(ec.element_to_be_clickable((By.CSS_SELECTOR, \"ul[class='scaffold-layout__list-container']\")))\n",
    "    # job_list = WebDriverWait(driver, 10).until(ec.element_to_be_clickable((By.CSS_SELECTOR, \"ul[class='scaffold-layout__list-container']\")))\n",
    "    element = driver.find_element(By.CSS_SELECTOR, '.jobs-search-results-list')\n",
    "    job_cards = element.find_elements(By.XPATH, \".//div[@data-view-name = 'job-card']\")\n",
    "    print(len(job_cards))\n",
    "    # job_list = WebDriverWait(driver, 10).until(ec.element_to_be_clickable((By.CSS_SELECTOR, \"ul[class='scaffold-layout__list-container']\")))\n",
    "    (driver).execute_script(\"arguments[0].scrollTo(0,6000);\", element)\n",
    "    job_cards = element.find_elements(By.XPATH, \".//div[@data-view-name = 'job-card']\")\n",
    "    print(len(job_cards))\n",
    "    # time.sleep(5)       \n"
   ]
  },
  {
   "cell_type": "markdown",
   "metadata": {},
   "source": [
    "ember-view   jobs-search-results__list-item occludable-update p0 relative scaffold-layout__list-item"
   ]
  },
  {
   "cell_type": "code",
   "execution_count": 112,
   "metadata": {},
   "outputs": [
    {
     "data": {
      "text/plain": [
       "6"
      ]
     },
     "execution_count": 112,
     "metadata": {},
     "output_type": "execute_result"
    }
   ],
   "source": [
    "base_url = \"https://www.linkedin.com/jobs/search/?currentJobId=3947263411&keywords=machine%20learning&origin=SWITCH_SEARCH_VERTICAL&start=\"\n",
    "\n",
    "\n",
    "driver.get(base_url + \"25\")\n",
    "element = driver.find_element(By.CSS_SELECTOR, '.jobs-search-results-list')\n",
    "job_list = WebDriverWait(driver, 10).until(ec.element_to_be_clickable((By.CSS_SELECTOR, \"ul[class='scaffold-layout__list-container']\")))\n",
    "(driver).execute_script(\"arguments[0].scrollTo(0,6000000);\", element)\n",
    "job_cards = element.find_elements(By.XPATH, \".//div[@data-view-name = 'job-card']\")\n",
    "len(job_cards)"
   ]
  },
  {
   "cell_type": "code",
   "execution_count": 122,
   "metadata": {},
   "outputs": [
    {
     "data": {
      "text/plain": [
       "7"
      ]
     },
     "execution_count": 122,
     "metadata": {},
     "output_type": "execute_result"
    }
   ],
   "source": [
    "job_cards = element.find_elements(By.XPATH, \".//div[@data-view-name = 'job-card']\")\n",
    "len(job_cards)"
   ]
  },
  {
   "cell_type": "code",
   "execution_count": null,
   "metadata": {},
   "outputs": [],
   "source": []
  }
 ],
 "metadata": {
  "kernelspec": {
   "display_name": "Python 3",
   "language": "python",
   "name": "python3"
  },
  "language_info": {
   "codemirror_mode": {
    "name": "ipython",
    "version": 3
   },
   "file_extension": ".py",
   "mimetype": "text/x-python",
   "name": "python",
   "nbconvert_exporter": "python",
   "pygments_lexer": "ipython3",
   "version": "3.12.4"
  }
 },
 "nbformat": 4,
 "nbformat_minor": 2
}
